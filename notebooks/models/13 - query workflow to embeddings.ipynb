{
 "cells": [
  {
   "cell_type": "code",
   "execution_count": 1,
   "id": "e1a1bdd2-0824-44b6-bdea-4d8f5e19f6ef",
   "metadata": {},
   "outputs": [],
   "source": [
    "from earthtext.api import osmencoderauto"
   ]
  },
  {
   "cell_type": "markdown",
   "id": "3c52c347-84e4-4a4f-b49c-3441ae385343",
   "metadata": {},
   "source": [
    "# setup\n",
    "\n",
    "- select a folder to hold model and data, `$OSMENCODER_FOLDER`\n",
    "\n",
    "- copy into `$OSMENCODER_FOLDER` the following files\n",
    " \n",
    "    - `s3://clay-text/models/osm_emcoder__embeddings_v0.2-20240426__trainedon_2024-05-05_00:45.ckpt`\n",
    "    - `s3://clay-text/models/osm_emcoder__embeddings_v0.2-20240426__trainedon_2024-05-05_00:45.yaml`\n",
    "    - `s3://clay-text/california-worldcover-chips/california-worldcover-chips-osm-multilabels.parquet` \n",
    "\n",
    "- check that the property `metadata_file` on the `yaml` file points to the `parquet` file"
   ]
  },
  {
   "cell_type": "markdown",
   "id": "27c0b1de-846c-489c-bc9b-360b45040ec2",
   "metadata": {},
   "source": [
    "# load and initialize helper object\n"
   ]
  },
  {
   "cell_type": "code",
   "execution_count": 4,
   "id": "471c8212-75b3-41de-b29f-47a4be860274",
   "metadata": {},
   "outputs": [
    {
     "name": "stderr",
     "output_type": "stream",
     "text": [
      "\u001b[32m2024-05-05 03:49:06.244\u001b[0m | \u001b[1mINFO    \u001b[0m | \u001b[36mearthtext.api.osmencoderauto\u001b[0m:\u001b[36m__init__\u001b[0m:\u001b[36m30\u001b[0m - \u001b[1mosmencoder model is /opt/data/models/published/osm_emcoder__embeddings_v0.2-20240426__trainedon_2024-05-05_00:45.ckpt\u001b[0m\n",
      "\u001b[32m2024-05-05 03:49:06.245\u001b[0m | \u001b[1mINFO    \u001b[0m | \u001b[36mearthtext.api.osmencoderauto\u001b[0m:\u001b[36m__init__\u001b[0m:\u001b[36m31\u001b[0m - \u001b[1mautocompletion source is 'train'\u001b[0m\n",
      "\u001b[32m2024-05-05 03:49:06.251\u001b[0m | \u001b[1mINFO    \u001b[0m | \u001b[36mearthtext.api.osmencoderauto\u001b[0m:\u001b[36msetup\u001b[0m:\u001b[36m44\u001b[0m - \u001b[1mloading model\u001b[0m\n",
      "\u001b[32m2024-05-05 03:49:06.293\u001b[0m | \u001b[1mINFO    \u001b[0m | \u001b[36mearthtext.api.osmencoderauto\u001b[0m:\u001b[36msetup\u001b[0m:\u001b[36m48\u001b[0m - \u001b[1minitializing dataloaders\u001b[0m\n",
      "\u001b[32m2024-05-05 03:49:07.072\u001b[0m | \u001b[1mINFO    \u001b[0m | \u001b[36mearthtext.datamodules.components.chipmultilabel\u001b[0m:\u001b[36m__init__\u001b[0m:\u001b[36m93\u001b[0m - \u001b[1mchecking chip files for train split\u001b[0m\n",
      "\u001b[38;2;0;255;0m100%\u001b[39m \u001b[38;2;0;255;0m(60396 of 60396)\u001b[39m |##################| Elapsed Time: 0:00:02 Time:  0:00:020000\n",
      "\u001b[32m2024-05-05 03:49:09.399\u001b[0m | \u001b[1mINFO    \u001b[0m | \u001b[36mearthtext.datamodules.components.chipmultilabel\u001b[0m:\u001b[36m__init__\u001b[0m:\u001b[36m97\u001b[0m - \u001b[1mread train split with 60396 chip files (out of 60396)\u001b[0m\n",
      "\u001b[32m2024-05-05 03:49:09.400\u001b[0m | \u001b[1mINFO    \u001b[0m | \u001b[36mearthtext.datamodules.components.chipmultilabel\u001b[0m:\u001b[36m__init__\u001b[0m:\u001b[36m102\u001b[0m - \u001b[1mmax cache size is -1\u001b[0m\n",
      "\u001b[32m2024-05-05 03:49:10.121\u001b[0m | \u001b[1mINFO    \u001b[0m | \u001b[36mearthtext.datamodules.components.chipmultilabel\u001b[0m:\u001b[36m__init__\u001b[0m:\u001b[36m93\u001b[0m - \u001b[1mchecking chip files for val split\u001b[0m\n",
      "\u001b[38;2;0;255;0m100%\u001b[39m \u001b[38;2;0;255;0m(12304 of 12304)\u001b[39m |##################| Elapsed Time: 0:00:00 Time:  0:00:000:00\n",
      "\u001b[32m2024-05-05 03:49:10.590\u001b[0m | \u001b[1mINFO    \u001b[0m | \u001b[36mearthtext.datamodules.components.chipmultilabel\u001b[0m:\u001b[36m__init__\u001b[0m:\u001b[36m97\u001b[0m - \u001b[1mread val split with 12304 chip files (out of 12304)\u001b[0m\n",
      "\u001b[32m2024-05-05 03:49:10.591\u001b[0m | \u001b[1mINFO    \u001b[0m | \u001b[36mearthtext.datamodules.components.chipmultilabel\u001b[0m:\u001b[36m__init__\u001b[0m:\u001b[36m102\u001b[0m - \u001b[1mmax cache size is -1\u001b[0m\n",
      "\u001b[32m2024-05-05 03:49:11.288\u001b[0m | \u001b[1mINFO    \u001b[0m | \u001b[36mearthtext.datamodules.components.chipmultilabel\u001b[0m:\u001b[36m__init__\u001b[0m:\u001b[36m93\u001b[0m - \u001b[1mchecking chip files for test split\u001b[0m\n",
      "\u001b[38;2;0;255;0m100%\u001b[39m \u001b[38;2;0;255;0m(13419 of 13419)\u001b[39m |##################| Elapsed Time: 0:00:00 Time:  0:00:000:00\n",
      "\u001b[32m2024-05-05 03:49:11.801\u001b[0m | \u001b[1mINFO    \u001b[0m | \u001b[36mearthtext.datamodules.components.chipmultilabel\u001b[0m:\u001b[36m__init__\u001b[0m:\u001b[36m97\u001b[0m - \u001b[1mread test split with 13419 chip files (out of 13419)\u001b[0m\n",
      "\u001b[32m2024-05-05 03:49:11.801\u001b[0m | \u001b[1mINFO    \u001b[0m | \u001b[36mearthtext.datamodules.components.chipmultilabel\u001b[0m:\u001b[36m__init__\u001b[0m:\u001b[36m102\u001b[0m - \u001b[1mmax cache size is -1\u001b[0m\n",
      "\u001b[32m2024-05-05 03:49:11.802\u001b[0m | \u001b[1mINFO    \u001b[0m | \u001b[36mearthtext.datamodules.chipmultilabel\u001b[0m:\u001b[36mcompute\u001b[0m:\u001b[36m38\u001b[0m - \u001b[1mreading means and stddevs from /opt/data/models/published/california-worldcover-chips-osm-multilabels_no_embeddings_meansstdevs.pkl\u001b[0m\n",
      "\u001b[38;2;0;255;0m100%\u001b[39m \u001b[38;2;0;255;0m(1888 of 1888)\u001b[39m |####################| Elapsed Time: 0:00:11 Time:  0:00:110001\n"
     ]
    },
    {
     "data": {
      "text/plain": [
       "<earthtext.api.osmencoderauto.OSMEncoderWithAutocompletion at 0x7322a0be88f0>"
      ]
     },
     "execution_count": 4,
     "metadata": {},
     "output_type": "execute_result"
    }
   ],
   "source": [
    "model_ckpt_fname = '/opt/data/models/published/osm_emcoder__embeddings_v0.2-20240426__trainedon_2024-05-05_00:45.ckpt'\n",
    "\n",
    "osmenc = osmencoderauto.OSMEncoderWithAutocompletion(model_ckpt_fname)\n",
    "osmenc.setup()"
   ]
  },
  {
   "cell_type": "markdown",
   "id": "8a2236c5-33c0-44fc-8d65-766b2f19901b",
   "metadata": {},
   "source": [
    "# make a query"
   ]
  },
  {
   "cell_type": "code",
   "execution_count": 3,
   "id": "acbcc68a-7814-4208-a8b7-0ec91ac38c4a",
   "metadata": {},
   "outputs": [
    {
     "data": {
      "text/plain": [
       "(768,)"
      ]
     },
     "execution_count": 3,
     "metadata": {},
     "output_type": "execute_result"
    }
   ],
   "source": [
    "min_counts, max_counts = {'sport=baseball':5 }, {'building=*': 0}\n",
    "min_areas,  max_areas  = {}, {}\n",
    "\n",
    "emb = osmenc.predict_embedding(min_counts, max_counts, min_areas, max_areas)\n",
    "emb.shape"
   ]
  },
  {
   "cell_type": "code",
   "execution_count": null,
   "id": "c48a191c-0ed4-4068-ad05-8ea31141f029",
   "metadata": {},
   "outputs": [],
   "source": []
  },
  {
   "cell_type": "code",
   "execution_count": null,
   "id": "9ccf7d82-c76c-46b5-a0c3-f8c7471f89d3",
   "metadata": {},
   "outputs": [],
   "source": []
  }
 ],
 "metadata": {
  "kernelspec": {
   "display_name": "earth-text-env",
   "language": "python",
   "name": "earth-text-env"
  },
  "language_info": {
   "codemirror_mode": {
    "name": "ipython",
    "version": 3
   },
   "file_extension": ".py",
   "mimetype": "text/x-python",
   "name": "python",
   "nbconvert_exporter": "python",
   "pygments_lexer": "ipython3",
   "version": "3.12.2"
  }
 },
 "nbformat": 4,
 "nbformat_minor": 5
}
