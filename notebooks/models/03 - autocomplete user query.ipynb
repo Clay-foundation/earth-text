{
 "cells": [
  {
   "cell_type": "code",
   "execution_count": 16,
   "id": "8dc91856-22e8-4bdb-ba4b-1943ce0946a0",
   "metadata": {},
   "outputs": [],
   "source": [
    "import pandas as pd\n",
    "import numpy as np"
   ]
  },
  {
   "cell_type": "code",
   "execution_count": 2,
   "id": "d0b19481-9f28-42ad-9d53-04fefce484ce",
   "metadata": {},
   "outputs": [
    {
     "data": {
      "text/plain": [
       "(83609, 8)"
      ]
     },
     "execution_count": 2,
     "metadata": {},
     "output_type": "execute_result"
    }
   ],
   "source": [
    "df = pd.read_parquet('/opt/data/california-worldcover-chips-osm-multilabels.parquet')\n",
    "df.shape"
   ]
  },
  {
   "cell_type": "code",
   "execution_count": 3,
   "id": "00a10ae5-fb6c-4365-9593-7e124063640c",
   "metadata": {},
   "outputs": [
    {
     "data": {
      "text/plain": [
       "\u001b[0;31mSignature:\u001b[0m \u001b[0mpd\u001b[0m\u001b[0;34m.\u001b[0m\u001b[0mDataFrame\u001b[0m\u001b[0;34m.\u001b[0m\u001b[0mquery\u001b[0m\u001b[0;34m(\u001b[0m\u001b[0mself\u001b[0m\u001b[0;34m,\u001b[0m \u001b[0mexpr\u001b[0m\u001b[0;34m:\u001b[0m \u001b[0;34m'str'\u001b[0m\u001b[0;34m,\u001b[0m \u001b[0;34m*\u001b[0m\u001b[0;34m,\u001b[0m \u001b[0minplace\u001b[0m\u001b[0;34m:\u001b[0m \u001b[0;34m'bool'\u001b[0m \u001b[0;34m=\u001b[0m \u001b[0;32mFalse\u001b[0m\u001b[0;34m,\u001b[0m \u001b[0;34m**\u001b[0m\u001b[0mkwargs\u001b[0m\u001b[0;34m)\u001b[0m \u001b[0;34m->\u001b[0m \u001b[0;34m'DataFrame | None'\u001b[0m\u001b[0;34m\u001b[0m\u001b[0;34m\u001b[0m\u001b[0m\n",
       "\u001b[0;31mDocstring:\u001b[0m\n",
       "Query the columns of a DataFrame with a boolean expression.\n",
       "\n",
       "Parameters\n",
       "----------\n",
       "expr : str\n",
       "    The query string to evaluate.\n",
       "\n",
       "    You can refer to variables\n",
       "    in the environment by prefixing them with an '@' character like\n",
       "    ``@a + b``.\n",
       "\n",
       "    You can refer to column names that are not valid Python variable names\n",
       "    by surrounding them in backticks. Thus, column names containing spaces\n",
       "    or punctuations (besides underscores) or starting with digits must be\n",
       "    surrounded by backticks. (For example, a column named \"Area (cm^2)\" would\n",
       "    be referenced as ```Area (cm^2)```). Column names which are Python keywords\n",
       "    (like \"list\", \"for\", \"import\", etc) cannot be used.\n",
       "\n",
       "    For example, if one of your columns is called ``a a`` and you want\n",
       "    to sum it with ``b``, your query should be ```a a` + b``.\n",
       "\n",
       "inplace : bool\n",
       "    Whether to modify the DataFrame rather than creating a new one.\n",
       "**kwargs\n",
       "    See the documentation for :func:`eval` for complete details\n",
       "    on the keyword arguments accepted by :meth:`DataFrame.query`.\n",
       "\n",
       "Returns\n",
       "-------\n",
       "DataFrame or None\n",
       "    DataFrame resulting from the provided query expression or\n",
       "    None if ``inplace=True``.\n",
       "\n",
       "See Also\n",
       "--------\n",
       "eval : Evaluate a string describing operations on\n",
       "    DataFrame columns.\n",
       "DataFrame.eval : Evaluate a string describing operations on\n",
       "    DataFrame columns.\n",
       "\n",
       "Notes\n",
       "-----\n",
       "The result of the evaluation of this expression is first passed to\n",
       ":attr:`DataFrame.loc` and if that fails because of a\n",
       "multidimensional key (e.g., a DataFrame) then the result will be passed\n",
       "to :meth:`DataFrame.__getitem__`.\n",
       "\n",
       "This method uses the top-level :func:`eval` function to\n",
       "evaluate the passed query.\n",
       "\n",
       "The :meth:`~pandas.DataFrame.query` method uses a slightly\n",
       "modified Python syntax by default. For example, the ``&`` and ``|``\n",
       "(bitwise) operators have the precedence of their boolean cousins,\n",
       ":keyword:`and` and :keyword:`or`. This *is* syntactically valid Python,\n",
       "however the semantics are different.\n",
       "\n",
       "You can change the semantics of the expression by passing the keyword\n",
       "argument ``parser='python'``. This enforces the same semantics as\n",
       "evaluation in Python space. Likewise, you can pass ``engine='python'``\n",
       "to evaluate an expression using Python itself as a backend. This is not\n",
       "recommended as it is inefficient compared to using ``numexpr`` as the\n",
       "engine.\n",
       "\n",
       "The :attr:`DataFrame.index` and\n",
       ":attr:`DataFrame.columns` attributes of the\n",
       ":class:`~pandas.DataFrame` instance are placed in the query namespace\n",
       "by default, which allows you to treat both the index and columns of the\n",
       "frame as a column in the frame.\n",
       "The identifier ``index`` is used for the frame index; you can also\n",
       "use the name of the index to identify it in a query. Please note that\n",
       "Python keywords may not be used as identifiers.\n",
       "\n",
       "For further details and examples see the ``query`` documentation in\n",
       ":ref:`indexing <indexing.query>`.\n",
       "\n",
       "*Backtick quoted variables*\n",
       "\n",
       "Backtick quoted variables are parsed as literal Python code and\n",
       "are converted internally to a Python valid identifier.\n",
       "This can lead to the following problems.\n",
       "\n",
       "During parsing a number of disallowed characters inside the backtick\n",
       "quoted string are replaced by strings that are allowed as a Python identifier.\n",
       "These characters include all operators in Python, the space character, the\n",
       "question mark, the exclamation mark, the dollar sign, and the euro sign.\n",
       "For other characters that fall outside the ASCII range (U+0001..U+007F)\n",
       "and those that are not further specified in PEP 3131,\n",
       "the query parser will raise an error.\n",
       "This excludes whitespace different than the space character,\n",
       "but also the hashtag (as it is used for comments) and the backtick\n",
       "itself (backtick can also not be escaped).\n",
       "\n",
       "In a special case, quotes that make a pair around a backtick can\n",
       "confuse the parser.\n",
       "For example, ```it's` > `that's``` will raise an error,\n",
       "as it forms a quoted string (``'s > `that'``) with a backtick inside.\n",
       "\n",
       "See also the Python documentation about lexical analysis\n",
       "(https://docs.python.org/3/reference/lexical_analysis.html)\n",
       "in combination with the source code in :mod:`pandas.core.computation.parsing`.\n",
       "\n",
       "Examples\n",
       "--------\n",
       ">>> df = pd.DataFrame({'A': range(1, 6),\n",
       "...                    'B': range(10, 0, -2),\n",
       "...                    'C C': range(10, 5, -1)})\n",
       ">>> df\n",
       "   A   B  C C\n",
       "0  1  10   10\n",
       "1  2   8    9\n",
       "2  3   6    8\n",
       "3  4   4    7\n",
       "4  5   2    6\n",
       ">>> df.query('A > B')\n",
       "   A  B  C C\n",
       "4  5  2    6\n",
       "\n",
       "The previous expression is equivalent to\n",
       "\n",
       ">>> df[df.A > df.B]\n",
       "   A  B  C C\n",
       "4  5  2    6\n",
       "\n",
       "For columns with spaces in their name, you can use backtick quoting.\n",
       "\n",
       ">>> df.query('B == `C C`')\n",
       "   A   B  C C\n",
       "0  1  10   10\n",
       "\n",
       "The previous expression is equivalent to\n",
       "\n",
       ">>> df[df.B == df['C C']]\n",
       "   A   B  C C\n",
       "0  1  10   10\n",
       "\u001b[0;31mFile:\u001b[0m      /opt/conda/envs/earth-text-env/lib/python3.12/site-packages/pandas/core/frame.py\n",
       "\u001b[0;31mType:\u001b[0m      function"
      ]
     },
     "metadata": {},
     "output_type": "display_data"
    }
   ],
   "source": [
    "pd.DataFrame.query?"
   ]
  },
  {
   "cell_type": "code",
   "execution_count": 17,
   "id": "201844b7-cfda-438e-b71d-c4cc6025cced",
   "metadata": {
    "scrolled": true
   },
   "outputs": [
    {
     "data": {
      "text/html": [
       "<div>\n",
       "<style scoped>\n",
       "    .dataframe tbody tr th:only-of-type {\n",
       "        vertical-align: middle;\n",
       "    }\n",
       "\n",
       "    .dataframe tbody tr th {\n",
       "        vertical-align: top;\n",
       "    }\n",
       "\n",
       "    .dataframe thead th {\n",
       "        text-align: right;\n",
       "    }\n",
       "</style>\n",
       "<table border=\"1\" class=\"dataframe\">\n",
       "  <thead>\n",
       "    <tr style=\"text-align: right;\">\n",
       "      <th></th>\n",
       "      <th>onehot_count</th>\n",
       "      <th>onehot_area</th>\n",
       "      <th>onehot_length</th>\n",
       "      <th>string_labels</th>\n",
       "      <th>col</th>\n",
       "      <th>row</th>\n",
       "      <th>geometry</th>\n",
       "      <th>split</th>\n",
       "    </tr>\n",
       "    <tr>\n",
       "      <th>chip_id</th>\n",
       "      <th></th>\n",
       "      <th></th>\n",
       "      <th></th>\n",
       "      <th></th>\n",
       "      <th></th>\n",
       "      <th></th>\n",
       "      <th></th>\n",
       "      <th></th>\n",
       "    </tr>\n",
       "  </thead>\n",
       "  <tbody>\n",
       "    <tr>\n",
       "      <th>193c3415fc237</th>\n",
       "      <td>[24, 24, 1344, 388, 472, 21, 453, 2, 8, 0, 0, ...</td>\n",
       "      <td>[58033.967200952815, 58033.967200952815, 23937...</td>\n",
       "      <td>[4913.205774298301, 4913.205774298301, 74943.4...</td>\n",
       "      <td>[amenity=*, amenity=parking, building=*, build...</td>\n",
       "      <td>78080</td>\n",
       "      <td>96000</td>\n",
       "      <td>b'\\x01\\x03\\x00\\x00\\x00\\x01\\x00\\x00\\x00\\x05\\x00...</td>\n",
       "      <td>train</td>\n",
       "    </tr>\n",
       "    <tr>\n",
       "      <th>1639b12583426</th>\n",
       "      <td>[148, 148, 4171, 1245, 1891, 52, 938, 13, 32, ...</td>\n",
       "      <td>[160073.78667008967, 160073.78667008967, 80191...</td>\n",
       "      <td>[20966.344659970102, 20966.344659970102, 24881...</td>\n",
       "      <td>[amenity=*, amenity=parking, building=*, build...</td>\n",
       "      <td>78080</td>\n",
       "      <td>95744</td>\n",
       "      <td>b'\\x01\\x03\\x00\\x00\\x00\\x01\\x00\\x00\\x00\\x05\\x00...</td>\n",
       "      <td>train</td>\n",
       "    </tr>\n",
       "    <tr>\n",
       "      <th>253904d963d6a</th>\n",
       "      <td>[65, 65, 200, 104, 76, 0, 18, 2, 0, 0, 0, 0, 0...</td>\n",
       "      <td>[101980.95118259436, 101980.95118259436, 71246...</td>\n",
       "      <td>[10597.989172272657, 10597.989172272657, 16664...</td>\n",
       "      <td>[amenity=*, amenity=parking, building=*, build...</td>\n",
       "      <td>77824</td>\n",
       "      <td>95744</td>\n",
       "      <td>b'\\x01\\x03\\x00\\x00\\x00\\x01\\x00\\x00\\x00\\x05\\x00...</td>\n",
       "      <td>train</td>\n",
       "    </tr>\n",
       "    <tr>\n",
       "      <th>00530dca88d4a</th>\n",
       "      <td>[9, 9, 4897, 688, 4026, 0, 172, 10, 1, 0, 0, 0...</td>\n",
       "      <td>[17637.908172952746, 17637.908172952746, 10930...</td>\n",
       "      <td>[1925.4953839123748, 1925.4953839123748, 32065...</td>\n",
       "      <td>[amenity=*, amenity=parking, building=*, build...</td>\n",
       "      <td>77824</td>\n",
       "      <td>95488</td>\n",
       "      <td>b'\\x01\\x03\\x00\\x00\\x00\\x01\\x00\\x00\\x00\\x05\\x00...</td>\n",
       "      <td>train</td>\n",
       "    </tr>\n",
       "    <tr>\n",
       "      <th>0e554bbdbe661</th>\n",
       "      <td>[80, 80, 4358, 1262, 2386, 59, 597, 27, 27, 0,...</td>\n",
       "      <td>[131950.60085068244, 131950.60085068244, 98472...</td>\n",
       "      <td>[13536.03447682216, 13536.03447682216, 283601....</td>\n",
       "      <td>[amenity=*, amenity=parking, building=*, build...</td>\n",
       "      <td>78080</td>\n",
       "      <td>95488</td>\n",
       "      <td>b'\\x01\\x03\\x00\\x00\\x00\\x01\\x00\\x00\\x00\\x05\\x00...</td>\n",
       "      <td>train</td>\n",
       "    </tr>\n",
       "  </tbody>\n",
       "</table>\n",
       "</div>"
      ],
      "text/plain": [
       "                                                    onehot_count  \\\n",
       "chip_id                                                            \n",
       "193c3415fc237  [24, 24, 1344, 388, 472, 21, 453, 2, 8, 0, 0, ...   \n",
       "1639b12583426  [148, 148, 4171, 1245, 1891, 52, 938, 13, 32, ...   \n",
       "253904d963d6a  [65, 65, 200, 104, 76, 0, 18, 2, 0, 0, 0, 0, 0...   \n",
       "00530dca88d4a  [9, 9, 4897, 688, 4026, 0, 172, 10, 1, 0, 0, 0...   \n",
       "0e554bbdbe661  [80, 80, 4358, 1262, 2386, 59, 597, 27, 27, 0,...   \n",
       "\n",
       "                                                     onehot_area  \\\n",
       "chip_id                                                            \n",
       "193c3415fc237  [58033.967200952815, 58033.967200952815, 23937...   \n",
       "1639b12583426  [160073.78667008967, 160073.78667008967, 80191...   \n",
       "253904d963d6a  [101980.95118259436, 101980.95118259436, 71246...   \n",
       "00530dca88d4a  [17637.908172952746, 17637.908172952746, 10930...   \n",
       "0e554bbdbe661  [131950.60085068244, 131950.60085068244, 98472...   \n",
       "\n",
       "                                                   onehot_length  \\\n",
       "chip_id                                                            \n",
       "193c3415fc237  [4913.205774298301, 4913.205774298301, 74943.4...   \n",
       "1639b12583426  [20966.344659970102, 20966.344659970102, 24881...   \n",
       "253904d963d6a  [10597.989172272657, 10597.989172272657, 16664...   \n",
       "00530dca88d4a  [1925.4953839123748, 1925.4953839123748, 32065...   \n",
       "0e554bbdbe661  [13536.03447682216, 13536.03447682216, 283601....   \n",
       "\n",
       "                                                   string_labels    col  \\\n",
       "chip_id                                                                   \n",
       "193c3415fc237  [amenity=*, amenity=parking, building=*, build...  78080   \n",
       "1639b12583426  [amenity=*, amenity=parking, building=*, build...  78080   \n",
       "253904d963d6a  [amenity=*, amenity=parking, building=*, build...  77824   \n",
       "00530dca88d4a  [amenity=*, amenity=parking, building=*, build...  77824   \n",
       "0e554bbdbe661  [amenity=*, amenity=parking, building=*, build...  78080   \n",
       "\n",
       "                 row                                           geometry  split  \n",
       "chip_id                                                                         \n",
       "193c3415fc237  96000  b'\\x01\\x03\\x00\\x00\\x00\\x01\\x00\\x00\\x00\\x05\\x00...  train  \n",
       "1639b12583426  95744  b'\\x01\\x03\\x00\\x00\\x00\\x01\\x00\\x00\\x00\\x05\\x00...  train  \n",
       "253904d963d6a  95744  b'\\x01\\x03\\x00\\x00\\x00\\x01\\x00\\x00\\x00\\x05\\x00...  train  \n",
       "00530dca88d4a  95488  b'\\x01\\x03\\x00\\x00\\x00\\x01\\x00\\x00\\x00\\x05\\x00...  train  \n",
       "0e554bbdbe661  95488  b'\\x01\\x03\\x00\\x00\\x00\\x01\\x00\\x00\\x00\\x05\\x00...  train  "
      ]
     },
     "execution_count": 17,
     "metadata": {},
     "output_type": "execute_result"
    }
   ],
   "source": [
    "df.head()"
   ]
  },
  {
   "cell_type": "code",
   "execution_count": 28,
   "id": "43a05f95-c6f5-4f3c-b065-beb1462ce850",
   "metadata": {},
   "outputs": [
    {
     "name": "stdout",
     "output_type": "stream",
     "text": [
      "(83609, 99)\n",
      "[[  24   24 1344 ...   53    0    0]\n",
      " [ 148  148 4171 ...  166    0    1]\n",
      " [  65   65  200 ...   29    0    1]\n",
      " ...\n",
      " [   4    4    1 ...   77    0   40]\n",
      " [   0    0    0 ...    4    0   12]\n",
      " [   0    0    0 ...    0    0    7]]\n"
     ]
    }
   ],
   "source": [
    "mat_OSM_counts = np.stack(df.onehot_count)\n",
    "print(mat_OSM_counts.shape)\n",
    "print(mat_OSM_counts)"
   ]
  },
  {
   "cell_type": "markdown",
   "id": "f3acf0f3-5076-48a3-b812-c0e27fd04b25",
   "metadata": {},
   "source": [
    "TODO\n",
    "- assume `autocomplete_query` accepts a constraint matrix instead of a dataframe  "
   ]
  },
  {
   "cell_type": "code",
   "execution_count": 5,
   "id": "7937bc27-e426-4f1a-acb4-13336e146a9b",
   "metadata": {},
   "outputs": [],
   "source": [
    "def autocomplete_query(\n",
    "    constraints: tuple[int],  # user contraints, for ex. (0,0,...,1,-1)\n",
    "    df: pd.DataFrame,\n",
    "    n_samples: int = 1,\n",
    "):\n",
    "    constraints_mask = (constraints != 0)  # mask of constrained columns\n",
    "    constrainted_cols = df.columns[constraints_mask]\n",
    "    df = df.copy()\n",
    "    \n",
    "    for i, col in enumerate(constrainted_cols):\n",
    "        if constraints[i] == 1:\n",
    "            df = df.query('@col == 1')\n",
    "            # df = df[df[col] == 1]\n",
    "        elif constraints[i] == -1:\n",
    "            df = df.query('@col == 0')\n",
    "            # df = df[df[col] == 0]\n",
    "\n",
    "    # sample w replacement\n",
    "    df_sample = df.sample(n=n_samples, replace=True, random_state=42, axis=0)\n",
    "\n",
    "    return df_sample"
   ]
  },
  {
   "cell_type": "code",
   "execution_count": 31,
   "id": "86a18403-6846-4adc-a0c2-4d9f36d47409",
   "metadata": {
    "scrolled": true
   },
   "outputs": [
    {
     "data": {
      "text/plain": [
       "array([  24,   24, 1344,  388,  472,   21,  453,    2,    8,    0,    0,\n",
       "          0,    0,   53,    0,   36,    0,    0,    0,    0,    0,    0,\n",
       "          0,   31,    0,    0,    0,    0,    0,    0,    0,    5,    0,\n",
       "         53,    5,    0,    0,    5,   41,    1,    0,    0,    1,    3,\n",
       "          0,    0,    0,    0,    0,    0,    0,    0,    0,    0,    3,\n",
       "          0,    0,    0,    0,    0,    0,   11,    0,   11,    0,    0,\n",
       "          0,    0,    1,    0,    0,    0,    0,    0,    0,    1,    0,\n",
       "         18,    4,    1,    0,    0,    4,    9,    0,    0,    0,    0,\n",
       "          0,    0,    0,    0,    0,    0,    0,    0,   53,    0,    0],\n",
       "      dtype=int32)"
      ]
     },
     "execution_count": 31,
     "metadata": {},
     "output_type": "execute_result"
    }
   ],
   "source": [
    "mat_OSM_counts[0]"
   ]
  },
  {
   "cell_type": "code",
   "execution_count": 45,
   "id": "d140beca-9c44-48b2-ac1e-15b12cef7c01",
   "metadata": {},
   "outputs": [
    {
     "data": {
      "text/plain": [
       "array([ 1, -1,  0,  0,  0,  0,  0,  0,  0,  0,  0,  0,  0,  0,  0,  0,  0,\n",
       "        0,  0,  0,  0,  0,  0,  0,  0,  0,  0,  0,  0,  0,  0,  0,  0,  0,\n",
       "        0,  0,  0,  0,  0,  0,  0,  0,  0,  0,  0,  0,  0,  0,  0,  0,  0,\n",
       "        0,  0,  0,  0,  0,  0,  0,  0,  0,  0,  0,  0,  0,  0,  0,  0,  0,\n",
       "        0,  0,  0,  0,  0,  0,  0,  0,  0,  0,  0,  0,  0,  0,  0,  0,  0,\n",
       "        0,  0,  0,  0,  0,  0,  0,  0,  0,  0,  0,  0,  0,  0])"
      ]
     },
     "execution_count": 45,
     "metadata": {},
     "output_type": "execute_result"
    }
   ],
   "source": [
    "example_constraints = np.array((0,) * 99)\n",
    "example_constraints[0] = 1\n",
    "example_constraints[1] = -1\n",
    "example_constraints"
   ]
  },
  {
   "cell_type": "code",
   "execution_count": null,
   "id": "97ee0f7c-bec6-42c8-a365-b07ac98a13f8",
   "metadata": {},
   "outputs": [],
   "source": []
  }
 ],
 "metadata": {
  "kernelspec": {
   "display_name": "Python 3 (ipykernel)",
   "language": "python",
   "name": "python3"
  },
  "language_info": {
   "codemirror_mode": {
    "name": "ipython",
    "version": 3
   },
   "file_extension": ".py",
   "mimetype": "text/x-python",
   "name": "python",
   "nbconvert_exporter": "python",
   "pygments_lexer": "ipython3",
   "version": "3.12.2"
  }
 },
 "nbformat": 4,
 "nbformat_minor": 5
}
