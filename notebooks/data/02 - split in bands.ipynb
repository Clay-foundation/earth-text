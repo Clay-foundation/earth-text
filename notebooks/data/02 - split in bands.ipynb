{
 "cells": [
  {
   "cell_type": "code",
   "execution_count": 9,
   "id": "a79f8fc0-f891-4879-a10c-9a61b3e6295d",
   "metadata": {},
   "outputs": [],
   "source": [
    "import geopandas as gpd\n",
    "import pandas as pd\n",
    "from geetiles import cmds\n",
    "import numpy as np"
   ]
  },
  {
   "cell_type": "code",
   "execution_count": 2,
   "id": "88b68aca-dfab-4157-a1dc-74908947adaa",
   "metadata": {},
   "outputs": [],
   "source": [
    "mfile = '/opt/data/california-worldcover-chips-osm-multilabels.parquet'"
   ]
  },
  {
   "cell_type": "code",
   "execution_count": 13,
   "id": "53e65328-e4b7-444f-9f0e-d28aa11c4411",
   "metadata": {},
   "outputs": [],
   "source": [
    "data = gpd.read_parquet(mfile)"
   ]
  },
  {
   "cell_type": "code",
   "execution_count": 14,
   "id": "c65166a3-65dd-4488-bcbf-d77841de1f3a",
   "metadata": {},
   "outputs": [
    {
     "data": {
      "text/html": [
       "<div>\n",
       "<style scoped>\n",
       "    .dataframe tbody tr th:only-of-type {\n",
       "        vertical-align: middle;\n",
       "    }\n",
       "\n",
       "    .dataframe tbody tr th {\n",
       "        vertical-align: top;\n",
       "    }\n",
       "\n",
       "    .dataframe thead th {\n",
       "        text-align: right;\n",
       "    }\n",
       "</style>\n",
       "<table border=\"1\" class=\"dataframe\">\n",
       "  <thead>\n",
       "    <tr style=\"text-align: right;\">\n",
       "      <th></th>\n",
       "      <th>onehot_label</th>\n",
       "      <th>string_labels</th>\n",
       "      <th>col</th>\n",
       "      <th>row</th>\n",
       "      <th>geometry</th>\n",
       "    </tr>\n",
       "    <tr>\n",
       "      <th>chip_id</th>\n",
       "      <th></th>\n",
       "      <th></th>\n",
       "      <th></th>\n",
       "      <th></th>\n",
       "      <th></th>\n",
       "    </tr>\n",
       "  </thead>\n",
       "  <tbody>\n",
       "    <tr>\n",
       "      <th>2d020602331e4</th>\n",
       "      <td>[0, 0, 0, 0, 0, 0, 0, 0, 0, 0, 0, 0, 0, 1, 1, ...</td>\n",
       "      <td>[highway, highway=track]</td>\n",
       "      <td>122624</td>\n",
       "      <td>111104</td>\n",
       "      <td>POLYGON ((-114.76000 32.72000, -114.76000 32.7...</td>\n",
       "    </tr>\n",
       "    <tr>\n",
       "      <th>34c5edf7ed602</th>\n",
       "      <td>[1, 1, 0, 0, 0, 0, 0, 0, 0, 0, 0, 0, 0, 1, 1, ...</td>\n",
       "      <td>[amenity, amenity=parking, highway, highway=tr...</td>\n",
       "      <td>122624</td>\n",
       "      <td>110848</td>\n",
       "      <td>POLYGON ((-114.76000 32.74133, -114.76000 32.7...</td>\n",
       "    </tr>\n",
       "    <tr>\n",
       "      <th>370214ce19e1d</th>\n",
       "      <td>[0, 0, 0, 0, 0, 0, 0, 0, 0, 0, 0, 0, 0, 1, 1, ...</td>\n",
       "      <td>[highway, highway=track, highway=motorway, hig...</td>\n",
       "      <td>122368</td>\n",
       "      <td>110848</td>\n",
       "      <td>POLYGON ((-114.78133 32.74133, -114.78133 32.7...</td>\n",
       "    </tr>\n",
       "    <tr>\n",
       "      <th>371eeed5e3259</th>\n",
       "      <td>[0, 0, 0, 0, 0, 0, 0, 0, 0, 0, 0, 0, 0, 1, 1, ...</td>\n",
       "      <td>[highway, highway=track, highway=motorway, hig...</td>\n",
       "      <td>122112</td>\n",
       "      <td>110848</td>\n",
       "      <td>POLYGON ((-114.80267 32.74133, -114.80267 32.7...</td>\n",
       "    </tr>\n",
       "    <tr>\n",
       "      <th>24763185559b0</th>\n",
       "      <td>[0, 0, 0, 0, 0, 0, 0, 0, 0, 0, 0, 0, 0, 1, 1, ...</td>\n",
       "      <td>[highway, highway=track]</td>\n",
       "      <td>122112</td>\n",
       "      <td>110592</td>\n",
       "      <td>POLYGON ((-114.80267 32.76267, -114.80267 32.7...</td>\n",
       "    </tr>\n",
       "  </tbody>\n",
       "</table>\n",
       "</div>"
      ],
      "text/plain": [
       "                                                    onehot_label  \\\n",
       "chip_id                                                            \n",
       "2d020602331e4  [0, 0, 0, 0, 0, 0, 0, 0, 0, 0, 0, 0, 0, 1, 1, ...   \n",
       "34c5edf7ed602  [1, 1, 0, 0, 0, 0, 0, 0, 0, 0, 0, 0, 0, 1, 1, ...   \n",
       "370214ce19e1d  [0, 0, 0, 0, 0, 0, 0, 0, 0, 0, 0, 0, 0, 1, 1, ...   \n",
       "371eeed5e3259  [0, 0, 0, 0, 0, 0, 0, 0, 0, 0, 0, 0, 0, 1, 1, ...   \n",
       "24763185559b0  [0, 0, 0, 0, 0, 0, 0, 0, 0, 0, 0, 0, 0, 1, 1, ...   \n",
       "\n",
       "                                                   string_labels     col  \\\n",
       "chip_id                                                                    \n",
       "2d020602331e4                           [highway, highway=track]  122624   \n",
       "34c5edf7ed602  [amenity, amenity=parking, highway, highway=tr...  122624   \n",
       "370214ce19e1d  [highway, highway=track, highway=motorway, hig...  122368   \n",
       "371eeed5e3259  [highway, highway=track, highway=motorway, hig...  122112   \n",
       "24763185559b0                           [highway, highway=track]  122112   \n",
       "\n",
       "                  row                                           geometry  \n",
       "chip_id                                                                   \n",
       "2d020602331e4  111104  POLYGON ((-114.76000 32.72000, -114.76000 32.7...  \n",
       "34c5edf7ed602  110848  POLYGON ((-114.76000 32.74133, -114.76000 32.7...  \n",
       "370214ce19e1d  110848  POLYGON ((-114.78133 32.74133, -114.78133 32.7...  \n",
       "371eeed5e3259  110848  POLYGON ((-114.80267 32.74133, -114.80267 32.7...  \n",
       "24763185559b0  110592  POLYGON ((-114.80267 32.76267, -114.80267 32.7...  "
      ]
     },
     "execution_count": 14,
     "metadata": {},
     "output_type": "execute_result"
    }
   ],
   "source": [
    "data.head()"
   ]
  },
  {
   "cell_type": "code",
   "execution_count": 15,
   "id": "aa2bcff9-6bb1-4bbd-bad3-84c7aa79a47a",
   "metadata": {},
   "outputs": [],
   "source": [
    "# prepare for geetiles\n",
    "\n",
    "tmpdata = data[['geometry']].copy()\n",
    "tmpdata['identifier'] = tmpdata.index\n",
    "tmpdata.to_file(\"/tmp/data.geojson\", driver='GeoJSON')"
   ]
  },
  {
   "cell_type": "markdown",
   "id": "1677546e-bf6e-4fbf-87dd-abc5f657206b",
   "metadata": {},
   "source": [
    "## call geetiles to make the split"
   ]
  },
  {
   "cell_type": "code",
   "execution_count": 33,
   "id": "16921dc0-825b-48a9-917b-5e927d787bb2",
   "metadata": {},
   "outputs": [
    {
     "name": "stdout",
     "output_type": "stream",
     "text": [
      "saved to /tmp/data.geojson\n",
      "all splits saved to /tmp/data_splits.csv\n"
     ]
    }
   ],
   "source": [
    "cmds.split(tiles_file = '/tmp/data.geojson',\n",
    "                nbands = 80,\n",
    "                angle = -np.pi/4,\n",
    "                train_pct = 0.7,\n",
    "                test_pct = 0.15,\n",
    "                val_pct = 0.15)"
   ]
  },
  {
   "cell_type": "code",
   "execution_count": 34,
   "id": "85e20e87-e7ae-4c57-9cd0-d6913069e080",
   "metadata": {},
   "outputs": [
    {
     "data": {
      "text/plain": [
       "(83609, 1)"
      ]
     },
     "execution_count": 34,
     "metadata": {},
     "output_type": "execute_result"
    }
   ],
   "source": [
    "splits = pd.read_csv(\"/tmp/data_splits.csv\").set_index('identifier')\n",
    "splits.index.name = 'chip_id'\n",
    "splits.shape"
   ]
  },
  {
   "cell_type": "code",
   "execution_count": 35,
   "id": "428e111b-3c80-4811-b854-c63ae62e33e6",
   "metadata": {},
   "outputs": [
    {
     "data": {
      "text/html": [
       "<div>\n",
       "<style scoped>\n",
       "    .dataframe tbody tr th:only-of-type {\n",
       "        vertical-align: middle;\n",
       "    }\n",
       "\n",
       "    .dataframe tbody tr th {\n",
       "        vertical-align: top;\n",
       "    }\n",
       "\n",
       "    .dataframe thead th {\n",
       "        text-align: right;\n",
       "    }\n",
       "</style>\n",
       "<table border=\"1\" class=\"dataframe\">\n",
       "  <thead>\n",
       "    <tr style=\"text-align: right;\">\n",
       "      <th></th>\n",
       "      <th>onehot_label</th>\n",
       "      <th>string_labels</th>\n",
       "      <th>col</th>\n",
       "      <th>row</th>\n",
       "      <th>geometry</th>\n",
       "    </tr>\n",
       "    <tr>\n",
       "      <th>chip_id</th>\n",
       "      <th></th>\n",
       "      <th></th>\n",
       "      <th></th>\n",
       "      <th></th>\n",
       "      <th></th>\n",
       "    </tr>\n",
       "  </thead>\n",
       "  <tbody>\n",
       "    <tr>\n",
       "      <th>2d020602331e4</th>\n",
       "      <td>[0, 0, 0, 0, 0, 0, 0, 0, 0, 0, 0, 0, 0, 1, 1, ...</td>\n",
       "      <td>[highway, highway=track]</td>\n",
       "      <td>122624</td>\n",
       "      <td>111104</td>\n",
       "      <td>POLYGON ((-114.76000 32.72000, -114.76000 32.7...</td>\n",
       "    </tr>\n",
       "    <tr>\n",
       "      <th>34c5edf7ed602</th>\n",
       "      <td>[1, 1, 0, 0, 0, 0, 0, 0, 0, 0, 0, 0, 0, 1, 1, ...</td>\n",
       "      <td>[amenity, amenity=parking, highway, highway=tr...</td>\n",
       "      <td>122624</td>\n",
       "      <td>110848</td>\n",
       "      <td>POLYGON ((-114.76000 32.74133, -114.76000 32.7...</td>\n",
       "    </tr>\n",
       "    <tr>\n",
       "      <th>370214ce19e1d</th>\n",
       "      <td>[0, 0, 0, 0, 0, 0, 0, 0, 0, 0, 0, 0, 0, 1, 1, ...</td>\n",
       "      <td>[highway, highway=track, highway=motorway, hig...</td>\n",
       "      <td>122368</td>\n",
       "      <td>110848</td>\n",
       "      <td>POLYGON ((-114.78133 32.74133, -114.78133 32.7...</td>\n",
       "    </tr>\n",
       "    <tr>\n",
       "      <th>371eeed5e3259</th>\n",
       "      <td>[0, 0, 0, 0, 0, 0, 0, 0, 0, 0, 0, 0, 0, 1, 1, ...</td>\n",
       "      <td>[highway, highway=track, highway=motorway, hig...</td>\n",
       "      <td>122112</td>\n",
       "      <td>110848</td>\n",
       "      <td>POLYGON ((-114.80267 32.74133, -114.80267 32.7...</td>\n",
       "    </tr>\n",
       "    <tr>\n",
       "      <th>24763185559b0</th>\n",
       "      <td>[0, 0, 0, 0, 0, 0, 0, 0, 0, 0, 0, 0, 0, 1, 1, ...</td>\n",
       "      <td>[highway, highway=track]</td>\n",
       "      <td>122112</td>\n",
       "      <td>110592</td>\n",
       "      <td>POLYGON ((-114.80267 32.76267, -114.80267 32.7...</td>\n",
       "    </tr>\n",
       "  </tbody>\n",
       "</table>\n",
       "</div>"
      ],
      "text/plain": [
       "                                                    onehot_label  \\\n",
       "chip_id                                                            \n",
       "2d020602331e4  [0, 0, 0, 0, 0, 0, 0, 0, 0, 0, 0, 0, 0, 1, 1, ...   \n",
       "34c5edf7ed602  [1, 1, 0, 0, 0, 0, 0, 0, 0, 0, 0, 0, 0, 1, 1, ...   \n",
       "370214ce19e1d  [0, 0, 0, 0, 0, 0, 0, 0, 0, 0, 0, 0, 0, 1, 1, ...   \n",
       "371eeed5e3259  [0, 0, 0, 0, 0, 0, 0, 0, 0, 0, 0, 0, 0, 1, 1, ...   \n",
       "24763185559b0  [0, 0, 0, 0, 0, 0, 0, 0, 0, 0, 0, 0, 0, 1, 1, ...   \n",
       "\n",
       "                                                   string_labels     col  \\\n",
       "chip_id                                                                    \n",
       "2d020602331e4                           [highway, highway=track]  122624   \n",
       "34c5edf7ed602  [amenity, amenity=parking, highway, highway=tr...  122624   \n",
       "370214ce19e1d  [highway, highway=track, highway=motorway, hig...  122368   \n",
       "371eeed5e3259  [highway, highway=track, highway=motorway, hig...  122112   \n",
       "24763185559b0                           [highway, highway=track]  122112   \n",
       "\n",
       "                  row                                           geometry  \n",
       "chip_id                                                                   \n",
       "2d020602331e4  111104  POLYGON ((-114.76000 32.72000, -114.76000 32.7...  \n",
       "34c5edf7ed602  110848  POLYGON ((-114.76000 32.74133, -114.76000 32.7...  \n",
       "370214ce19e1d  110848  POLYGON ((-114.78133 32.74133, -114.78133 32.7...  \n",
       "371eeed5e3259  110848  POLYGON ((-114.80267 32.74133, -114.80267 32.7...  \n",
       "24763185559b0  110592  POLYGON ((-114.80267 32.76267, -114.80267 32.7...  "
      ]
     },
     "execution_count": 35,
     "metadata": {},
     "output_type": "execute_result"
    }
   ],
   "source": [
    "data.head()"
   ]
  },
  {
   "cell_type": "code",
   "execution_count": 36,
   "id": "a00e0eb4-3619-477d-ba27-29d4af7b34ba",
   "metadata": {},
   "outputs": [],
   "source": [
    "data.join(splits).to_parquet(mfile)"
   ]
  },
  {
   "cell_type": "code",
   "execution_count": null,
   "id": "0a6e5df3-8782-4921-9d1f-60b293dcc324",
   "metadata": {},
   "outputs": [],
   "source": []
  }
 ],
 "metadata": {
  "kernelspec": {
   "display_name": "earth-text-env",
   "language": "python",
   "name": "earth-text-env"
  },
  "language_info": {
   "codemirror_mode": {
    "name": "ipython",
    "version": 3
   },
   "file_extension": ".py",
   "mimetype": "text/x-python",
   "name": "python",
   "nbconvert_exporter": "python",
   "pygments_lexer": "ipython3",
   "version": "3.12.2"
  }
 },
 "nbformat": 4,
 "nbformat_minor": 5
}
