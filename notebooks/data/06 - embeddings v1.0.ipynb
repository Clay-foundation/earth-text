{
 "cells": [
  {
   "cell_type": "code",
   "execution_count": 16,
   "id": "7a0784cb-b838-4ef5-9192-8e9847fc0aca",
   "metadata": {},
   "outputs": [],
   "source": [
    "import geopandas as gpd\n",
    "import pandas as pd\n",
    "from progressbar import progressbar as pbar"
   ]
  },
  {
   "cell_type": "code",
   "execution_count": 17,
   "id": "1071d135-e757-4cf2-ab36-7ed8cf03b857",
   "metadata": {},
   "outputs": [],
   "source": [
    "z = pd.read_parquet(\"/opt/data/clay-california-worldcover-rgbnir-vvvh-chips-embeddings-v1-combined.parquet\")"
   ]
  },
  {
   "cell_type": "code",
   "execution_count": 18,
   "id": "317f8cf5-17ee-49bc-9021-c84648f5d774",
   "metadata": {},
   "outputs": [],
   "source": [
    "m = gpd.read_parquet(\"/opt/data/california-worldcover-chips/california-worldcover-chips-osm-multilabels_mod-prec7pc_emb-v0-2-20240426.parquet\")"
   ]
  },
  {
   "cell_type": "code",
   "execution_count": 19,
   "id": "76150765-78df-419d-8f4b-4cf7fd129605",
   "metadata": {},
   "outputs": [
    {
     "data": {
      "text/html": [
       "<div>\n",
       "<style scoped>\n",
       "    .dataframe tbody tr th:only-of-type {\n",
       "        vertical-align: middle;\n",
       "    }\n",
       "\n",
       "    .dataframe tbody tr th {\n",
       "        vertical-align: top;\n",
       "    }\n",
       "\n",
       "    .dataframe thead th {\n",
       "        text-align: right;\n",
       "    }\n",
       "</style>\n",
       "<table border=\"1\" class=\"dataframe\">\n",
       "  <thead>\n",
       "    <tr style=\"text-align: right;\">\n",
       "      <th></th>\n",
       "      <th>chips</th>\n",
       "      <th>embeddings</th>\n",
       "    </tr>\n",
       "  </thead>\n",
       "  <tbody>\n",
       "    <tr>\n",
       "      <th>0</th>\n",
       "      <td>s3://clay-california-worldcover-rgbnir-vvvh-ch...</td>\n",
       "      <td>[-0.092387736, 0.06289999, 0.14823247, 0.05708...</td>\n",
       "    </tr>\n",
       "    <tr>\n",
       "      <th>1</th>\n",
       "      <td>s3://clay-california-worldcover-rgbnir-vvvh-ch...</td>\n",
       "      <td>[-0.09912827, 0.055867158, 0.16590388, 0.04337...</td>\n",
       "    </tr>\n",
       "    <tr>\n",
       "      <th>2</th>\n",
       "      <td>s3://clay-california-worldcover-rgbnir-vvvh-ch...</td>\n",
       "      <td>[-0.11831675, 0.06658777, 0.13290095, 0.036696...</td>\n",
       "    </tr>\n",
       "    <tr>\n",
       "      <th>3</th>\n",
       "      <td>s3://clay-california-worldcover-rgbnir-vvvh-ch...</td>\n",
       "      <td>[-0.11574778, 0.06557509, 0.10578355, 0.031810...</td>\n",
       "    </tr>\n",
       "    <tr>\n",
       "      <th>4</th>\n",
       "      <td>s3://clay-california-worldcover-rgbnir-vvvh-ch...</td>\n",
       "      <td>[-0.11810879, 0.06218237, 0.16002795, 0.039691...</td>\n",
       "    </tr>\n",
       "  </tbody>\n",
       "</table>\n",
       "</div>"
      ],
      "text/plain": [
       "                                               chips  \\\n",
       "0  s3://clay-california-worldcover-rgbnir-vvvh-ch...   \n",
       "1  s3://clay-california-worldcover-rgbnir-vvvh-ch...   \n",
       "2  s3://clay-california-worldcover-rgbnir-vvvh-ch...   \n",
       "3  s3://clay-california-worldcover-rgbnir-vvvh-ch...   \n",
       "4  s3://clay-california-worldcover-rgbnir-vvvh-ch...   \n",
       "\n",
       "                                          embeddings  \n",
       "0  [-0.092387736, 0.06289999, 0.14823247, 0.05708...  \n",
       "1  [-0.09912827, 0.055867158, 0.16590388, 0.04337...  \n",
       "2  [-0.11831675, 0.06658777, 0.13290095, 0.036696...  \n",
       "3  [-0.11574778, 0.06557509, 0.10578355, 0.031810...  \n",
       "4  [-0.11810879, 0.06218237, 0.16002795, 0.039691...  "
      ]
     },
     "execution_count": 19,
     "metadata": {},
     "output_type": "execute_result"
    }
   ],
   "source": [
    "z.head()"
   ]
  },
  {
   "cell_type": "code",
   "execution_count": 20,
   "id": "1ccf5bab-fd3d-4dd1-8f3f-1972eb8e3a87",
   "metadata": {},
   "outputs": [
    {
     "data": {
      "text/html": [
       "<div>\n",
       "<style scoped>\n",
       "    .dataframe tbody tr th:only-of-type {\n",
       "        vertical-align: middle;\n",
       "    }\n",
       "\n",
       "    .dataframe tbody tr th {\n",
       "        vertical-align: top;\n",
       "    }\n",
       "\n",
       "    .dataframe thead th {\n",
       "        text-align: right;\n",
       "    }\n",
       "</style>\n",
       "<table border=\"1\" class=\"dataframe\">\n",
       "  <thead>\n",
       "    <tr style=\"text-align: right;\">\n",
       "      <th></th>\n",
       "      <th>onehot_count</th>\n",
       "      <th>onehot_area</th>\n",
       "      <th>onehot_length</th>\n",
       "      <th>string_labels</th>\n",
       "      <th>col</th>\n",
       "      <th>row</th>\n",
       "      <th>geometry</th>\n",
       "      <th>split</th>\n",
       "    </tr>\n",
       "    <tr>\n",
       "      <th>chip_id</th>\n",
       "      <th></th>\n",
       "      <th></th>\n",
       "      <th></th>\n",
       "      <th></th>\n",
       "      <th></th>\n",
       "      <th></th>\n",
       "      <th></th>\n",
       "      <th></th>\n",
       "    </tr>\n",
       "  </thead>\n",
       "  <tbody>\n",
       "    <tr>\n",
       "      <th>193c3415fc237</th>\n",
       "      <td>[24, 24, 0, 0, 0, 0, 0, 0, 0, 0, 0, 0, 0, 53, ...</td>\n",
       "      <td>[58033.967200952815, 58033.967200952815, 0.0, ...</td>\n",
       "      <td>[4913.205774298301, 4913.205774298301, 0.0, 0....</td>\n",
       "      <td>[amenity=*, amenity=parking, building=*, build...</td>\n",
       "      <td>78080</td>\n",
       "      <td>96000</td>\n",
       "      <td>POLYGON ((-118.47200 33.97867, -118.47200 34.0...</td>\n",
       "      <td>train</td>\n",
       "    </tr>\n",
       "    <tr>\n",
       "      <th>1639b12583426</th>\n",
       "      <td>[148, 148, 4171, 1245, 1891, 52, 938, 13, 32, ...</td>\n",
       "      <td>[160073.78667008967, 160073.78667008967, 80191...</td>\n",
       "      <td>[20966.344659970102, 20966.344659970102, 24881...</td>\n",
       "      <td>[amenity=*, amenity=parking, building=*, build...</td>\n",
       "      <td>78080</td>\n",
       "      <td>95744</td>\n",
       "      <td>POLYGON ((-118.47200 34.00000, -118.47200 34.0...</td>\n",
       "      <td>train</td>\n",
       "    </tr>\n",
       "    <tr>\n",
       "      <th>253904d963d6a</th>\n",
       "      <td>[65, 65, 200, 0, 0, 0, 0, 0, 0, 0, 0, 0, 0, 29...</td>\n",
       "      <td>[101980.95118259436, 101980.95118259436, 71246...</td>\n",
       "      <td>[10597.989172272657, 10597.989172272657, 16664...</td>\n",
       "      <td>[amenity=*, amenity=parking, building=*, build...</td>\n",
       "      <td>77824</td>\n",
       "      <td>95744</td>\n",
       "      <td>POLYGON ((-118.49333 34.00000, -118.49333 34.0...</td>\n",
       "      <td>train</td>\n",
       "    </tr>\n",
       "    <tr>\n",
       "      <th>00530dca88d4a</th>\n",
       "      <td>[9, 9, 4897, 688, 4026, 0, 172, 10, 1, 0, 0, 0...</td>\n",
       "      <td>[17637.908172952746, 17637.908172952746, 10930...</td>\n",
       "      <td>[1925.4953839123748, 1925.4953839123748, 32065...</td>\n",
       "      <td>[amenity=*, amenity=parking, building=*, build...</td>\n",
       "      <td>77824</td>\n",
       "      <td>95488</td>\n",
       "      <td>POLYGON ((-118.49333 34.02133, -118.49333 34.0...</td>\n",
       "      <td>train</td>\n",
       "    </tr>\n",
       "    <tr>\n",
       "      <th>0e554bbdbe661</th>\n",
       "      <td>[80, 80, 4358, 1262, 2386, 59, 597, 27, 27, 0,...</td>\n",
       "      <td>[131950.60085068244, 131950.60085068244, 98472...</td>\n",
       "      <td>[13536.03447682216, 13536.03447682216, 283601....</td>\n",
       "      <td>[amenity=*, amenity=parking, building=*, build...</td>\n",
       "      <td>78080</td>\n",
       "      <td>95488</td>\n",
       "      <td>POLYGON ((-118.47200 34.02133, -118.47200 34.0...</td>\n",
       "      <td>train</td>\n",
       "    </tr>\n",
       "  </tbody>\n",
       "</table>\n",
       "</div>"
      ],
      "text/plain": [
       "                                                    onehot_count  \\\n",
       "chip_id                                                            \n",
       "193c3415fc237  [24, 24, 0, 0, 0, 0, 0, 0, 0, 0, 0, 0, 0, 53, ...   \n",
       "1639b12583426  [148, 148, 4171, 1245, 1891, 52, 938, 13, 32, ...   \n",
       "253904d963d6a  [65, 65, 200, 0, 0, 0, 0, 0, 0, 0, 0, 0, 0, 29...   \n",
       "00530dca88d4a  [9, 9, 4897, 688, 4026, 0, 172, 10, 1, 0, 0, 0...   \n",
       "0e554bbdbe661  [80, 80, 4358, 1262, 2386, 59, 597, 27, 27, 0,...   \n",
       "\n",
       "                                                     onehot_area  \\\n",
       "chip_id                                                            \n",
       "193c3415fc237  [58033.967200952815, 58033.967200952815, 0.0, ...   \n",
       "1639b12583426  [160073.78667008967, 160073.78667008967, 80191...   \n",
       "253904d963d6a  [101980.95118259436, 101980.95118259436, 71246...   \n",
       "00530dca88d4a  [17637.908172952746, 17637.908172952746, 10930...   \n",
       "0e554bbdbe661  [131950.60085068244, 131950.60085068244, 98472...   \n",
       "\n",
       "                                                   onehot_length  \\\n",
       "chip_id                                                            \n",
       "193c3415fc237  [4913.205774298301, 4913.205774298301, 0.0, 0....   \n",
       "1639b12583426  [20966.344659970102, 20966.344659970102, 24881...   \n",
       "253904d963d6a  [10597.989172272657, 10597.989172272657, 16664...   \n",
       "00530dca88d4a  [1925.4953839123748, 1925.4953839123748, 32065...   \n",
       "0e554bbdbe661  [13536.03447682216, 13536.03447682216, 283601....   \n",
       "\n",
       "                                                   string_labels    col  \\\n",
       "chip_id                                                                   \n",
       "193c3415fc237  [amenity=*, amenity=parking, building=*, build...  78080   \n",
       "1639b12583426  [amenity=*, amenity=parking, building=*, build...  78080   \n",
       "253904d963d6a  [amenity=*, amenity=parking, building=*, build...  77824   \n",
       "00530dca88d4a  [amenity=*, amenity=parking, building=*, build...  77824   \n",
       "0e554bbdbe661  [amenity=*, amenity=parking, building=*, build...  78080   \n",
       "\n",
       "                 row                                           geometry  split  \n",
       "chip_id                                                                         \n",
       "193c3415fc237  96000  POLYGON ((-118.47200 33.97867, -118.47200 34.0...  train  \n",
       "1639b12583426  95744  POLYGON ((-118.47200 34.00000, -118.47200 34.0...  train  \n",
       "253904d963d6a  95744  POLYGON ((-118.49333 34.00000, -118.49333 34.0...  train  \n",
       "00530dca88d4a  95488  POLYGON ((-118.49333 34.02133, -118.49333 34.0...  train  \n",
       "0e554bbdbe661  95488  POLYGON ((-118.47200 34.02133, -118.47200 34.0...  train  "
      ]
     },
     "execution_count": 20,
     "metadata": {},
     "output_type": "execute_result"
    }
   ],
   "source": [
    "m.head()"
   ]
  },
  {
   "cell_type": "code",
   "execution_count": 21,
   "id": "e347f15b-f67f-4d43-9ef0-397bfac6ace1",
   "metadata": {},
   "outputs": [
    {
     "data": {
      "text/plain": [
       "(111698, 2)"
      ]
     },
     "execution_count": 21,
     "metadata": {},
     "output_type": "execute_result"
    }
   ],
   "source": [
    "z.shape"
   ]
  },
  {
   "cell_type": "code",
   "execution_count": 8,
   "id": "a1036c8a-7d65-413a-b40b-583fa3ce70c9",
   "metadata": {},
   "outputs": [
    {
     "data": {
      "text/plain": [
       "(768,)"
      ]
     },
     "execution_count": 8,
     "metadata": {},
     "output_type": "execute_result"
    }
   ],
   "source": [
    "z.iloc[0]['embeddings'].shape"
   ]
  },
  {
   "cell_type": "code",
   "execution_count": 11,
   "id": "66368f82-c1fc-470b-ad40-ae075d3ebab9",
   "metadata": {},
   "outputs": [
    {
     "data": {
      "text/plain": [
       "'s3://clay-california-worldcover-rgbnir-vvvh-chips/chips/worldcover_california_chip_102400_99072.tif'"
      ]
     },
     "execution_count": 11,
     "metadata": {},
     "output_type": "execute_result"
    }
   ],
   "source": [
    "chip_aws_path = z.iloc[0]['chips']\n",
    "chip_aws_path"
   ]
  },
  {
   "cell_type": "code",
   "execution_count": 16,
   "id": "9a01973b-d706-4b9a-857d-e43334d42758",
   "metadata": {},
   "outputs": [],
   "source": [
    "col, row = [int(i) for i in chip_aws_path.split(\"/\")[-1].split(\".\")[0].split(\"_\")[-2:]]"
   ]
  },
  {
   "cell_type": "code",
   "execution_count": 17,
   "id": "a1d6e8ff-4c2e-48f0-916b-3349341d0d10",
   "metadata": {},
   "outputs": [
    {
     "data": {
      "text/plain": [
       "(102400, 99072)"
      ]
     },
     "execution_count": 17,
     "metadata": {},
     "output_type": "execute_result"
    }
   ],
   "source": [
    "col, row"
   ]
  },
  {
   "cell_type": "code",
   "execution_count": 23,
   "id": "1bdb16a7-fe2d-42fc-9f76-397077f9cecf",
   "metadata": {},
   "outputs": [
    {
     "name": "stderr",
     "output_type": "stream",
     "text": [
      "\u001b[38;2;0;255;0m100%\u001b[39m \u001b[38;2;0;255;0m(111698 of 111698)\u001b[39m |################| Elapsed Time: 0:00:53 Time:  0:00:530004\n"
     ]
    }
   ],
   "source": [
    "chipid_map = {}\n",
    "not_found = []\n",
    "too_many = []\n",
    "for chip_aws_path in pbar(z.chips.values):\n",
    "    col, row = [int(i) for i in chip_aws_path.split(\"/\")[-1].split(\".\")[0].split(\"_\")[-2:]]\n",
    "    c = m[ (m['col']==col) & (m['row']==row) ]\n",
    "    if len(c)==1:\n",
    "        chipid_map[(col,row)] = c.index[0]\n",
    "    elif len(c)==0:\n",
    "embedding        not_found.append([col,row])\n",
    "    elif len(c)==0:\n",
    "        too_many.append([col,row])\n"
   ]
  },
  {
   "cell_type": "code",
   "execution_count": 24,
   "id": "f99af446-ee6f-4a70-b6ad-c4eadb0575a4",
   "metadata": {},
   "outputs": [
    {
     "data": {
      "text/plain": [
       "(28207, 0, 83491)"
      ]
     },
     "execution_count": 24,
     "metadata": {},
     "output_type": "execute_result"
    }
   ],
   "source": [
    "len(not_found), len(too_many), len(chipid_map)"
   ]
  },
  {
   "cell_type": "code",
   "execution_count": 26,
   "id": "3db6e556-3e5a-41ad-8826-0889e3f29d47",
   "metadata": {},
   "outputs": [
    {
     "data": {
      "text/plain": [
       "[102656, 97536]"
      ]
     },
     "execution_count": 26,
     "metadata": {},
     "output_type": "execute_result"
    }
   ],
   "source": [
    "not_found[0]"
   ]
  },
  {
   "cell_type": "code",
   "execution_count": 27,
   "id": "385a91d8-f039-40ee-9bf0-99575d6f1f5e",
   "metadata": {},
   "outputs": [
    {
     "data": {
      "text/plain": [
       "(83609, 8)"
      ]
     },
     "execution_count": 27,
     "metadata": {},
     "output_type": "execute_result"
    }
   ],
   "source": [
    "m.shape"
   ]
  },
  {
   "cell_type": "code",
   "execution_count": 29,
   "id": "2e08193d-b68f-44fc-9c35-3ead8ab047cc",
   "metadata": {},
   "outputs": [
    {
     "data": {
      "text/plain": [
       "split\n",
       "train    58690\n",
       "test     13078\n",
       "val      11841\n",
       "Name: count, dtype: int64"
      ]
     },
     "execution_count": 29,
     "metadata": {},
     "output_type": "execute_result"
    }
   ],
   "source": [
    "m['split'].value_counts()"
   ]
  },
  {
   "cell_type": "code",
   "execution_count": 38,
   "id": "4881cfd7-1a2e-4d37-8c11-9ee5056e060c",
   "metadata": {},
   "outputs": [],
   "source": [
    "embeddings_folder = \"/opt/data/california-worldcover-chips/embeddings_v1.0\""
   ]
  },
  {
   "cell_type": "code",
   "execution_count": 44,
   "id": "201c3de9-d003-4b9f-ac59-6d990f2b8c3e",
   "metadata": {},
   "outputs": [
    {
     "name": "stderr",
     "output_type": "stream",
     "text": [
      "\u001b[38;2;0;255;0m100%\u001b[39m \u001b[38;2;0;255;0m(111698 of 111698)\u001b[39m |################| Elapsed Time: 0:00:14 Time:  0:00:140001\n"
     ]
    }
   ],
   "source": [
    "import pickle\n",
    "for _,i in pbar(z.iterrows(), max_value=len(z)):\n",
    "    fname = i.chips.split(\"/\")[-1].split(\".\")[0]+\".pkl\"\n",
    "    with open(f\"{embeddings_folder}/{fname}\", \"wb\") as f:\n",
    "        pickle.dump(i.embeddings, f)\n",
    "    "
   ]
  },
  {
   "cell_type": "code",
   "execution_count": null,
   "id": "319ed4c2-a1cd-426d-b781-1e2d4a084fbc",
   "metadata": {},
   "outputs": [],
   "source": []
  },
  {
   "cell_type": "code",
   "execution_count": null,
   "id": "0002caf8-7daa-4380-b752-ea60964ec364",
   "metadata": {},
   "outputs": [],
   "source": []
  },
  {
   "cell_type": "code",
   "execution_count": 1,
   "id": "2b508c83-6fab-40bb-86b3-68d8e8e1e8e1",
   "metadata": {},
   "outputs": [],
   "source": [
    "from omegaconf import OmegaConf\n",
    "import hydra"
   ]
  },
  {
   "cell_type": "code",
   "execution_count": 4,
   "id": "b3706907-7e2a-4aeb-b0d2-81c2796df463",
   "metadata": {},
   "outputs": [
    {
     "data": {
      "text/plain": [
       "{'_target_': 'earthtext.datamodules.chipmultilabel.ChipMultilabelModule', 'metadata_file': '/opt/data/california-worldcover-chips/california-worldcover-chips-osm-multilabels_mod-prec7pc_emb-v0-2-20240426.parquet', 'embeddings_folder': '/opt/data/california-worldcover-chips/embeddings_v0.2-20240426', 'chips_folder': '/opt/data/clay-california-worldcover-rgbnir-vvvh-chips/chips', 'get_osm_strlabels': True, 'get_osm_ohearea': True, 'get_osm_ohecount': True, 'get_osm_ohelength': True, 'embeddings_normalization': 'mean_stdev_norm', 'multilabel_threshold_osm_ohecount': 1, 'normalize_input': True, 'batch_size': 32}"
      ]
     },
     "execution_count": 4,
     "metadata": {},
     "output_type": "execute_result"
    }
   ],
   "source": [
    "conf = OmegaConf.load(\"../../configs/osmencoder-x.yaml\")\n",
    "conf.dataloader"
   ]
  },
  {
   "cell_type": "code",
   "execution_count": 46,
   "id": "2d126f89-a40f-4683-b5c2-01345790903c",
   "metadata": {},
   "outputs": [],
   "source": [
    "embeddings_folder = \"/opt/data/california-worldcover-chips/embeddings_v1.0\"\n",
    "\n",
    "conf.dataloader.embeddings_folder = embeddings_folder\n",
    "conf.dataloader.get_chip_id = True\n",
    "conf.dataloader['embeddings_folder'], conf.dataloader.chips_folder, conf.dataloader.get_chip_id\n",
    "conf.dataloader.embeddings_normalization = None"
   ]
  },
  {
   "cell_type": "code",
   "execution_count": null,
   "id": "b3548324-90c3-407e-baf4-c6d7599823bd",
   "metadata": {},
   "outputs": [],
   "source": []
  },
  {
   "cell_type": "code",
   "execution_count": 47,
   "id": "21fbcce6-8376-45b8-8c48-548627678048",
   "metadata": {},
   "outputs": [
    {
     "name": "stderr",
     "output_type": "stream",
     "text": [
      "\u001b[32m2024-05-09 12:54:32.849\u001b[0m | \u001b[1mINFO    \u001b[0m | \u001b[36mearthtext.datamodules.components.chipmultilabel\u001b[0m:\u001b[36m__init__\u001b[0m:\u001b[36m93\u001b[0m - \u001b[1mchecking chip files for train split\u001b[0m\n",
      "\u001b[38;2;0;255;0m100%\u001b[39m \u001b[38;2;0;255;0m(58690 of 58690)\u001b[39m |##################| Elapsed Time: 0:00:03 Time:  0:00:030000\n",
      "\u001b[32m2024-05-09 12:54:36.206\u001b[0m | \u001b[1mINFO    \u001b[0m | \u001b[36mearthtext.datamodules.components.chipmultilabel\u001b[0m:\u001b[36m__init__\u001b[0m:\u001b[36m97\u001b[0m - \u001b[1mread train split with 58598 chip files (out of 58690)\u001b[0m\n",
      "\u001b[32m2024-05-09 12:54:36.207\u001b[0m | \u001b[1mINFO    \u001b[0m | \u001b[36mearthtext.datamodules.components.chipmultilabel\u001b[0m:\u001b[36m__init__\u001b[0m:\u001b[36m102\u001b[0m - \u001b[1mmax cache size is -1\u001b[0m\n",
      "\u001b[32m2024-05-09 12:54:36.644\u001b[0m | \u001b[1mINFO    \u001b[0m | \u001b[36mearthtext.datamodules.components.chipmultilabel\u001b[0m:\u001b[36m__init__\u001b[0m:\u001b[36m93\u001b[0m - \u001b[1mchecking chip files for val split\u001b[0m\n",
      "\u001b[38;2;0;255;0m100%\u001b[39m \u001b[38;2;0;255;0m(11841 of 11841)\u001b[39m |##################| Elapsed Time: 0:00:00 Time:  0:00:000000\n",
      "\u001b[32m2024-05-09 12:54:37.318\u001b[0m | \u001b[1mINFO    \u001b[0m | \u001b[36mearthtext.datamodules.components.chipmultilabel\u001b[0m:\u001b[36m__init__\u001b[0m:\u001b[36m97\u001b[0m - \u001b[1mread val split with 11822 chip files (out of 11841)\u001b[0m\n",
      "\u001b[32m2024-05-09 12:54:37.318\u001b[0m | \u001b[1mINFO    \u001b[0m | \u001b[36mearthtext.datamodules.components.chipmultilabel\u001b[0m:\u001b[36m__init__\u001b[0m:\u001b[36m102\u001b[0m - \u001b[1mmax cache size is -1\u001b[0m\n",
      "\u001b[32m2024-05-09 12:54:37.962\u001b[0m | \u001b[1mINFO    \u001b[0m | \u001b[36mearthtext.datamodules.components.chipmultilabel\u001b[0m:\u001b[36m__init__\u001b[0m:\u001b[36m93\u001b[0m - \u001b[1mchecking chip files for test split\u001b[0m\n",
      "\u001b[38;2;0;255;0m100%\u001b[39m \u001b[38;2;0;255;0m(13078 of 13078)\u001b[39m |##################| Elapsed Time: 0:00:00 Time:  0:00:000000\n",
      "\u001b[32m2024-05-09 12:54:38.677\u001b[0m | \u001b[1mINFO    \u001b[0m | \u001b[36mearthtext.datamodules.components.chipmultilabel\u001b[0m:\u001b[36m__init__\u001b[0m:\u001b[36m97\u001b[0m - \u001b[1mread test split with 13071 chip files (out of 13078)\u001b[0m\n",
      "\u001b[32m2024-05-09 12:54:38.677\u001b[0m | \u001b[1mINFO    \u001b[0m | \u001b[36mearthtext.datamodules.components.chipmultilabel\u001b[0m:\u001b[36m__init__\u001b[0m:\u001b[36m102\u001b[0m - \u001b[1mmax cache size is -1\u001b[0m\n",
      "\u001b[32m2024-05-09 12:54:38.678\u001b[0m | \u001b[1mINFO    \u001b[0m | \u001b[36mearthtext.datamodules.chipmultilabel\u001b[0m:\u001b[36mcompute\u001b[0m:\u001b[36m38\u001b[0m - \u001b[1mreading means and stddevs from /opt/data/california-worldcover-chips/california-worldcover-chips-osm-multilabels_mod-prec7pc_emb-v0-2-20240426_embeddings_v1.0_meansstdevs.pkl\u001b[0m\n"
     ]
    }
   ],
   "source": [
    "data = hydra.utils.instantiate(conf.dataloader)"
   ]
  },
  {
   "cell_type": "code",
   "execution_count": 48,
   "id": "b073d856-7415-4afa-9abe-37391456f583",
   "metadata": {},
   "outputs": [
    {
     "data": {
      "text/plain": [
       "True"
      ]
     },
     "execution_count": 48,
     "metadata": {},
     "output_type": "execute_result"
    }
   ],
   "source": [
    "data.train_dataset.get_chip_id"
   ]
  },
  {
   "cell_type": "code",
   "execution_count": 49,
   "id": "ecf1bc46-f4f0-4f2e-a475-36bcb31240bd",
   "metadata": {},
   "outputs": [
    {
     "data": {
      "text/plain": [
       "83491"
      ]
     },
     "execution_count": 49,
     "metadata": {},
     "output_type": "execute_result"
    }
   ],
   "source": [
    "len(data.train_dataset) + len(data.val_dataset) + len(data.test_dataset)"
   ]
  },
  {
   "cell_type": "code",
   "execution_count": 50,
   "id": "efaac8f3-8a69-4390-8d7e-d0dca7e0465a",
   "metadata": {},
   "outputs": [],
   "source": [
    "data.disable_chip_loading()"
   ]
  },
  {
   "cell_type": "code",
   "execution_count": 83,
   "id": "525b899b-554c-43f7-b3ae-19812f16aeb7",
   "metadata": {},
   "outputs": [],
   "source": [
    "traindl = data.train_dataloader()"
   ]
  },
  {
   "cell_type": "code",
   "execution_count": 75,
   "id": "80e19440-4b0a-4c84-b296-8c598fc0ce8f",
   "metadata": {},
   "outputs": [
    {
     "name": "stderr",
     "output_type": "stream",
     "text": [
      "\u001b[38;2;0;255;0m100%\u001b[39m \u001b[38;2;0;255;0m(1832 of 1832)\u001b[39m |####################| Elapsed Time: 0:00:15 Time:  0:00:150001\n"
     ]
    }
   ],
   "source": [
    "for batch in pbar(traindl):\n",
    "    pass"
   ]
  },
  {
   "cell_type": "code",
   "execution_count": 77,
   "id": "6d547f5b-07e2-479e-aaae-23361adf1a90",
   "metadata": {},
   "outputs": [
    {
     "name": "stderr",
     "output_type": "stream",
     "text": [
      "\u001b[38;2;0;255;0m100%\u001b[39m \u001b[38;2;0;255;0m(409 of 409)\u001b[39m |######################| Elapsed Time: 0:00:03 Time:  0:00:030000\n"
     ]
    }
   ],
   "source": [
    "testdl = data.test_dataloader()\n",
    "for batch in pbar(testdl):\n",
    "    pass"
   ]
  },
  {
   "cell_type": "code",
   "execution_count": 51,
   "id": "f4a2e693-b7a9-4bb8-8614-875ed70e0a50",
   "metadata": {},
   "outputs": [
    {
     "name": "stderr",
     "output_type": "stream",
     "text": [
      "\u001b[38;2;0;255;0m100%\u001b[39m \u001b[38;2;0;255;0m(370 of 370)\u001b[39m |######################| Elapsed Time: 0:00:02 Time:  0:00:020000\n"
     ]
    }
   ],
   "source": [
    "valdl = data.val_dataloader()\n",
    "for batch in pbar(valdl):\n",
    "    pass"
   ]
  },
  {
   "cell_type": "code",
   "execution_count": 52,
   "id": "1f18e886-82d9-4b8b-8940-7055600d01b3",
   "metadata": {},
   "outputs": [
    {
     "data": {
      "text/plain": [
       "dict_keys(['multilabel', 'chip_id', 'embedding', 'osm_strlabels', 'osm_ohearea', 'osm_ohecount', 'osm_ohelength'])"
      ]
     },
     "execution_count": 52,
     "metadata": {},
     "output_type": "execute_result"
    }
   ],
   "source": [
    "batch.keys()"
   ]
  },
  {
   "cell_type": "code",
   "execution_count": 53,
   "id": "c62e8728-e05b-4b84-a300-19ddc2124eaa",
   "metadata": {},
   "outputs": [
    {
     "data": {
      "text/plain": [
       "(37632, 11776)"
      ]
     },
     "execution_count": 53,
     "metadata": {},
     "output_type": "execute_result"
    }
   ],
   "source": [
    "ci = np.random.randint(len(batch['chip_id'])\n",
    "chip_id = batch['chip_id'][ci]\n",
    "col = m.loc[chip_id]['col']\n",
    "row = m.loc[chip_id]['row']\n",
    "fname = f\"s3://clay-california-worldcover-rgbnir-vvvh-chips/chips/worldcover_california_chip_{col}_{row}.tif\"\n",
    "np.allclose(z[z.chips==fname].iloc[0].embeddings, batch['embedding'][0])\n",
    "col, row"
   ]
  },
  {
   "cell_type": "code",
   "execution_count": 55,
   "id": "8ccbee89-9728-4019-8ced-6a91110c0daa",
   "metadata": {},
   "outputs": [
    {
     "data": {
      "text/plain": [
       "'s3://clay-california-worldcover-rgbnir-vvvh-chips/chips/worldcover_california_chip_37632_11776.tif'"
      ]
     },
     "execution_count": 55,
     "metadata": {},
     "output_type": "execute_result"
    }
   ],
   "source": [
    "fname = f\"s3://clay-california-worldcover-rgbnir-vvvh-chips/chips/worldcover_california_chip_{col}_{row}.tif\"\n",
    "fname"
   ]
  },
  {
   "cell_type": "code",
   "execution_count": 56,
   "id": "9bc64aaa-25eb-446a-9d3c-bd78b00a1077",
   "metadata": {},
   "outputs": [
    {
     "data": {
      "text/plain": [
       "True"
      ]
     },
     "execution_count": 56,
     "metadata": {},
     "output_type": "execute_result"
    }
   ],
   "source": [
    "import numpy as np\n",
    "np.allclose(z[z.chips==fname].iloc[0].embeddings, batch['embedding'][0])"
   ]
  },
  {
   "cell_type": "code",
   "execution_count": 57,
   "id": "b5ecaa5d-7b51-455c-baaa-a266f1780d80",
   "metadata": {},
   "outputs": [
    {
     "data": {
      "text/plain": [
       "(tensor([-0.0998,  0.0810, -0.0187,  0.1351,  0.0835,  0.3186,  0.0655,  0.1875,\n",
       "         -0.2679, -0.0590]),\n",
       " array([-0.09982982,  0.08101191, -0.01867879,  0.13510755,  0.08345962,\n",
       "         0.31858194,  0.06550831,  0.18751638, -0.26793486, -0.05899944],\n",
       "       dtype=float32))"
      ]
     },
     "execution_count": 57,
     "metadata": {},
     "output_type": "execute_result"
    }
   ],
   "source": [
    " batch['embedding'][0][:10], z[z.chips==fname].iloc[0].embeddings[:10]"
   ]
  },
  {
   "cell_type": "code",
   "execution_count": null,
   "id": "a5933d6e-9b71-45c7-9240-0c1e0d79b2c1",
   "metadata": {},
   "outputs": [],
   "source": [
    " batch['embedding'][0][:10]"
   ]
  },
  {
   "cell_type": "code",
   "execution_count": null,
   "id": "ed6b0894-c919-4fa5-adf3-201f80cf6b26",
   "metadata": {},
   "outputs": [],
   "source": []
  },
  {
   "cell_type": "code",
   "execution_count": 39,
   "id": "6e187ecb-9592-4313-8217-793ed8a58277",
   "metadata": {},
   "outputs": [
    {
     "data": {
      "text/html": [
       "<div>\n",
       "<style scoped>\n",
       "    .dataframe tbody tr th:only-of-type {\n",
       "        vertical-align: middle;\n",
       "    }\n",
       "\n",
       "    .dataframe tbody tr th {\n",
       "        vertical-align: top;\n",
       "    }\n",
       "\n",
       "    .dataframe thead th {\n",
       "        text-align: right;\n",
       "    }\n",
       "</style>\n",
       "<table border=\"1\" class=\"dataframe\">\n",
       "  <thead>\n",
       "    <tr style=\"text-align: right;\">\n",
       "      <th></th>\n",
       "      <th>chips</th>\n",
       "      <th>embeddings</th>\n",
       "    </tr>\n",
       "  </thead>\n",
       "  <tbody>\n",
       "    <tr>\n",
       "      <th>85000</th>\n",
       "      <td>s3://clay-california-worldcover-rgbnir-vvvh-ch...</td>\n",
       "      <td>[-0.099829815, 0.08101191, -0.01867879, 0.1351...</td>\n",
       "    </tr>\n",
       "  </tbody>\n",
       "</table>\n",
       "</div>"
      ],
      "text/plain": [
       "                                                   chips  \\\n",
       "85000  s3://clay-california-worldcover-rgbnir-vvvh-ch...   \n",
       "\n",
       "                                              embeddings  \n",
       "85000  [-0.099829815, 0.08101191, -0.01867879, 0.1351...  "
      ]
     },
     "execution_count": 39,
     "metadata": {},
     "output_type": "execute_result"
    }
   ],
   "source": [
    "z[z.chips==fname]"
   ]
  },
  {
   "cell_type": "code",
   "execution_count": null,
   "id": "d489d844-2b70-41af-81a8-95556799609c",
   "metadata": {},
   "outputs": [],
   "source": []
  }
 ],
 "metadata": {
  "kernelspec": {
   "display_name": "earth-text-env",
   "language": "python",
   "name": "earth-text-env"
  },
  "language_info": {
   "codemirror_mode": {
    "name": "ipython",
    "version": 3
   },
   "file_extension": ".py",
   "mimetype": "text/x-python",
   "name": "python",
   "nbconvert_exporter": "python",
   "pygments_lexer": "ipython3",
   "version": "3.12.2"
  }
 },
 "nbformat": 4,
 "nbformat_minor": 5
}
