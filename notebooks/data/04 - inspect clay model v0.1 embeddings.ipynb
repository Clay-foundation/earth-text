{
 "cells": [
  {
   "cell_type": "code",
   "execution_count": null,
   "id": "4ae9f3a7-a27a-43ca-8855-48a6cc0a2d3d",
   "metadata": {},
   "outputs": [],
   "source": [
    "import geopandas as gpd\n",
    "import pandas as pd\n",
    "import os\n",
    "import numpy as np\n",
    "from progressbar import progressbar as pbar\n",
    "\n",
    "from pyproj import CRS\n",
    "epsg4326 = CRS.from_epsg(4326)\n",
    "epsg_california = CRS.from_epsg(26946)\n"
   ]
  },
  {
   "cell_type": "code",
   "execution_count": 33,
   "id": "236528ad-2644-45f7-996a-2ed895ff9666",
   "metadata": {},
   "outputs": [
    {
     "data": {
      "text/html": [
       "<div>\n",
       "<style scoped>\n",
       "    .dataframe tbody tr th:only-of-type {\n",
       "        vertical-align: middle;\n",
       "    }\n",
       "\n",
       "    .dataframe tbody tr th {\n",
       "        vertical-align: top;\n",
       "    }\n",
       "\n",
       "    .dataframe thead th {\n",
       "        text-align: right;\n",
       "    }\n",
       "</style>\n",
       "<table border=\"1\" class=\"dataframe\">\n",
       "  <thead>\n",
       "    <tr style=\"text-align: right;\">\n",
       "      <th></th>\n",
       "      <th>onehot_count</th>\n",
       "      <th>onehot_area</th>\n",
       "      <th>onehot_length</th>\n",
       "      <th>string_labels</th>\n",
       "      <th>col</th>\n",
       "      <th>row</th>\n",
       "      <th>geometry</th>\n",
       "      <th>split</th>\n",
       "    </tr>\n",
       "    <tr>\n",
       "      <th>chip_id</th>\n",
       "      <th></th>\n",
       "      <th></th>\n",
       "      <th></th>\n",
       "      <th></th>\n",
       "      <th></th>\n",
       "      <th></th>\n",
       "      <th></th>\n",
       "      <th></th>\n",
       "    </tr>\n",
       "  </thead>\n",
       "  <tbody>\n",
       "    <tr>\n",
       "      <th>193c3415fc237</th>\n",
       "      <td>[24, 24, 1344, 388, 472, 21, 453, 2, 8, 0, 0, ...</td>\n",
       "      <td>[58033.967200952815, 58033.967200952815, 23937...</td>\n",
       "      <td>[4913.205774298301, 4913.205774298301, 74943.4...</td>\n",
       "      <td>[amenity=*, amenity=parking, building=*, build...</td>\n",
       "      <td>78080</td>\n",
       "      <td>96000</td>\n",
       "      <td>POLYGON ((-118.47200 33.97867, -118.47200 34.0...</td>\n",
       "      <td>train</td>\n",
       "    </tr>\n",
       "    <tr>\n",
       "      <th>1639b12583426</th>\n",
       "      <td>[148, 148, 4171, 1245, 1891, 52, 938, 13, 32, ...</td>\n",
       "      <td>[160073.78667008967, 160073.78667008967, 80191...</td>\n",
       "      <td>[20966.344659970102, 20966.344659970102, 24881...</td>\n",
       "      <td>[amenity=*, amenity=parking, building=*, build...</td>\n",
       "      <td>78080</td>\n",
       "      <td>95744</td>\n",
       "      <td>POLYGON ((-118.47200 34.00000, -118.47200 34.0...</td>\n",
       "      <td>train</td>\n",
       "    </tr>\n",
       "    <tr>\n",
       "      <th>253904d963d6a</th>\n",
       "      <td>[65, 65, 200, 104, 76, 0, 18, 2, 0, 0, 0, 0, 0...</td>\n",
       "      <td>[101980.95118259436, 101980.95118259436, 71246...</td>\n",
       "      <td>[10597.989172272657, 10597.989172272657, 16664...</td>\n",
       "      <td>[amenity=*, amenity=parking, building=*, build...</td>\n",
       "      <td>77824</td>\n",
       "      <td>95744</td>\n",
       "      <td>POLYGON ((-118.49333 34.00000, -118.49333 34.0...</td>\n",
       "      <td>train</td>\n",
       "    </tr>\n",
       "    <tr>\n",
       "      <th>00530dca88d4a</th>\n",
       "      <td>[9, 9, 4897, 688, 4026, 0, 172, 10, 1, 0, 0, 0...</td>\n",
       "      <td>[17637.908172952746, 17637.908172952746, 10930...</td>\n",
       "      <td>[1925.4953839123748, 1925.4953839123748, 32065...</td>\n",
       "      <td>[amenity=*, amenity=parking, building=*, build...</td>\n",
       "      <td>77824</td>\n",
       "      <td>95488</td>\n",
       "      <td>POLYGON ((-118.49333 34.02133, -118.49333 34.0...</td>\n",
       "      <td>train</td>\n",
       "    </tr>\n",
       "    <tr>\n",
       "      <th>0e554bbdbe661</th>\n",
       "      <td>[80, 80, 4358, 1262, 2386, 59, 597, 27, 27, 0,...</td>\n",
       "      <td>[131950.60085068244, 131950.60085068244, 98472...</td>\n",
       "      <td>[13536.03447682216, 13536.03447682216, 283601....</td>\n",
       "      <td>[amenity=*, amenity=parking, building=*, build...</td>\n",
       "      <td>78080</td>\n",
       "      <td>95488</td>\n",
       "      <td>POLYGON ((-118.47200 34.02133, -118.47200 34.0...</td>\n",
       "      <td>train</td>\n",
       "    </tr>\n",
       "  </tbody>\n",
       "</table>\n",
       "</div>"
      ],
      "text/plain": [
       "                                                    onehot_count  \\\n",
       "chip_id                                                            \n",
       "193c3415fc237  [24, 24, 1344, 388, 472, 21, 453, 2, 8, 0, 0, ...   \n",
       "1639b12583426  [148, 148, 4171, 1245, 1891, 52, 938, 13, 32, ...   \n",
       "253904d963d6a  [65, 65, 200, 104, 76, 0, 18, 2, 0, 0, 0, 0, 0...   \n",
       "00530dca88d4a  [9, 9, 4897, 688, 4026, 0, 172, 10, 1, 0, 0, 0...   \n",
       "0e554bbdbe661  [80, 80, 4358, 1262, 2386, 59, 597, 27, 27, 0,...   \n",
       "\n",
       "                                                     onehot_area  \\\n",
       "chip_id                                                            \n",
       "193c3415fc237  [58033.967200952815, 58033.967200952815, 23937...   \n",
       "1639b12583426  [160073.78667008967, 160073.78667008967, 80191...   \n",
       "253904d963d6a  [101980.95118259436, 101980.95118259436, 71246...   \n",
       "00530dca88d4a  [17637.908172952746, 17637.908172952746, 10930...   \n",
       "0e554bbdbe661  [131950.60085068244, 131950.60085068244, 98472...   \n",
       "\n",
       "                                                   onehot_length  \\\n",
       "chip_id                                                            \n",
       "193c3415fc237  [4913.205774298301, 4913.205774298301, 74943.4...   \n",
       "1639b12583426  [20966.344659970102, 20966.344659970102, 24881...   \n",
       "253904d963d6a  [10597.989172272657, 10597.989172272657, 16664...   \n",
       "00530dca88d4a  [1925.4953839123748, 1925.4953839123748, 32065...   \n",
       "0e554bbdbe661  [13536.03447682216, 13536.03447682216, 283601....   \n",
       "\n",
       "                                                   string_labels    col  \\\n",
       "chip_id                                                                   \n",
       "193c3415fc237  [amenity=*, amenity=parking, building=*, build...  78080   \n",
       "1639b12583426  [amenity=*, amenity=parking, building=*, build...  78080   \n",
       "253904d963d6a  [amenity=*, amenity=parking, building=*, build...  77824   \n",
       "00530dca88d4a  [amenity=*, amenity=parking, building=*, build...  77824   \n",
       "0e554bbdbe661  [amenity=*, amenity=parking, building=*, build...  78080   \n",
       "\n",
       "                 row                                           geometry  split  \n",
       "chip_id                                                                         \n",
       "193c3415fc237  96000  POLYGON ((-118.47200 33.97867, -118.47200 34.0...  train  \n",
       "1639b12583426  95744  POLYGON ((-118.47200 34.00000, -118.47200 34.0...  train  \n",
       "253904d963d6a  95744  POLYGON ((-118.49333 34.00000, -118.49333 34.0...  train  \n",
       "00530dca88d4a  95488  POLYGON ((-118.49333 34.02133, -118.49333 34.0...  train  \n",
       "0e554bbdbe661  95488  POLYGON ((-118.47200 34.02133, -118.47200 34.0...  train  "
      ]
     },
     "execution_count": 33,
     "metadata": {},
     "output_type": "execute_result"
    }
   ],
   "source": [
    "mfile = '/opt/data/california-worldcover-chips-osm-multilabels.parquet'\n",
    "m = gpd.read_parquet(mfile)\n",
    "m.head()"
   ]
  },
  {
   "cell_type": "markdown",
   "id": "0e485049-9ef9-46f7-94d0-21e2d7d4cfab",
   "metadata": {},
   "source": [
    "## read embeddings"
   ]
  },
  {
   "cell_type": "code",
   "execution_count": 12,
   "id": "5b321718-4508-4638-8040-770f75dc7af9",
   "metadata": {},
   "outputs": [],
   "source": [
    "basedir = '/opt/data/clay-worldcover-embeddings/v002/2021'\n",
    "files = os.listdir(basedir)"
   ]
  },
  {
   "cell_type": "code",
   "execution_count": 14,
   "id": "7152da6d-aac4-4880-a3d5-4e6d47a12942",
   "metadata": {},
   "outputs": [
    {
     "name": "stderr",
     "output_type": "stream",
     "text": [
      "\u001b[38;2;0;255;0m100%\u001b[39m \u001b[38;2;0;255;0m(1359 of 1359)\u001b[39m |####################| Elapsed Time: 0:00:34 Time:  0:00:340002\n"
     ]
    }
   ],
   "source": [
    "zs = [gpd.read_parquet(f\"{basedir}/{file}\") for file in pbar(files)]"
   ]
  },
  {
   "cell_type": "code",
   "execution_count": 29,
   "id": "23abb3e9-1edc-47e5-a6c3-bb7d49cb13be",
   "metadata": {},
   "outputs": [],
   "source": [
    "z = pd.concat(zs)\n",
    "z = gpd.GeoDataFrame(z[['geometry']], crs=z.crs)"
   ]
  },
  {
   "cell_type": "code",
   "execution_count": 58,
   "id": "6bf889a7-817c-4c53-a28a-47a850cb0251",
   "metadata": {},
   "outputs": [],
   "source": [
    "z = pd.concat(zs)"
   ]
  },
  {
   "cell_type": "code",
   "execution_count": 59,
   "id": "9006812b-6da1-49d9-ba83-314264cb43ed",
   "metadata": {},
   "outputs": [
    {
     "data": {
      "text/html": [
       "<div>\n",
       "<style scoped>\n",
       "    .dataframe tbody tr th:only-of-type {\n",
       "        vertical-align: middle;\n",
       "    }\n",
       "\n",
       "    .dataframe tbody tr th {\n",
       "        vertical-align: top;\n",
       "    }\n",
       "\n",
       "    .dataframe thead th {\n",
       "        text-align: right;\n",
       "    }\n",
       "</style>\n",
       "<table border=\"1\" class=\"dataframe\">\n",
       "  <thead>\n",
       "    <tr style=\"text-align: right;\">\n",
       "      <th></th>\n",
       "      <th>embeddings</th>\n",
       "      <th>geometry</th>\n",
       "    </tr>\n",
       "  </thead>\n",
       "  <tbody>\n",
       "    <tr>\n",
       "      <th>0</th>\n",
       "      <td>[0.0040364233, 0.011993585, -0.0061575267, 0.0...</td>\n",
       "      <td>POLYGON ((-80.07200 42.91733, -80.07200 42.960...</td>\n",
       "    </tr>\n",
       "    <tr>\n",
       "      <th>1</th>\n",
       "      <td>[0.0035310758, 0.010717143, -0.0063207466, 0.0...</td>\n",
       "      <td>POLYGON ((-80.07200 42.87467, -80.07200 42.917...</td>\n",
       "    </tr>\n",
       "    <tr>\n",
       "      <th>2</th>\n",
       "      <td>[0.0039245784, 0.010202475, -0.006146049, 0.02...</td>\n",
       "      <td>POLYGON ((-80.07200 42.83200, -80.07200 42.874...</td>\n",
       "    </tr>\n",
       "    <tr>\n",
       "      <th>3</th>\n",
       "      <td>[0.0041164826, 0.01097924, -0.0050882515, 0.02...</td>\n",
       "      <td>POLYGON ((-80.07200 42.78933, -80.07200 42.832...</td>\n",
       "    </tr>\n",
       "    <tr>\n",
       "      <th>4</th>\n",
       "      <td>[0.008650048, 0.015855795, -0.0077539827, 0.01...</td>\n",
       "      <td>POLYGON ((-80.07200 42.74667, -80.07200 42.789...</td>\n",
       "    </tr>\n",
       "  </tbody>\n",
       "</table>\n",
       "</div>"
      ],
      "text/plain": [
       "                                          embeddings  \\\n",
       "0  [0.0040364233, 0.011993585, -0.0061575267, 0.0...   \n",
       "1  [0.0035310758, 0.010717143, -0.0063207466, 0.0...   \n",
       "2  [0.0039245784, 0.010202475, -0.006146049, 0.02...   \n",
       "3  [0.0041164826, 0.01097924, -0.0050882515, 0.02...   \n",
       "4  [0.008650048, 0.015855795, -0.0077539827, 0.01...   \n",
       "\n",
       "                                            geometry  \n",
       "0  POLYGON ((-80.07200 42.91733, -80.07200 42.960...  \n",
       "1  POLYGON ((-80.07200 42.87467, -80.07200 42.917...  \n",
       "2  POLYGON ((-80.07200 42.83200, -80.07200 42.874...  \n",
       "3  POLYGON ((-80.07200 42.78933, -80.07200 42.832...  \n",
       "4  POLYGON ((-80.07200 42.74667, -80.07200 42.789...  "
      ]
     },
     "execution_count": 59,
     "metadata": {},
     "output_type": "execute_result"
    }
   ],
   "source": [
    "z.head()"
   ]
  },
  {
   "cell_type": "code",
   "execution_count": null,
   "id": "0d0ec0e8-4e63-457d-aef4-fe15f5699483",
   "metadata": {},
   "outputs": [],
   "source": [
    "z[['geometry']].sample(1000).explore()"
   ]
  },
  {
   "cell_type": "code",
   "execution_count": null,
   "id": "1ea24a56-9c82-4288-a0b5-11970773d0eb",
   "metadata": {},
   "outputs": [],
   "source": []
  },
  {
   "cell_type": "markdown",
   "id": "00ce778a-0cee-4308-b1b6-20a810a0fb78",
   "metadata": {},
   "source": [
    "# restrict to california"
   ]
  },
  {
   "cell_type": "code",
   "execution_count": 93,
   "id": "3cc37643-28d6-45fc-8296-e95e021a607f",
   "metadata": {},
   "outputs": [
    {
     "data": {
      "image/svg+xml": [
       "<svg xmlns=\"http://www.w3.org/2000/svg\" xmlns:xlink=\"http://www.w3.org/1999/xlink\" width=\"100.0\" height=\"100.0\" viewBox=\"-124.8945302342153 32.114863361021484 11.17728113447778 10.297449107627273\" preserveAspectRatio=\"xMinYMin meet\"><g transform=\"matrix(1,0,0,-1,0,74.52717582967024)\"><path fill-rule=\"evenodd\" fill=\"#66cc99\" stroke=\"#555555\" stroke-width=\"0.2235456226895556\" opacity=\"0.6\" d=\"M -124.13657496576488,41.46445707660226 L -124.2117200106512,41.68119808383889 L -124.43892306592602,41.82450907252802 L -124.40125607040797,41.88559307972917 L -124.28504504963558,41.85949208855658 L -124.32884907835664,41.99833909329773 L -119.99924741104871,41.994949479936565 L -120.00102698648656,38.99957922993375 L -117.5001293594212,37.22038524160993 L -114.6334986306848,35.00186217519584 L -114.63439361966586,34.87289515943162 L -114.4704885755009,34.71137314916972 L -114.38671053869005,34.45791612260696 L -114.13122247508855,34.262735112604034 L -114.43419251729252,34.08738407367456 L -114.5356875238279,33.93355704877751 L -114.52422649217081,33.55307300140971 L -114.72529351798315,33.40505297197337 L -114.7064994910514,33.08816493270877 L -114.46861643881103,32.971653930005544 L -114.52686743426483,32.7570988993518 L -117.20492889541222,32.52883673637251 L -117.30925092230922,32.65640574628854 L -117.32329094240949,32.90306877470981 L -117.46788299001766,33.21249880333379 L -118.12591213891174,33.69715582307685 L -118.31914716835931,33.65955180823662 L -118.46697419824487,33.72552880740234 L -118.44726620478262,33.84876482210412 L -118.55736823433043,33.98767783118221 L -118.81476427368565,33.94721881226686 L -119.1589753378066,34.04025780281286 L -119.33489938276712,34.236869813611804 L -119.58480743378206,34.36166481220771 L -120.45602757525995,34.391489764370036 L -120.68454162275306,34.527135764438256 L -120.68961867430595,35.09883282026865 L -120.91780471801826,35.18738281473684 L -120.93330473949774,35.39275283344224 L -121.32352482184594,35.624973830611786 L -121.7278249331132,36.129013850493266 L -121.9576789837203,36.28512184915965 L -122.0764120671121,36.91020389573336 L -122.46413015434177,37.177852891362946 L -122.58818724202273,37.789366933053245 L -122.88930430819434,37.974113925812134 L -123.06797833258946,37.95867391136147 L -123.01483034746369,38.14913693036085 L -123.16477039837665,38.38834193777416 L -123.7846895512375,38.89373292826739 L -123.76197856692497,39.04109594085992 L -123.89494962619183,39.34835395259382 L -123.83466264439274,39.549198971817404 L -123.90098368532226,39.78047098284709 L -124.41103981992354,40.22527997132193 L -124.48055685886426,40.42849797904423 L -124.18980689818238,40.974053039949304 L -124.25248793135383,41.13408004499245 L -124.16071794204719,41.28929806311884 L -124.24243396206099,41.34330505944435 L -124.13998695339059,41.381826070950915 L -124.13657496576488,41.46445707660226 z\" /></g></svg>"
      ],
      "text/plain": [
       "<POLYGON ((-124.137 41.464, -124.212 41.681, -124.439 41.825, -124.401 41.88...>"
      ]
     },
     "execution_count": 93,
     "metadata": {},
     "output_type": "execute_result"
    }
   ],
   "source": [
    "cc = gpd.read_file(f\"/opt/data/osm/CA_State_TIGER2016.shp\").to_crs(epsg4326)\n",
    "c = cc.geometry[0]\n",
    "c = list(c.geoms)[6].simplify(tolerance=.05)\n",
    "caldf = gpd.GeoDataFrame(geometry=[c], crs=epsg4326)\n",
    "c"
   ]
  },
  {
   "cell_type": "code",
   "execution_count": 94,
   "id": "384a8f49-f896-4677-9e45-b4e155a470a0",
   "metadata": {},
   "outputs": [
    {
     "name": "stderr",
     "output_type": "stream",
     "text": [
      "\u001b[38;2;0;255;0m100%\u001b[39m \u001b[38;2;0;255;0m(464692 of 464692)\u001b[39m |################| Elapsed Time: 0:00:06 Time:  0:00:060000\n"
     ]
    }
   ],
   "source": [
    "zc = z[[c.intersects(gi) for gi in pbar(z.geometry.values)]]"
   ]
  },
  {
   "cell_type": "code",
   "execution_count": 95,
   "id": "5580951d-446a-428b-8e2d-91134a44c581",
   "metadata": {},
   "outputs": [
    {
     "data": {
      "text/plain": [
       "(21348, 2)"
      ]
     },
     "execution_count": 95,
     "metadata": {},
     "output_type": "execute_result"
    }
   ],
   "source": [
    "zc.shape"
   ]
  },
  {
   "cell_type": "code",
   "execution_count": null,
   "id": "4aed19b7-050d-4f7b-ad37-723ea4fea46e",
   "metadata": {},
   "outputs": [],
   "source": [
    "zc[['geometry']].explore()"
   ]
  },
  {
   "cell_type": "code",
   "execution_count": null,
   "id": "34a452d7-cdbe-4608-9720-6b47823e75eb",
   "metadata": {},
   "outputs": [],
   "source": []
  },
  {
   "cell_type": "code",
   "execution_count": null,
   "id": "a7b24ecb-326c-4ba7-b20d-c39436961d72",
   "metadata": {},
   "outputs": [],
   "source": []
  },
  {
   "cell_type": "code",
   "execution_count": 90,
   "id": "36d4cbd3-79fa-4689-94ac-33e1b8c7674b",
   "metadata": {},
   "outputs": [
    {
     "name": "stderr",
     "output_type": "stream",
     "text": [
      "\u001b[38;2;0;255;0m100%\u001b[39m \u001b[38;2;0;255;0m(464692 of 464692)\u001b[39m |################| Elapsed Time: 0:00:10 Time:  0:00:100000\n"
     ]
    }
   ],
   "source": [
    "mi = m.sample(1).iloc[0]\n",
    "zsample = z.sample(10000)\n",
    "gidxs = [mi.geometry.intersects(gi) for gi in pbar(z.geometry.values)]\n",
    "zmi = z[gidxs].copy()\n",
    "zmi.loc[0] = [ np.r_[0,0,0], mi.geometry ]\n",
    "zmi.crs = epsg4326\n"
   ]
  },
  {
   "cell_type": "code",
   "execution_count": 91,
   "id": "dda1c235-24c5-4a5d-8f29-dbcc8f592fb6",
   "metadata": {},
   "outputs": [
    {
     "data": {
      "text/html": [
       "<div>\n",
       "<style scoped>\n",
       "    .dataframe tbody tr th:only-of-type {\n",
       "        vertical-align: middle;\n",
       "    }\n",
       "\n",
       "    .dataframe tbody tr th {\n",
       "        vertical-align: top;\n",
       "    }\n",
       "\n",
       "    .dataframe thead th {\n",
       "        text-align: right;\n",
       "    }\n",
       "</style>\n",
       "<table border=\"1\" class=\"dataframe\">\n",
       "  <thead>\n",
       "    <tr style=\"text-align: right;\">\n",
       "      <th></th>\n",
       "      <th>embeddings</th>\n",
       "      <th>geometry</th>\n",
       "    </tr>\n",
       "  </thead>\n",
       "  <tbody>\n",
       "    <tr>\n",
       "      <th>157</th>\n",
       "      <td>[0.009271244, 0.010958168, -0.002312369, 0.025...</td>\n",
       "      <td>POLYGON ((-123.97600 41.59467, -123.97600 41.6...</td>\n",
       "    </tr>\n",
       "    <tr>\n",
       "      <th>158</th>\n",
       "      <td>[0.008866268, 0.0109481895, -0.0025550167, 0.0...</td>\n",
       "      <td>POLYGON ((-123.97600 41.55200, -123.97600 41.5...</td>\n",
       "    </tr>\n",
       "    <tr>\n",
       "      <th>179</th>\n",
       "      <td>[0.008450554, 0.0106904125, -0.0035659026, 0.0...</td>\n",
       "      <td>POLYGON ((-123.93333 41.59467, -123.93333 41.6...</td>\n",
       "    </tr>\n",
       "    <tr>\n",
       "      <th>180</th>\n",
       "      <td>[0.008910642, 0.010930562, -0.0027017933, 0.02...</td>\n",
       "      <td>POLYGON ((-123.93333 41.55200, -123.93333 41.5...</td>\n",
       "    </tr>\n",
       "    <tr>\n",
       "      <th>0</th>\n",
       "      <td>[0, 0, 0]</td>\n",
       "      <td>POLYGON ((-123.95467 41.59467, -123.95467 41.6...</td>\n",
       "    </tr>\n",
       "  </tbody>\n",
       "</table>\n",
       "</div>"
      ],
      "text/plain": [
       "                                            embeddings  \\\n",
       "157  [0.009271244, 0.010958168, -0.002312369, 0.025...   \n",
       "158  [0.008866268, 0.0109481895, -0.0025550167, 0.0...   \n",
       "179  [0.008450554, 0.0106904125, -0.0035659026, 0.0...   \n",
       "180  [0.008910642, 0.010930562, -0.0027017933, 0.02...   \n",
       "0                                            [0, 0, 0]   \n",
       "\n",
       "                                              geometry  \n",
       "157  POLYGON ((-123.97600 41.59467, -123.97600 41.6...  \n",
       "158  POLYGON ((-123.97600 41.55200, -123.97600 41.5...  \n",
       "179  POLYGON ((-123.93333 41.59467, -123.93333 41.6...  \n",
       "180  POLYGON ((-123.93333 41.55200, -123.93333 41.5...  \n",
       "0    POLYGON ((-123.95467 41.59467, -123.95467 41.6...  "
      ]
     },
     "execution_count": 91,
     "metadata": {},
     "output_type": "execute_result"
    }
   ],
   "source": [
    "zmi"
   ]
  },
  {
   "cell_type": "code",
   "execution_count": null,
   "id": "7c745522-b700-452c-90e7-11ebf3110bb8",
   "metadata": {},
   "outputs": [],
   "source": [
    "zmi[['geometry']].explore()"
   ]
  },
  {
   "cell_type": "code",
   "execution_count": null,
   "id": "78772426-787c-4f2e-b65f-4a0064ce89c1",
   "metadata": {},
   "outputs": [],
   "source": []
  }
 ],
 "metadata": {
  "kernelspec": {
   "display_name": "earth-text-env",
   "language": "python",
   "name": "earth-text-env"
  },
  "language_info": {
   "codemirror_mode": {
    "name": "ipython",
    "version": 3
   },
   "file_extension": ".py",
   "mimetype": "text/x-python",
   "name": "python",
   "nbconvert_exporter": "python",
   "pygments_lexer": "ipython3",
   "version": "3.12.2"
  }
 },
 "nbformat": 4,
 "nbformat_minor": 5
}
