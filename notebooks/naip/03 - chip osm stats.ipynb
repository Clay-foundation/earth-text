{
 "cells": [
  {
   "cell_type": "code",
   "execution_count": 2,
   "id": "9a2bc89f-e2d3-4f5e-8c25-d0f16d7a6f64",
   "metadata": {},
   "outputs": [],
   "source": [
    "import geopandas as gpd\n",
    "import pandas as pd\n",
    "import numpy as np\n",
    "import matplotlib.pyplot as plt\n",
    "import os\n",
    "from progressbar import progressbar as pbar\n",
    "from joblib import Parallel, delayed\n"
   ]
  },
  {
   "cell_type": "code",
   "execution_count": 3,
   "id": "4e03a6f3-a1dd-426b-b6c4-5f037f131716",
   "metadata": {},
   "outputs": [
    {
     "data": {
      "text/plain": [
       "112320"
      ]
     },
     "execution_count": 3,
     "metadata": {},
     "output_type": "execute_result"
    }
   ],
   "source": [
    "osmfolder = \"/opt/data/california-naip-chips/osm\"\n",
    "files = os.listdir(osmfolder)\n",
    "len(files)"
   ]
  },
  {
   "cell_type": "code",
   "execution_count": 4,
   "id": "3c87168f-1a2f-4b31-9a79-7f744ae0b373",
   "metadata": {},
   "outputs": [],
   "source": [
    "def count(file):\n",
    "    chip_id = file.split(\".\")[0]\n",
    "    z = gpd.read_parquet(f\"{osmfolder}/{file}\")\n",
    "    return chip_id, len(z)"
   ]
  },
  {
   "cell_type": "code",
   "execution_count": 5,
   "id": "6e073498-437b-4c27-b4e2-0511d439eacc",
   "metadata": {},
   "outputs": [
    {
     "name": "stderr",
     "output_type": "stream",
     "text": [
      "[Parallel(n_jobs=10)]: Using backend LokyBackend with 10 concurrent workers.\n",
      "[Parallel(n_jobs=10)]: Done  54 tasks      | elapsed:    0.9s\n",
      "[Parallel(n_jobs=10)]: Done 586 tasks      | elapsed:    2.5s\n",
      "[Parallel(n_jobs=10)]: Done 1594 tasks      | elapsed:    5.1s\n",
      "[Parallel(n_jobs=10)]: Done 2890 tasks      | elapsed:    8.5s\n",
      "[Parallel(n_jobs=10)]: Done 4474 tasks      | elapsed:   12.7s\n",
      "[Parallel(n_jobs=10)]: Done 6346 tasks      | elapsed:   17.6s\n",
      "[Parallel(n_jobs=10)]: Done 8506 tasks      | elapsed:   23.3s\n",
      "[Parallel(n_jobs=10)]: Done 10954 tasks      | elapsed:   29.7s\n",
      "[Parallel(n_jobs=10)]: Done 13690 tasks      | elapsed:   36.9s\n",
      "[Parallel(n_jobs=10)]: Done 16714 tasks      | elapsed:   44.8s\n",
      "[Parallel(n_jobs=10)]: Done 20026 tasks      | elapsed:   53.5s\n",
      "[Parallel(n_jobs=10)]: Done 23626 tasks      | elapsed:  1.0min\n",
      "[Parallel(n_jobs=10)]: Done 27514 tasks      | elapsed:  1.2min\n",
      "[Parallel(n_jobs=10)]: Done 31690 tasks      | elapsed:  1.4min\n",
      "[Parallel(n_jobs=10)]: Done 36154 tasks      | elapsed:  1.6min\n",
      "[Parallel(n_jobs=10)]: Done 40906 tasks      | elapsed:  1.8min\n",
      "[Parallel(n_jobs=10)]: Done 45946 tasks      | elapsed:  2.0min\n",
      "[Parallel(n_jobs=10)]: Done 51274 tasks      | elapsed:  2.3min\n",
      "[Parallel(n_jobs=10)]: Done 56890 tasks      | elapsed:  2.5min\n",
      "[Parallel(n_jobs=10)]: Done 62794 tasks      | elapsed:  2.8min\n",
      "[Parallel(n_jobs=10)]: Done 68986 tasks      | elapsed:  3.0min\n",
      "[Parallel(n_jobs=10)]: Done 75466 tasks      | elapsed:  3.3min\n",
      "[Parallel(n_jobs=10)]: Done 82234 tasks      | elapsed:  3.6min\n",
      "[Parallel(n_jobs=10)]: Done 89290 tasks      | elapsed:  3.9min\n",
      "[Parallel(n_jobs=10)]: Done 96634 tasks      | elapsed:  4.2min\n",
      "[Parallel(n_jobs=10)]: Done 104266 tasks      | elapsed:  4.6min\n",
      "[Parallel(n_jobs=10)]: Done 112186 tasks      | elapsed:  4.9min\n",
      "[Parallel(n_jobs=10)]: Done 112320 out of 112320 | elapsed:  4.9min finished\n"
     ]
    }
   ],
   "source": [
    "counts = Parallel(n_jobs=10, verbose=5)(delayed(count)(file) for file in files)"
   ]
  },
  {
   "cell_type": "code",
   "execution_count": 6,
   "id": "6e0fa2ea-d3aa-4892-9521-f77528d58166",
   "metadata": {},
   "outputs": [
    {
     "data": {
      "text/plain": [
       "112320"
      ]
     },
     "execution_count": 6,
     "metadata": {},
     "output_type": "execute_result"
    }
   ],
   "source": [
    "len(counts)"
   ]
  },
  {
   "cell_type": "code",
   "execution_count": 7,
   "id": "ccb7028e-bd88-4291-8f08-9c1b8cd5136a",
   "metadata": {},
   "outputs": [
    {
     "data": {
      "text/plain": [
       "112320"
      ]
     },
     "execution_count": 7,
     "metadata": {},
     "output_type": "execute_result"
    }
   ],
   "source": [
    "len(counts)"
   ]
  },
  {
   "cell_type": "code",
   "execution_count": 8,
   "id": "9bb1a0d6-bb20-4609-9d12-0573d4691ada",
   "metadata": {},
   "outputs": [
    {
     "data": {
      "text/plain": [
       "[('363a8bd1189d2', 2),\n",
       " ('2e40268e9f603', 1),\n",
       " ('1ff73cff31463', 1),\n",
       " ('0fa44a50e26f3', 2),\n",
       " ('10164c9de3dbc', 3),\n",
       " ('107eb5b33ddeb', 1),\n",
       " ('33b3e1ad14a3f', 1),\n",
       " ('1885bed8725e9', 1),\n",
       " ('06d6590f81392', 5),\n",
       " ('31ed66f140bb9', 2)]"
      ]
     },
     "execution_count": 8,
     "metadata": {},
     "output_type": "execute_result"
    }
   ],
   "source": [
    "counts[:10]"
   ]
  },
  {
   "cell_type": "code",
   "execution_count": 9,
   "id": "36f86d67-dee9-4e72-8a85-751a6a27d458",
   "metadata": {},
   "outputs": [
    {
     "data": {
      "text/html": [
       "<div>\n",
       "<style scoped>\n",
       "    .dataframe tbody tr th:only-of-type {\n",
       "        vertical-align: middle;\n",
       "    }\n",
       "\n",
       "    .dataframe tbody tr th {\n",
       "        vertical-align: top;\n",
       "    }\n",
       "\n",
       "    .dataframe thead th {\n",
       "        text-align: right;\n",
       "    }\n",
       "</style>\n",
       "<table border=\"1\" class=\"dataframe\">\n",
       "  <thead>\n",
       "    <tr style=\"text-align: right;\">\n",
       "      <th></th>\n",
       "      <th>chipid</th>\n",
       "      <th>count</th>\n",
       "    </tr>\n",
       "  </thead>\n",
       "  <tbody>\n",
       "    <tr>\n",
       "      <th>0</th>\n",
       "      <td>363a8bd1189d2</td>\n",
       "      <td>2</td>\n",
       "    </tr>\n",
       "    <tr>\n",
       "      <th>1</th>\n",
       "      <td>2e40268e9f603</td>\n",
       "      <td>1</td>\n",
       "    </tr>\n",
       "    <tr>\n",
       "      <th>2</th>\n",
       "      <td>1ff73cff31463</td>\n",
       "      <td>1</td>\n",
       "    </tr>\n",
       "    <tr>\n",
       "      <th>3</th>\n",
       "      <td>0fa44a50e26f3</td>\n",
       "      <td>2</td>\n",
       "    </tr>\n",
       "    <tr>\n",
       "      <th>4</th>\n",
       "      <td>10164c9de3dbc</td>\n",
       "      <td>3</td>\n",
       "    </tr>\n",
       "  </tbody>\n",
       "</table>\n",
       "</div>"
      ],
      "text/plain": [
       "          chipid  count\n",
       "0  363a8bd1189d2      2\n",
       "1  2e40268e9f603      1\n",
       "2  1ff73cff31463      1\n",
       "3  0fa44a50e26f3      2\n",
       "4  10164c9de3dbc      3"
      ]
     },
     "execution_count": 9,
     "metadata": {},
     "output_type": "execute_result"
    }
   ],
   "source": [
    "z = pd.DataFrame(counts, columns=['chipid', 'count'])\n",
    "z.head()"
   ]
  },
  {
   "cell_type": "code",
   "execution_count": 10,
   "id": "f328ece2-9072-4dff-bd08-17e7870f6048",
   "metadata": {},
   "outputs": [
    {
     "data": {
      "text/plain": [
       "Text(0.5, 1.0, 'chips with at most 40 osm objects account for 94.49% of total chips with >0 objects')"
      ]
     },
     "execution_count": 10,
     "metadata": {},
     "output_type": "execute_result"
    },
    {
     "data": {
      "image/png": "[encoded data removed]",
      "text/plain": [
       "<Figure size 1500x300 with 1 Axes>"
      ]
     },
     "metadata": {},
     "output_type": "display_data"
    }
   ],
   "source": [
    "k = pd.DataFrame([z['count'].value_counts().sort_index() / len(z)]).T\n",
    "n = 40\n",
    "k.loc[:n].plot(kind='bar', figsize=(15,3))\n",
    "plt.grid();\n",
    "plt.xlabel(\"number of osm objects in chip\")\n",
    "plt.ylabel(\"frequency\")\n",
    "plt.title(f\"chips with at most {n} osm objects account for {k.loc[:40].sum().values[0]*100:.2f}% of total chips with >0 objects\")"
   ]
  },
  {
   "cell_type": "code",
   "execution_count": 12,
   "id": "61accbe1-d21d-46e3-81c2-03f10b6fee52",
   "metadata": {},
   "outputs": [
    {
     "data": {
      "text/plain": [
       "count    0.944863\n",
       "dtype: float64"
      ]
     },
     "execution_count": 12,
     "metadata": {},
     "output_type": "execute_result"
    }
   ],
   "source": [
    "k.loc[:40].sum()"
   ]
  },
  {
   "cell_type": "code",
   "execution_count": 14,
   "id": "471c217b-d2b9-4005-87a0-849aa7ad0313",
   "metadata": {},
   "outputs": [
    {
     "data": {
      "text/plain": [
       "Text(0.5, 1.0, 'showing only chips with at least 1 osm object')"
      ]
     },
     "execution_count": 14,
     "metadata": {},
     "output_type": "execute_result"
    },
    {
     "data": {
      "image/png": "[encoded data removed]",
      "text/plain": [
       "<Figure size 640x480 with 1 Axes>"
      ]
     },
     "metadata": {},
     "output_type": "display_data"
    }
   ],
   "source": [
    "k.iloc[:100].cumsum().plot()\n",
    "plt.grid()\n",
    "plt.xlabel(\"number of osm objects in chip\")\n",
    "plt.ylabel(\"cumulative frequency\")\n",
    "plt.title(\"showing only chips with at least 1 osm object\")"
   ]
  },
  {
   "cell_type": "code",
   "execution_count": null,
   "id": "f2293f40-da86-49ea-9ead-6a2f5ee2c483",
   "metadata": {},
   "outputs": [],
   "source": []
  },
  {
   "cell_type": "code",
   "execution_count": null,
   "id": "3b06e4c8-1c30-414b-a478-d3c69139b8f4",
   "metadata": {},
   "outputs": [],
   "source": []
  },
  {
   "cell_type": "code",
   "execution_count": 22,
   "id": "02ec8f4b-3209-4b97-8055-db861b6f018a",
   "metadata": {},
   "outputs": [
    {
     "data": {
      "text/html": [
       "<div style=\"width:100%;\"><div style=\"position:relative;width:100%;height:0;padding-bottom:60%;\"><span style=\"color:#565656\">Make this Notebook Trusted to load map: File -> Trust Notebook</span><iframe srcdoc=\"&lt;!DOCTYPE html&gt;\n",
       "&lt;html&gt;\n",
       "&lt;head&gt;\n",
       "    \n",
       "    &lt;meta http-equiv=&quot;content-type&quot; content=&quot;text/html; charset=UTF-8&quot; /&gt;\n",
       "    \n",
       "        &lt;script&gt;\n",
       "            L_NO_TOUCH = false;\n",
       "            L_DISABLE_3D = false;\n",
       "        &lt;/script&gt;\n",
       "    \n",
       "    &lt;style&gt;html, body {width: 100%;height: 100%;margin: 0;padding: 0;}&lt;/style&gt;\n",
       "    &lt;style&gt;#map {position:absolute;top:0;bottom:0;right:0;left:0;}&lt;/style&gt;\n",
       "    &lt;script src=&quot;https://cdn.jsdelivr.net/npm/leaflet@1.9.3/dist/leaflet.js&quot;&gt;&lt;/script&gt;\n",
       "    &lt;script src=&quot;https://code.jquery.com/jquery-3.7.1.min.js&quot;&gt;&lt;/script&gt;\n",
       "    &lt;script src=&quot;https://cdn.jsdelivr.net/npm/bootstrap@5.2.2/dist/js/bootstrap.bundle.min.js&quot;&gt;&lt;/script&gt;\n",
       "    &lt;script src=&quot;https://cdnjs.cloudflare.com/ajax/libs/Leaflet.awesome-markers/2.0.2/leaflet.awesome-markers.js&quot;&gt;&lt;/script&gt;\n",
       "    &lt;link rel=&quot;stylesheet&quot; href=&quot;https://cdn.jsdelivr.net/npm/leaflet@1.9.3/dist/leaflet.css&quot;/&gt;\n",
       "    &lt;link rel=&quot;stylesheet&quot; href=&quot;https://cdn.jsdelivr.net/npm/bootstrap@5.2.2/dist/css/bootstrap.min.css&quot;/&gt;\n",
       "    &lt;link rel=&quot;stylesheet&quot; href=&quot;https://netdna.bootstrapcdn.com/bootstrap/3.0.0/css/bootstrap.min.css&quot;/&gt;\n",
       "    &lt;link rel=&quot;stylesheet&quot; href=&quot;https://cdn.jsdelivr.net/npm/@fortawesome/fontawesome-free@6.2.0/css/all.min.css&quot;/&gt;\n",
       "    &lt;link rel=&quot;stylesheet&quot; href=&quot;https://cdnjs.cloudflare.com/ajax/libs/Leaflet.awesome-markers/2.0.2/leaflet.awesome-markers.css&quot;/&gt;\n",
       "    &lt;link rel=&quot;stylesheet&quot; href=&quot;https://cdn.jsdelivr.net/gh/python-visualization/folium/folium/templates/leaflet.awesome.rotate.min.css&quot;/&gt;\n",
       "    \n",
       "            &lt;meta name=&quot;viewport&quot; content=&quot;width=device-width,\n",
       "                initial-scale=1.0, maximum-scale=1.0, user-scalable=no&quot; /&gt;\n",
       "            &lt;style&gt;\n",
       "                #map_51e249ab2c89957328b6ab32d1971c86 {\n",
       "                    position: relative;\n",
       "                    width: 100.0%;\n",
       "                    height: 100.0%;\n",
       "                    left: 0.0%;\n",
       "                    top: 0.0%;\n",
       "                }\n",
       "                .leaflet-container { font-size: 1rem; }\n",
       "            &lt;/style&gt;\n",
       "        \n",
       "    \n",
       "                    &lt;style&gt;\n",
       "                        .foliumtooltip {\n",
       "                            \n",
       "                        }\n",
       "                       .foliumtooltip table{\n",
       "                            margin: auto;\n",
       "                        }\n",
       "                        .foliumtooltip tr{\n",
       "                            text-align: left;\n",
       "                        }\n",
       "                        .foliumtooltip th{\n",
       "                            padding: 2px; padding-right: 8px;\n",
       "                        }\n",
       "                    &lt;/style&gt;\n",
       "            \n",
       "&lt;/head&gt;\n",
       "&lt;body&gt;\n",
       "    \n",
       "    \n",
       "            &lt;div class=&quot;folium-map&quot; id=&quot;map_51e249ab2c89957328b6ab32d1971c86&quot; &gt;&lt;/div&gt;\n",
       "        \n",
       "&lt;/body&gt;\n",
       "&lt;script&gt;\n",
       "    \n",
       "    \n",
       "            var map_51e249ab2c89957328b6ab32d1971c86 = L.map(\n",
       "                &quot;map_51e249ab2c89957328b6ab32d1971c86&quot;,\n",
       "                {\n",
       "                    center: [35.422457641691395, -118.01207137231638],\n",
       "                    crs: L.CRS.EPSG3857,\n",
       "                    zoom: 10,\n",
       "                    zoomControl: true,\n",
       "                    preferCanvas: false,\n",
       "                }\n",
       "            );\n",
       "            L.control.scale().addTo(map_51e249ab2c89957328b6ab32d1971c86);\n",
       "\n",
       "            \n",
       "\n",
       "        \n",
       "    \n",
       "            var tile_layer_838e6f6dfab100e931008cd85a5cf9a0 = L.tileLayer(\n",
       "                &quot;https://tile.openstreetmap.org/{z}/{x}/{y}.png&quot;,\n",
       "                {&quot;attribution&quot;: &quot;\\u0026copy; \\u003ca href=\\&quot;https://www.openstreetmap.org/copyright\\&quot;\\u003eOpenStreetMap\\u003c/a\\u003e contributors&quot;, &quot;detectRetina&quot;: false, &quot;maxNativeZoom&quot;: 19, &quot;maxZoom&quot;: 19, &quot;minZoom&quot;: 0, &quot;noWrap&quot;: false, &quot;opacity&quot;: 1, &quot;subdomains&quot;: &quot;abc&quot;, &quot;tms&quot;: false}\n",
       "            );\n",
       "        \n",
       "    \n",
       "            tile_layer_838e6f6dfab100e931008cd85a5cf9a0.addTo(map_51e249ab2c89957328b6ab32d1971c86);\n",
       "        \n",
       "    \n",
       "            map_51e249ab2c89957328b6ab32d1971c86.fitBounds(\n",
       "                [[35.421758169544816, -118.01292590055482], [35.423157113837966, -118.01121684407795]],\n",
       "                {}\n",
       "            );\n",
       "        \n",
       "    \n",
       "        function geo_json_f2dacbe6401254f1c53f50253edc313e_styler(feature) {\n",
       "            switch(feature.id) {\n",
       "                default:\n",
       "                    return {&quot;fillOpacity&quot;: 0.5, &quot;weight&quot;: 2};\n",
       "            }\n",
       "        }\n",
       "        function geo_json_f2dacbe6401254f1c53f50253edc313e_highlighter(feature) {\n",
       "            switch(feature.id) {\n",
       "                default:\n",
       "                    return {&quot;fillOpacity&quot;: 0.75};\n",
       "            }\n",
       "        }\n",
       "        function geo_json_f2dacbe6401254f1c53f50253edc313e_pointToLayer(feature, latlng) {\n",
       "            var opts = {&quot;bubblingMouseEvents&quot;: true, &quot;color&quot;: &quot;#3388ff&quot;, &quot;dashArray&quot;: null, &quot;dashOffset&quot;: null, &quot;fill&quot;: true, &quot;fillColor&quot;: &quot;#3388ff&quot;, &quot;fillOpacity&quot;: 0.2, &quot;fillRule&quot;: &quot;evenodd&quot;, &quot;lineCap&quot;: &quot;round&quot;, &quot;lineJoin&quot;: &quot;round&quot;, &quot;opacity&quot;: 1.0, &quot;radius&quot;: 2, &quot;stroke&quot;: true, &quot;weight&quot;: 3};\n",
       "            \n",
       "            let style = geo_json_f2dacbe6401254f1c53f50253edc313e_styler(feature)\n",
       "            Object.assign(opts, style)\n",
       "            \n",
       "            return new L.CircleMarker(latlng, opts)\n",
       "        }\n",
       "\n",
       "        function geo_json_f2dacbe6401254f1c53f50253edc313e_onEachFeature(feature, layer) {\n",
       "            layer.on({\n",
       "                mouseout: function(e) {\n",
       "                    if(typeof e.target.setStyle === &quot;function&quot;){\n",
       "                            geo_json_f2dacbe6401254f1c53f50253edc313e.resetStyle(e.target);\n",
       "                    }\n",
       "                },\n",
       "                mouseover: function(e) {\n",
       "                    if(typeof e.target.setStyle === &quot;function&quot;){\n",
       "                        const highlightStyle = geo_json_f2dacbe6401254f1c53f50253edc313e_highlighter(e.target.feature)\n",
       "                        e.target.setStyle(highlightStyle);\n",
       "                    }\n",
       "                },\n",
       "            });\n",
       "        };\n",
       "        var geo_json_f2dacbe6401254f1c53f50253edc313e = L.geoJson(null, {\n",
       "                onEachFeature: geo_json_f2dacbe6401254f1c53f50253edc313e_onEachFeature,\n",
       "            \n",
       "                style: geo_json_f2dacbe6401254f1c53f50253edc313e_styler,\n",
       "                pointToLayer: geo_json_f2dacbe6401254f1c53f50253edc313e_pointToLayer,\n",
       "        });\n",
       "\n",
       "        function geo_json_f2dacbe6401254f1c53f50253edc313e_add (data) {\n",
       "            geo_json_f2dacbe6401254f1c53f50253edc313e\n",
       "                .addData(data);\n",
       "        }\n",
       "            geo_json_f2dacbe6401254f1c53f50253edc313e_add({&quot;bbox&quot;: [-118.01292590055482, 35.421758169544816, -118.01121684407795, 35.423157113837966], &quot;features&quot;: [{&quot;bbox&quot;: [-118.01290918508104, 35.42175844684986, -118.0128754771398, 35.42180776339444], &quot;geometry&quot;: {&quot;coordinates&quot;: [[-118.01290918508104, 35.42180776339444], [-118.0128754771398, 35.42175844684986]], &quot;type&quot;: &quot;LineString&quot;}, &quot;id&quot;: &quot;42&quot;, &quot;properties&quot;: {&quot;area&quot;: 0.0, &quot;kind&quot;: &quot;way&quot;, &quot;length&quot;: 1626.9223847194455, &quot;tags&quot;: {&quot;4wd_only&quot;: null, &quot;NHS&quot;: null, &quot;access&quot;: null, &quot;addr:city&quot;: null, &quot;addr:housenumber&quot;: null, &quot;addr:state&quot;: null, &quot;addr:street&quot;: null, &quot;aeroway&quot;: null, &quot;amenity&quot;: null, &quot;area&quot;: null, &quot;attribution&quot;: null, &quot;barrier&quot;: null, &quot;bicycle&quot;: null, &quot;boundary&quot;: null, &quot;bridge&quot;: null, &quot;building&quot;: null, &quot;cables&quot;: null, &quot;capacity&quot;: null, &quot;charge&quot;: null, &quot;csp:globalid&quot;: null, &quot;csp:unitcode&quot;: null, &quot;currency:USD&quot;: null, &quot;description&quot;: null, &quot;designation&quot;: null, &quot;direction&quot;: null, &quot;ele&quot;: null, &quot;expressway&quot;: null, &quot;fee&quot;: null, &quot;foot&quot;: null, &quot;ford&quot;: null, &quot;frequency&quot;: null, &quot;hgv&quot;: null, &quot;hgv:national_network&quot;: null, &quot;highway&quot;: &quot;track&quot;, &quot;hiking&quot;: null, &quot;historic&quot;: null, &quot;horse&quot;: null, &quot;information&quot;: null, &quot;intermittent&quot;: null, &quot;kern:Comb_Zn&quot;: null, &quot;kern:Zn_Cd1&quot;: null, &quot;landuse&quot;: null, &quot;lanes&quot;: null, &quot;layer&quot;: null, &quot;leisure&quot;: null, &quot;location&quot;: null, &quot;man_made&quot;: null, &quot;maxspeed&quot;: null, &quot;motor_vehicle&quot;: null, &quot;name&quot;: &quot;SC94&quot;, &quot;name_1&quot;: null, &quot;natural&quot;: null, &quot;nhd:com_id&quot;: null, &quot;nhd:fdate&quot;: null, &quot;nhd:reach_code&quot;: null, &quot;note&quot;: null, &quot;ohv&quot;: null, &quot;old_ref&quot;: null, &quot;oneway&quot;: null, &quot;operator&quot;: null, &quot;operator:short&quot;: null, &quot;operator:wikidata&quot;: null, &quot;owner&quot;: null, &quot;park:type&quot;: null, &quot;parking&quot;: null, &quot;parking_space&quot;: null, &quot;payment:cash&quot;: null, &quot;place&quot;: null, &quot;power&quot;: null, &quot;ref&quot;: null, &quot;service&quot;: null, &quot;shoulder&quot;: null, &quot;source&quot;: null, &quot;source:hgv:national_network&quot;: null, &quot;substance&quot;: null, &quot;surface&quot;: null, &quot;theatre:type&quot;: null, &quot;toilets:disposal&quot;: null, &quot;tourism&quot;: null, &quot;tracktype&quot;: null, &quot;tunnel&quot;: null, &quot;unisex&quot;: null, &quot;voltage&quot;: null, &quot;waterway&quot;: null, &quot;website&quot;: null, &quot;wheelchair&quot;: null, &quot;wikidata&quot;: null, &quot;wikipedia&quot;: null}}, &quot;type&quot;: &quot;Feature&quot;}, {&quot;bbox&quot;: [-118.01181017677145, 35.42176737520959, -118.0116229, 35.423153526526306], &quot;geometry&quot;: {&quot;coordinates&quot;: [[-118.01166216240877, 35.423153526526306], [-118.0117033, 35.4230146], [-118.0117236, 35.4229212], [-118.0117705, 35.4227784], [-118.0117773, 35.4227014], [-118.0117505, 35.4226575], [-118.0116968, 35.4226025], [-118.0116431, 35.422564], [-118.0116229, 35.4224925], [-118.0116298, 35.4224211], [-118.0116432, 35.4223716], [-118.0117373, 35.4222123], [-118.0117575, 35.4221024], [-118.0117442, 35.4219979], [-118.0117644, 35.421877], [-118.0117712, 35.4218385], [-118.0117912, 35.4217945], [-118.01181017677145, 35.42176737520959]], &quot;type&quot;: &quot;LineString&quot;}, &quot;id&quot;: &quot;585&quot;, &quot;properties&quot;: {&quot;area&quot;: 0.0, &quot;kind&quot;: &quot;way&quot;, &quot;length&quot;: 859.7370368351524, &quot;tags&quot;: {&quot;4wd_only&quot;: null, &quot;NHS&quot;: null, &quot;access&quot;: null, &quot;addr:city&quot;: null, &quot;addr:housenumber&quot;: null, &quot;addr:state&quot;: null, &quot;addr:street&quot;: null, &quot;aeroway&quot;: null, &quot;amenity&quot;: null, &quot;area&quot;: null, &quot;attribution&quot;: null, &quot;barrier&quot;: null, &quot;bicycle&quot;: null, &quot;boundary&quot;: null, &quot;bridge&quot;: null, &quot;building&quot;: null, &quot;cables&quot;: null, &quot;capacity&quot;: null, &quot;charge&quot;: null, &quot;csp:globalid&quot;: null, &quot;csp:unitcode&quot;: null, &quot;currency:USD&quot;: null, &quot;description&quot;: null, &quot;designation&quot;: null, &quot;direction&quot;: null, &quot;ele&quot;: null, &quot;expressway&quot;: null, &quot;fee&quot;: null, &quot;foot&quot;: null, &quot;ford&quot;: null, &quot;frequency&quot;: null, &quot;hgv&quot;: null, &quot;hgv:national_network&quot;: null, &quot;highway&quot;: null, &quot;hiking&quot;: null, &quot;historic&quot;: null, &quot;horse&quot;: null, &quot;information&quot;: null, &quot;intermittent&quot;: &quot;yes&quot;, &quot;kern:Comb_Zn&quot;: null, &quot;kern:Zn_Cd1&quot;: null, &quot;landuse&quot;: null, &quot;lanes&quot;: null, &quot;layer&quot;: null, &quot;leisure&quot;: null, &quot;location&quot;: null, &quot;man_made&quot;: null, &quot;maxspeed&quot;: null, &quot;motor_vehicle&quot;: null, &quot;name&quot;: null, &quot;name_1&quot;: null, &quot;natural&quot;: null, &quot;nhd:com_id&quot;: &quot;27904772&quot;, &quot;nhd:fdate&quot;: &quot;Fri Oct 31 00:00:00 PDT 2008&quot;, &quot;nhd:reach_code&quot;: &quot;18090206001871&quot;, &quot;note&quot;: null, &quot;ohv&quot;: null, &quot;old_ref&quot;: null, &quot;oneway&quot;: null, &quot;operator&quot;: null, &quot;operator:short&quot;: null, &quot;operator:wikidata&quot;: null, &quot;owner&quot;: null, &quot;park:type&quot;: null, &quot;parking&quot;: null, &quot;parking_space&quot;: null, &quot;payment:cash&quot;: null, &quot;place&quot;: null, &quot;power&quot;: null, &quot;ref&quot;: null, &quot;service&quot;: null, &quot;shoulder&quot;: null, &quot;source&quot;: &quot;NHD&quot;, &quot;source:hgv:national_network&quot;: null, &quot;substance&quot;: null, &quot;surface&quot;: null, &quot;theatre:type&quot;: null, &quot;toilets:disposal&quot;: null, &quot;tourism&quot;: null, &quot;tracktype&quot;: null, &quot;tunnel&quot;: null, &quot;unisex&quot;: null, &quot;voltage&quot;: null, &quot;waterway&quot;: &quot;stream&quot;, &quot;website&quot;: null, &quot;wheelchair&quot;: null, &quot;wikidata&quot;: null, &quot;wikipedia&quot;: null}}, &quot;type&quot;: &quot;Feature&quot;}, {&quot;bbox&quot;: [-118.01292590055482, 35.421758169544816, -118.01121684407795, 35.423157113837966], &quot;geometry&quot;: {&quot;coordinates&quot;: [[[-118.01121684407795, 35.42177234797397], [-118.0129085641984, 35.421758169544816], [-118.01292590055482, 35.423142934687625], [-118.01123415149192, 35.423157113837966], [-118.01121684407795, 35.42177234797397]]], &quot;type&quot;: &quot;Polygon&quot;}, &quot;id&quot;: &quot;944&quot;, &quot;properties&quot;: {&quot;area&quot;: 15930253.050648753, &quot;kind&quot;: &quot;way&quot;, &quot;length&quot;: 23787.118512948735, &quot;tags&quot;: {&quot;4wd_only&quot;: null, &quot;NHS&quot;: null, &quot;access&quot;: null, &quot;addr:city&quot;: null, &quot;addr:housenumber&quot;: null, &quot;addr:state&quot;: null, &quot;addr:street&quot;: null, &quot;aeroway&quot;: null, &quot;amenity&quot;: null, &quot;area&quot;: null, &quot;attribution&quot;: null, &quot;barrier&quot;: null, &quot;bicycle&quot;: null, &quot;boundary&quot;: null, &quot;bridge&quot;: null, &quot;building&quot;: null, &quot;cables&quot;: null, &quot;capacity&quot;: null, &quot;charge&quot;: null, &quot;csp:globalid&quot;: null, &quot;csp:unitcode&quot;: null, &quot;currency:USD&quot;: null, &quot;description&quot;: null, &quot;designation&quot;: null, &quot;direction&quot;: null, &quot;ele&quot;: null, &quot;expressway&quot;: null, &quot;fee&quot;: null, &quot;foot&quot;: null, &quot;ford&quot;: null, &quot;frequency&quot;: null, &quot;hgv&quot;: null, &quot;hgv:national_network&quot;: null, &quot;highway&quot;: null, &quot;hiking&quot;: null, &quot;historic&quot;: null, &quot;horse&quot;: null, &quot;information&quot;: null, &quot;intermittent&quot;: null, &quot;kern:Comb_Zn&quot;: null, &quot;kern:Zn_Cd1&quot;: null, &quot;landuse&quot;: &quot;recreation_ground&quot;, &quot;lanes&quot;: null, &quot;layer&quot;: null, &quot;leisure&quot;: &quot;offroad_driving&quot;, &quot;location&quot;: null, &quot;man_made&quot;: null, &quot;maxspeed&quot;: null, &quot;motor_vehicle&quot;: &quot;yes&quot;, &quot;name&quot;: &quot;Dove Springs OHV Area&quot;, &quot;name_1&quot;: null, &quot;natural&quot;: null, &quot;nhd:com_id&quot;: null, &quot;nhd:fdate&quot;: null, &quot;nhd:reach_code&quot;: null, &quot;note&quot;: null, &quot;ohv&quot;: &quot;yes&quot;, &quot;old_ref&quot;: null, &quot;oneway&quot;: null, &quot;operator&quot;: &quot;US Bureau of Land Management&quot;, &quot;operator:short&quot;: null, &quot;operator:wikidata&quot;: null, &quot;owner&quot;: &quot;United States Department of Interior, Bureau of Land Management&quot;, &quot;park:type&quot;: null, &quot;parking&quot;: null, &quot;parking_space&quot;: null, &quot;payment:cash&quot;: null, &quot;place&quot;: null, &quot;power&quot;: null, &quot;ref&quot;: null, &quot;service&quot;: null, &quot;shoulder&quot;: null, &quot;source&quot;: &quot;BLM&quot;, &quot;source:hgv:national_network&quot;: null, &quot;substance&quot;: null, &quot;surface&quot;: null, &quot;theatre:type&quot;: null, &quot;toilets:disposal&quot;: null, &quot;tourism&quot;: null, &quot;tracktype&quot;: null, &quot;tunnel&quot;: null, &quot;unisex&quot;: null, &quot;voltage&quot;: null, &quot;waterway&quot;: null, &quot;website&quot;: &quot;https://www.blm.gov/visit/dove-springs-ohv-area&quot;, &quot;wheelchair&quot;: null, &quot;wikidata&quot;: null, &quot;wikipedia&quot;: null}}, &quot;type&quot;: &quot;Feature&quot;}], &quot;type&quot;: &quot;FeatureCollection&quot;});\n",
       "\n",
       "        \n",
       "    \n",
       "    geo_json_f2dacbe6401254f1c53f50253edc313e.bindTooltip(\n",
       "    function(layer){\n",
       "    let div = L.DomUtil.create(&#x27;div&#x27;);\n",
       "    \n",
       "    let handleObject = feature=&gt;typeof(feature)==&#x27;object&#x27; ? JSON.stringify(feature) : feature;\n",
       "    let fields = [&quot;tags&quot;, &quot;kind&quot;, &quot;length&quot;, &quot;area&quot;];\n",
       "    let aliases = [&quot;tags&quot;, &quot;kind&quot;, &quot;length&quot;, &quot;area&quot;];\n",
       "    let table = &#x27;&lt;table&gt;&#x27; +\n",
       "        String(\n",
       "        fields.map(\n",
       "        (v,i)=&gt;\n",
       "        `&lt;tr&gt;\n",
       "            &lt;th&gt;${aliases[i]}&lt;/th&gt;\n",
       "            \n",
       "            &lt;td&gt;${handleObject(layer.feature.properties[v])}&lt;/td&gt;\n",
       "        &lt;/tr&gt;`).join(&#x27;&#x27;))\n",
       "    +&#x27;&lt;/table&gt;&#x27;;\n",
       "    div.innerHTML=table;\n",
       "    \n",
       "    return div\n",
       "    }\n",
       "    ,{&quot;className&quot;: &quot;foliumtooltip&quot;, &quot;sticky&quot;: true});\n",
       "                     \n",
       "    \n",
       "            geo_json_f2dacbe6401254f1c53f50253edc313e.addTo(map_51e249ab2c89957328b6ab32d1971c86);\n",
       "        \n",
       "&lt;/script&gt;\n",
       "&lt;/html&gt;\" style=\"position:absolute;width:100%;height:100%;left:0;top:0;border:none !important;\" allowfullscreen webkitallowfullscreen mozallowfullscreen></iframe></div></div>"
      ],
      "text/plain": [
       "<folium.folium.Map at 0x777558014530>"
      ]
     },
     "execution_count": 22,
     "metadata": {},
     "output_type": "execute_result"
    }
   ],
   "source": [
    "z.explore()"
   ]
  },
  {
   "cell_type": "code",
   "execution_count": null,
   "id": "58444f93-0591-418d-9f61-52b7e1ce473e",
   "metadata": {},
   "outputs": [],
   "source": []
  },
  {
   "cell_type": "code",
   "execution_count": null,
   "id": "4182881a-a0c1-4a71-8076-a26fdb8ee42f",
   "metadata": {},
   "outputs": [],
   "source": []
  }
 ],
 "metadata": {
  "kernelspec": {
   "display_name": "earth-text-env",
   "language": "python",
   "name": "earth-text-env"
  },
  "language_info": {
   "codemirror_mode": {
    "name": "ipython",
    "version": 3
   },
   "file_extension": ".py",
   "mimetype": "text/x-python",
   "name": "python",
   "nbconvert_exporter": "python",
   "pygments_lexer": "ipython3",
   "version": "3.12.2"
  }
 },
 "nbformat": 4,
 "nbformat_minor": 5
}
