{
 "cells": [
  {
   "cell_type": "code",
   "execution_count": 1,
   "id": "61f3d328-c700-4326-8e26-ec75f1c14e88",
   "metadata": {},
   "outputs": [
    {
     "data": {
      "text/plain": [
       "<module 'osm.osm' from '/home/ubuntu/earth-text/notebooks/naip/../../src/earthtext/osm/osm.py'>"
      ]
     },
     "execution_count": 1,
     "metadata": {},
     "output_type": "execute_result"
    }
   ],
   "source": [
    "import sys\n",
    "sys.path.append(\"../../src/earthtext\")\n",
    "\n",
    "from osm import osm\n",
    "import os\n",
    "from progressbar import progressbar as pbar\n",
    "import shapely as sh \n",
    "from pyproj import CRS\n",
    "import numpy as np\n",
    "epsg4326 = CRS.from_epsg(4326)\n",
    "import geopandas as gpd\n",
    "import pandas as pd\n",
    "from importlib import reload\n",
    "from rlxutils import Command, mParallel\n",
    "from joblib import delayed, Parallel\n",
    "from time import time\n",
    "import folium\n",
    "reload(osm)"
   ]
  },
  {
   "cell_type": "markdown",
   "id": "f5566345-96ca-4c17-b494-cd1a059be8fa",
   "metadata": {},
   "source": [
    "# post process chip level osm objects\n",
    "\n",
    "- recomputes areas and length of osm objects in each chip . this is necessary since original osm geometries might have been split into several chips\n",
    "\n",
    "- removes the tags not considered inferrable from a satellite image (such as 'county', 'fixme', 'religion', 'internet_access', etc.)\n",
    "\n",
    "- removes the osm object which, as a result of previous step, are left with no osm tags.\n",
    "\n",
    "- remove the chip osm.parquet file if, as a result of all the previous, the chip ends up with no osm objects.\n",
    "\n",
    "- creates a string representation of the tags (for visualization, etc.)"
   ]
  },
  {
   "cell_type": "code",
   "execution_count": 2,
   "id": "37516619-b331-4aa6-bb93-7ee6b2d87607",
   "metadata": {},
   "outputs": [
    {
     "name": "stdout",
     "output_type": "stream",
     "text": [
      "removing the following tags\n",
      "---------------------------\n",
      "['created_by', 'addr:', 'gnis:', 'gtfs_id', 'tiger:', 'name', 'source', 'nhd:', 'wikipedia', 'ref', 'attribution', 'note', 'protection_title', 'wikidata', 'fmmp_modified', 'fmmp_reviewed', 'ref:', 'plant:', 'access', 'contact', 'acres', 'ele', 'oldref', 'oneway', 'lanes:', 'boundary', 'border_type', 'admin_level', 'fixme', 'altname', 'lanes', 'maxspeed', 'maxspeed:', 'operator:', 'operator', 'county_nam', 'source:', 'website', 'old_ref', 'name_1', 'alt_name', 'name:', 'handicapped_accessible', 'old_railway_operator', 'caltrans:', 'aland', 'areaid', 'awater', 'mtfcc', 'latitude', 'longitude', 'military', 'source_ref', 'payment:', 'ohv', 'lot_description', 'lot_type', 'barrier', 'access:', 'horse', 'tracktype', 'layer', 'cables', 'volcano:', 'intermitent', 'foot', 'bicycle', 'motor_vehicle', 'seasonal', 'description', 'proposeinternet_accessd:', 'bakersfield:', 'official_name', 'official_name_1', 'destination', 'junction:', 'owner', 'gauge', 'nhs', 'abandoned:', 'opening_hours', 'meadlsc_description', 'distance', 'fixme', 'toilets:', 'hgv:', 'capacity', 'capacity:', 'fee', 'intermittent', 'id', 'county', 'csp:', 'traffic_signals', 'traffic_signals:', 'lacounty:', 'start_date', 'height', 'width', 'direction', 'voltage', 'monitoring:', 'man_made', 'hgv', 'kern:', 'turn:', 'brand:', 'brand', 'wheelchair', 'cuisine', 'not:', 'stop', 'short_name', 'demolished:', 'clothes', 'network', 'network:', 'traffic_calming', 'phone', 'denomination', 'religion', 'healthcare', 'healthcare:', 'old_name', 'area', 'contact', 'contact:', 'addr2:', 'advertising', 'check_date', 'designation', 'fuel:', 'internet_access', 'reciclying_type', 'atv', 'height_ft', 'width_ft', 'width:', 'old_name:', 'note_1', 'destination:', 'bridge:name', 'bridge_ref', 'source_ref:', 'mono:', 'noname', 'cycleway:', 'disused:', 'generator:', 'circuits', 'covered', 'end_date', 'frequency', 'electrified', 'informal', 'historic', 'lit', 'milepost:', 'noexit', 'toll', 'maxwidth', 'wires', 'tracktype', 'mtb', 'countyfp', 'tiger:', 'wikimedia_commons', 'winter_service', 'statefp', 'image', 'handicap', 'open_date', 'parks_id', 'park_no', 'takeaway', 'url', 'unsigned_ref', 'tract', 'trail_visibility', 'surface:note', 'street:', 'step_count', 'smoking', 'abandoned', 'sidewalk', 'sidewalk:', 'roof:', 'reviewed', 'ramp:', 'recycling_type', 'recycling:', 'postal_code', 'piste:', 'passenger_lines', 'proposed', 'par', 'notes', 'note_2', 'internet_access:', 'gns:', 'ansicode', 'architect', 'artist_name', 'artwork_type', 'city_served', 'faa', 'fax', 'hoops', 'manufacturer', 'fixme:', 'atribution', 'alt_name:', 'bridge:', 'check_date:', 'comm_code', 'datum:', 'dt_add', 'fields_id', 'fields', 'maxlength:', 'name_2', 'no_prmt_si', 'no_prmt', 'note:', 'no_site', 'oper_add', 'old_ref:', 'scvwd:', 'mtb:', 'lot_no', 'hov:', 'date_on', 'dog', 'golf_cart', 'closest_town', 'beds', 'bench', 'change:', 'handrail', 'opening_date', 'outdoor_seating', 'orientation', 'population', 'placement', 'sangis:', 'src:', 'unisex', 'bak:', 'description2', 'drive_through', 'drink:', 'email', 'facility_name', 'is_in', 'information', 'maxheight', 'maxweight', 'ownership', 'railway:', 'was:', 'road_marking', 'restriction', 'route', 'screen', 'psv', 'private', 'odbl', 'odbl:', 'nudism', 'year_planted', 'tactile_paving', 'vehicle:', 'verified:', 'utility_wires', 'opening_hours:', 'is_in:', 'length', 'area:', 'bicycle:', 'colour', 'capture', 'dt_mant', 'heritage:', 'len', 'otis_id', 'nist:', 'primary_use', 'property_number', 'protect_class', 'shape_area', 'assmntdist', 'cost', 'name_alt', 'region', 'shape_le_1', 'shape_len', 'abutters', 'access_aisle', 'branch', 'district', 'grades', 'managed', 'male', 'store_number', 'subject', 'subject:', 'beauty', 'atm', 'animal', 'changing_table', 'cyclerating', 'fitness_station', 'lcn', 'membership', 'min_age', 'mofa', 'maxweight:', 'max_age', 'motor_vehicle:', 'placement:', 'sac_scale', 'route_ref', 'zoning', '_shape_area_', '_acres_', '_shape_leng_', 'agncy_name', 'agncy_id', 'agncy_lev', 'agncy_type', 'agncy_web', 'des_tp', 'delivery', 'gap_sts', 'government', 'label_name', 'shape_star', 'shapestare', 'shape_stle', 'unit_id', 'unit_name', 'maxstay', 'elevation', 'self_service', 'zone', 'upload_version', 'sbc_apn', 'sbc_id', 'sbc_parcel', 'quantity', 'phases', 'other_use', 'objectid', 'nrhp:', 'maintained', 'inscription', 'inscription:', 'incline', 'collection_times', 'climbing:', 'website:', 'unit', 'service_times', 'shapestlen', 'rooms', 'ramp', 'proposed:', 'parking:', 'fence_type', 'departures_board', 'crossing:', 'comment', 'apn', 'x_coordinate', 'y_coordinate', 'gtfs_location_type', 'gtfs_stop_code', 'flag', 'flag:', 'socket', 'socket:', 'hfcs', 'image_1', 'image', 'loc_name', 'beacon:', 'redwood_city_ca:', 'nhd-shp:', 'adot_name', '3dr:', '4wd_only', '_address_', '_area', '_bldg_no_', '_desc__', '_fmssid_', '_globalid_', '_id_', '_name_', '_lcsid_', '_tnode__', '_type_', 'abbr_name', 'addr', 'address', 'address:', 'type', 'paloalto_ca:', 'massgis:', 'construction:']\n"
     ]
    }
   ],
   "source": [
    "print (\"removing the following tags\")\n",
    "print (\"---------------------------\")\n",
    "print (osm.ignore_tags)"
   ]
  },
  {
   "cell_type": "code",
   "execution_count": 3,
   "id": "e2d23487-1bda-4949-be58-ad83994ffe7f",
   "metadata": {},
   "outputs": [
    {
     "data": {
      "text/html": [
       "<div>\n",
       "<style scoped>\n",
       "    .dataframe tbody tr th:only-of-type {\n",
       "        vertical-align: middle;\n",
       "    }\n",
       "\n",
       "    .dataframe tbody tr th {\n",
       "        vertical-align: top;\n",
       "    }\n",
       "\n",
       "    .dataframe thead th {\n",
       "        text-align: right;\n",
       "    }\n",
       "</style>\n",
       "<table border=\"1\" class=\"dataframe\">\n",
       "  <thead>\n",
       "    <tr style=\"text-align: right;\">\n",
       "      <th></th>\n",
       "      <th>date</th>\n",
       "      <th>chip_index_x</th>\n",
       "      <th>chip_index_y</th>\n",
       "      <th>cloud_cover_percentage</th>\n",
       "      <th>nodata_percentage</th>\n",
       "      <th>geometry</th>\n",
       "      <th>embeddings</th>\n",
       "      <th>original_chip_id</th>\n",
       "    </tr>\n",
       "    <tr>\n",
       "      <th>chip_id</th>\n",
       "      <th></th>\n",
       "      <th></th>\n",
       "      <th></th>\n",
       "      <th></th>\n",
       "      <th></th>\n",
       "      <th></th>\n",
       "      <th></th>\n",
       "      <th></th>\n",
       "    </tr>\n",
       "  </thead>\n",
       "  <tbody>\n",
       "    <tr>\n",
       "      <th>3416f3c464df4</th>\n",
       "      <td>2022-05-06</td>\n",
       "      <td>27</td>\n",
       "      <td>5</td>\n",
       "      <td>0.0</td>\n",
       "      <td>0.0</td>\n",
       "      <td>POLYGON ((-116.89310 33.99492, -116.89310 33.9...</td>\n",
       "      <td>[-0.13333216, 0.0399988, 0.14124717, 0.0125191...</td>\n",
       "      <td>ca_m_3311601_ne_11_060_20220506-27-5</td>\n",
       "    </tr>\n",
       "    <tr>\n",
       "      <th>22fdfb499b95a</th>\n",
       "      <td>2022-05-06</td>\n",
       "      <td>24</td>\n",
       "      <td>24</td>\n",
       "      <td>0.0</td>\n",
       "      <td>0.0</td>\n",
       "      <td>POLYGON ((-116.89812 33.96860, -116.89812 33.9...</td>\n",
       "      <td>[-0.1470401, 0.026783561, 0.12910064, 0.014626...</td>\n",
       "      <td>ca_m_3311601_ne_11_060_20220506-24-24</td>\n",
       "    </tr>\n",
       "    <tr>\n",
       "      <th>06e39238c16ee</th>\n",
       "      <td>2022-05-06</td>\n",
       "      <td>19</td>\n",
       "      <td>6</td>\n",
       "      <td>0.0</td>\n",
       "      <td>0.0</td>\n",
       "      <td>POLYGON ((-116.90640 33.99355, -116.90641 33.9...</td>\n",
       "      <td>[-0.14139079, 0.021682426, 0.14206946, 0.00693...</td>\n",
       "      <td>ca_m_3311601_ne_11_060_20220506-19-6</td>\n",
       "    </tr>\n",
       "    <tr>\n",
       "      <th>108471e507d4c</th>\n",
       "      <td>2022-05-06</td>\n",
       "      <td>30</td>\n",
       "      <td>0</td>\n",
       "      <td>0.0</td>\n",
       "      <td>0.0</td>\n",
       "      <td>POLYGON ((-116.88810 34.00184, -116.88810 34.0...</td>\n",
       "      <td>[-0.10461623, 0.033646498, 0.115653, 0.0179855...</td>\n",
       "      <td>ca_m_3311601_ne_11_060_20220506-30-0</td>\n",
       "    </tr>\n",
       "    <tr>\n",
       "      <th>16dd360b58af6</th>\n",
       "      <td>2022-05-06</td>\n",
       "      <td>29</td>\n",
       "      <td>24</td>\n",
       "      <td>0.0</td>\n",
       "      <td>0.0</td>\n",
       "      <td>POLYGON ((-116.88981 33.96860, -116.88981 33.9...</td>\n",
       "      <td>[-0.13561213, 0.03594061, 0.12552005, 0.009031...</td>\n",
       "      <td>ca_m_3311601_ne_11_060_20220506-29-24</td>\n",
       "    </tr>\n",
       "  </tbody>\n",
       "</table>\n",
       "</div>"
      ],
      "text/plain": [
       "                     date  chip_index_x  chip_index_y  cloud_cover_percentage  \\\n",
       "chip_id                                                                         \n",
       "3416f3c464df4  2022-05-06            27             5                     0.0   \n",
       "22fdfb499b95a  2022-05-06            24            24                     0.0   \n",
       "06e39238c16ee  2022-05-06            19             6                     0.0   \n",
       "108471e507d4c  2022-05-06            30             0                     0.0   \n",
       "16dd360b58af6  2022-05-06            29            24                     0.0   \n",
       "\n",
       "               nodata_percentage  \\\n",
       "chip_id                            \n",
       "3416f3c464df4                0.0   \n",
       "22fdfb499b95a                0.0   \n",
       "06e39238c16ee                0.0   \n",
       "108471e507d4c                0.0   \n",
       "16dd360b58af6                0.0   \n",
       "\n",
       "                                                        geometry  \\\n",
       "chip_id                                                            \n",
       "3416f3c464df4  POLYGON ((-116.89310 33.99492, -116.89310 33.9...   \n",
       "22fdfb499b95a  POLYGON ((-116.89812 33.96860, -116.89812 33.9...   \n",
       "06e39238c16ee  POLYGON ((-116.90640 33.99355, -116.90641 33.9...   \n",
       "108471e507d4c  POLYGON ((-116.88810 34.00184, -116.88810 34.0...   \n",
       "16dd360b58af6  POLYGON ((-116.88981 33.96860, -116.88981 33.9...   \n",
       "\n",
       "                                                      embeddings  \\\n",
       "chip_id                                                            \n",
       "3416f3c464df4  [-0.13333216, 0.0399988, 0.14124717, 0.0125191...   \n",
       "22fdfb499b95a  [-0.1470401, 0.026783561, 0.12910064, 0.014626...   \n",
       "06e39238c16ee  [-0.14139079, 0.021682426, 0.14206946, 0.00693...   \n",
       "108471e507d4c  [-0.10461623, 0.033646498, 0.115653, 0.0179855...   \n",
       "16dd360b58af6  [-0.13561213, 0.03594061, 0.12552005, 0.009031...   \n",
       "\n",
       "                                    original_chip_id  \n",
       "chip_id                                               \n",
       "3416f3c464df4   ca_m_3311601_ne_11_060_20220506-27-5  \n",
       "22fdfb499b95a  ca_m_3311601_ne_11_060_20220506-24-24  \n",
       "06e39238c16ee   ca_m_3311601_ne_11_060_20220506-19-6  \n",
       "108471e507d4c   ca_m_3311601_ne_11_060_20220506-30-0  \n",
       "16dd360b58af6  ca_m_3311601_ne_11_060_20220506-29-24  "
      ]
     },
     "execution_count": 3,
     "metadata": {},
     "output_type": "execute_result"
    }
   ],
   "source": [
    "dg = gpd.read_parquet(\"/opt/data/california-naip-chips/california-naip-chips-100k.parquet\")\n",
    "dg.head()"
   ]
  },
  {
   "cell_type": "code",
   "execution_count": 4,
   "id": "b1eac077-fec3-4f63-bbb0-502fef160717",
   "metadata": {},
   "outputs": [
    {
     "data": {
      "text/plain": [
       "'3416f3c464df4'"
      ]
     },
     "execution_count": 4,
     "metadata": {},
     "output_type": "execute_result"
    }
   ],
   "source": [
    "i = dg.index[0]\n",
    "i"
   ]
  },
  {
   "cell_type": "code",
   "execution_count": 5,
   "id": "e365f606-f9e4-4d26-85eb-ad3c02bd1eb1",
   "metadata": {},
   "outputs": [
    {
     "name": "stdout",
     "output_type": "stream",
     "text": [
      "/opt/data/california-naip-chips/osm/3416f3c464df4.parquet\n"
     ]
    }
   ],
   "source": [
    "f = f\"/opt/data/california-naip-chips/osm/{i}.parquet\"\n",
    "!ls $f"
   ]
  },
  {
   "cell_type": "code",
   "execution_count": 6,
   "id": "d2c4d330-8782-4a08-877a-714f78325d29",
   "metadata": {},
   "outputs": [
    {
     "data": {
      "text/plain": [
       "(120039, 8)"
      ]
     },
     "execution_count": 6,
     "metadata": {},
     "output_type": "execute_result"
    }
   ],
   "source": [
    "# get only chips with data\n",
    "dgd = dg[[os.path.isfile(f\"/opt/data/california-naip-chips/osm/{i}.parquet\") for i in dg.index]]\n",
    "dgd.shape"
   ]
  },
  {
   "cell_type": "code",
   "execution_count": 7,
   "id": "e3f7f5d9-15f6-46b6-a77b-5a56004d1292",
   "metadata": {},
   "outputs": [],
   "source": [
    "class mParallel(Parallel):\n",
    "    \"\"\"\n",
    "    substitutes joblib.Parallel with richer verbose progress information\n",
    "    \"\"\"\n",
    "    def _print(self, msg):\n",
    "        if self.verbose > 10:\n",
    "            fmsg = '[%s]: %s' % (self, msg)\n",
    "            sys.stdout.write('\\r ' + fmsg)\n",
    "            sys.stdout.flush()\n"
   ]
  },
  {
   "cell_type": "code",
   "execution_count": 55,
   "id": "a4a9e48e-71d5-4645-a57d-8e7f26189cd3",
   "metadata": {},
   "outputs": [],
   "source": [
    "def process_chipid(chip_id, geometry):\n",
    "    fname = f\"/opt/data/california-naip-chips/osm/{chip_id}.parquet\"\n",
    "    if not os.path.isfile(fname):\n",
    "        return \"no_file\"\n",
    "    z = gpd.read_parquet(fname)\n",
    "\n",
    "    if len(z)==0:\n",
    "        return \"no_geoms\"\n",
    "        \n",
    "    z['tags'] = [{k:v for k,v in (t.items() if type(t)==dict else eval(t).items()) if v is not None} for t in z.tags]\n",
    "    z['tags'] = [osm.clean_tags(t) for t in z.tags]\n",
    "    z = z[[len(t)>0 for t in z.tags]]\n",
    "    \n",
    "    if len(z)==0:\n",
    "        if os.path.isfile(fname):\n",
    "            os.remove(fname)\n",
    "        return \"no_tags\"\n",
    "\n",
    "    g = geometry\n",
    "    z['stags'] = [osm.tags2str(t) for t in z.tags]\n",
    "\n",
    "    # dictionaries in parquet seem to be scrambled\n",
    "    # when loading do z['tags'] = [eval(t) for t in z.tags]\n",
    "    z['tags'] = [str(t) for t in z.tags]\n",
    "    z['chip_id'] = chip_id\n",
    "\n",
    "    zi = z[[i.intersects(g) for i in z.geometry]]\n",
    "\n",
    "    \n",
    "    zi['geometry'] = [i.intersection(g) for i in zi.geometry]\n",
    "    zic = zi.to_crs(osm.epsg_california)\n",
    "    zi['area'] = [g.area for g in zic.geometry]\n",
    "    zi['length'] = [g.length for g in zic.geometry]\n",
    "    zi.to_parquet(fname)\n",
    "    return \"ok\""
   ]
  },
  {
   "cell_type": "code",
   "execution_count": 56,
   "id": "b9bdb23d-d986-4192-ac39-8408085896d3",
   "metadata": {},
   "outputs": [],
   "source": [
    "# keep only the chip_ids and geometry, delete geodataframe to avoid massive memory transfer between joblib processes\n",
    "try:\n",
    "    chip_ids = dgd.index.values.copy()\n",
    "    geometries = dgd.geometry.values.copy()\n",
    "    del (dgd)\n",
    "except:\n",
    "    pass"
   ]
  },
  {
   "cell_type": "code",
   "execution_count": null,
   "id": "08cf124b-ad72-4342-9e5a-04b476b941d1",
   "metadata": {},
   "outputs": [
    {
     "name": "stdout",
     "output_type": "stream",
     "text": [
      " [mParallel(n_jobs=60)]: Done 84130 tasks      | elapsed:  2.3min8857422s.) Setting batch_size=4."
     ]
    }
   ],
   "source": [
    "r = mParallel(n_jobs=60, verbose=30)(delayed(process_chipid)(c,g) for c, g in zip(chip_ids, geometries))"
   ]
  },
  {
   "cell_type": "code",
   "execution_count": 61,
   "id": "512c87a5-7c96-4afa-b985-97fd2528060d",
   "metadata": {},
   "outputs": [
    {
     "data": {
      "text/plain": [
       "ok         113160\n",
       "no_file      6879\n",
       "Name: count, dtype: int64"
      ]
     },
     "execution_count": 61,
     "metadata": {},
     "output_type": "execute_result"
    }
   ],
   "source": [
    "pd.Series(r).value_counts()"
   ]
  },
  {
   "cell_type": "code",
   "execution_count": 60,
   "id": "32556521-5c3c-4eeb-bfad-3bfad6b4ff2d",
   "metadata": {},
   "outputs": [
    {
     "data": {
      "text/plain": [
       "1"
      ]
     },
     "execution_count": 60,
     "metadata": {},
     "output_type": "execute_result"
    }
   ],
   "source": [
    "1"
   ]
  },
  {
   "cell_type": "code",
   "execution_count": null,
   "id": "48f60047-591d-4dca-b004-7394752e617b",
   "metadata": {},
   "outputs": [],
   "source": []
  },
  {
   "cell_type": "code",
   "execution_count": null,
   "id": "5f9abbb9-0bc0-496f-ba6c-090964bc9265",
   "metadata": {},
   "outputs": [],
   "source": []
  },
  {
   "cell_type": "code",
   "execution_count": null,
   "id": "a8c5b24f-5db3-4aef-ab33-3f138471eed6",
   "metadata": {},
   "outputs": [],
   "source": []
  },
  {
   "cell_type": "code",
   "execution_count": null,
   "id": "2d1e5145-c5d8-44e0-9920-39d27c5cad45",
   "metadata": {},
   "outputs": [],
   "source": []
  },
  {
   "cell_type": "markdown",
   "id": "4b6c83a4-1de7-4d87-951f-dd2c0a879ac1",
   "metadata": {},
   "source": [
    "## legacy\n"
   ]
  },
  {
   "cell_type": "code",
   "execution_count": 34,
   "id": "063f8f05-0369-44e4-a171-0608d7679695",
   "metadata": {},
   "outputs": [],
   "source": [
    "## legacy\n",
    "\n",
    "def ___process_chipid(chip_id, geometry):\n",
    "    fname = f\"/opt/data/california-naip-chips/osm/{chip_id}.parquet\"\n",
    "    \n",
    "    z = gpd.read_parquet(fname)\n",
    "    orig_z = z.copy()\n",
    "    if len(z)==0:\n",
    "        return \"no_geoms\"\n",
    "\n",
    "    # in case it was processed before\n",
    "    z['tags'] = [eval(t) if isinstance(t, str) else t for t in z.tags]\n",
    "    \n",
    "    z['tags'] = [{k:v for k,v in t.items() if v is not None} for t in z.tags]\n",
    "    z['tags'] = [osm.clean_tags(t) for t in z.tags]\n",
    "    z = z[[len(t)>0 for t in z.tags]]\n",
    "    \n",
    "    if len(z)==0:\n",
    "        return \"no_tags\"\n",
    "\n",
    "    g = geometry\n",
    "    z['stags'] = [osm.tags2str(t) for t in z.tags]\n",
    "    z['chip_id'] = chip_id\n",
    "\n",
    "    # dictionaries in parquet seem to be scrambled\n",
    "    # when loading do z['tags'] = [eval(t) for t in z.tags]\n",
    "    z['tags'] = [str(t) for t in z.tags]\n",
    "    z['chip_id'] = chip_id\n",
    "    \n",
    "    zi = z[[i.intersects(g) for i in z.geometry]]\n",
    "    zi['geometry'] = [i.intersection(g) for i in zi.geometry]\n",
    "    zic = zi.to_crs(osm.epsg_california)\n",
    "    zi['area'] = [g.area for g in zic.geometry]\n",
    "    zi['length'] = [g.length for g in zic.geometry]\n",
    "    zi.to_parquet(fname)\n",
    "    return \"ok\""
   ]
  },
  {
   "cell_type": "code",
   "execution_count": null,
   "id": "94ca14bf-63a3-4692-b666-b4907fe20a22",
   "metadata": {},
   "outputs": [],
   "source": []
  }
 ],
 "metadata": {
  "kernelspec": {
   "display_name": "earth-text-env",
   "language": "python",
   "name": "earth-text-env"
  },
  "language_info": {
   "codemirror_mode": {
    "name": "ipython",
    "version": 3
   },
   "file_extension": ".py",
   "mimetype": "text/x-python",
   "name": "python",
   "nbconvert_exporter": "python",
   "pygments_lexer": "ipython3",
   "version": "3.12.2"
  }
 },
 "nbformat": 4,
 "nbformat_minor": 5
}
