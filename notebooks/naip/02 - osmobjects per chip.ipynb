{
 "cells": [
  {
   "cell_type": "code",
   "execution_count": 1,
   "id": "711b83b9-3d60-4bf8-ad7e-310633b7f5be",
   "metadata": {},
   "outputs": [
    {
     "data": {
      "text/plain": [
       "<module 'osm.osm' from '/home/ubuntu/earth-text/notebooks/naip/../../src/earthtext/osm/osm.py'>"
      ]
     },
     "execution_count": 1,
     "metadata": {},
     "output_type": "execute_result"
    }
   ],
   "source": [
    "import sys\n",
    "sys.path.append(\"../../src/earthtext\")\n",
    "\n",
    "from osm import osm\n",
    "import os\n",
    "from progressbar import progressbar as pbar\n",
    "import shapely as sh \n",
    "from pyproj import CRS\n",
    "import numpy as np\n",
    "epsg4326 = CRS.from_epsg(4326)\n",
    "import geopandas as gpd\n",
    "import pandas as pd\n",
    "from importlib import reload\n",
    "from rlxutils import Command\n",
    "import rlxutils\n",
    "reload(osm)"
   ]
  },
  {
   "cell_type": "markdown",
   "id": "f6688509-391e-490b-937b-e0272f29edaa",
   "metadata": {},
   "source": [
    "# partition osm objects from origin grid to destination grid\n",
    "\n",
    "osm objects have already been partition into `origin_grid`\n",
    "\n",
    "origin grid is much coarser than destination grid to make more efficient the intersection of osm geometries for each chip\n",
    "\n",
    "## setup origin grid\n",
    "\n"
   ]
  },
  {
   "cell_type": "code",
   "execution_count": 2,
   "id": "495cfa09-33c7-4428-8c36-5331d2ee4a5d",
   "metadata": {},
   "outputs": [],
   "source": [
    "orig_partsdir = \"/opt/data/osm/california-parts/\"\n",
    "dest_partsdir = \"/opt/data/california-naip-chips/osm\"\n",
    "os.makedirs(dest_partsdir, exist_ok=True)\n",
    "chip_ids_pbf = [i.split(\".\")[0] for i in os.listdir(orig_partsdir) if i.endswith(\".pbf\")]\n",
    "chip_ids_geojson = [i.split(\".\")[0] for i in os.listdir(orig_partsdir) if i.endswith(\".geojson\")]\n",
    "\n",
    "if len(set(chip_ids_pbf).intersection(set(chip_ids_geojson)))!=len(chip_ids_pbf)!=len(chip_ids_geojson):\n",
    "    raise ValueError(\"missing chips in geojson o pbf\")"
   ]
  },
  {
   "cell_type": "code",
   "execution_count": 3,
   "id": "8a2f0a6e-9d42-4d28-b0f3-b9b8aab9d9c4",
   "metadata": {},
   "outputs": [
    {
     "data": {
      "text/plain": [
       "(984, 2)"
      ]
     },
     "execution_count": 3,
     "metadata": {},
     "output_type": "execute_result"
    }
   ],
   "source": [
    "orig_grid = []\n",
    "for chip_id in chip_ids_geojson:\n",
    "    with open(f\"{orig_partsdir}/{chip_id}.geojson\") as f:\n",
    "        orig_grid.append([chip_id, sh.from_geojson(f.read())])\n",
    "\n",
    "orig_grid = gpd.GeoDataFrame(pd.DataFrame(orig_grid, columns=['chip_id', 'geometry']), crs=epsg4326)\n",
    "orig_grid.shape"
   ]
  },
  {
   "cell_type": "code",
   "execution_count": 4,
   "id": "f8a597c7-1a34-4625-8372-e05bacd8cdd5",
   "metadata": {},
   "outputs": [
    {
     "data": {
      "text/html": [
       "<div>\n",
       "<style scoped>\n",
       "    .dataframe tbody tr th:only-of-type {\n",
       "        vertical-align: middle;\n",
       "    }\n",
       "\n",
       "    .dataframe tbody tr th {\n",
       "        vertical-align: top;\n",
       "    }\n",
       "\n",
       "    .dataframe thead th {\n",
       "        text-align: right;\n",
       "    }\n",
       "</style>\n",
       "<table border=\"1\" class=\"dataframe\">\n",
       "  <thead>\n",
       "    <tr style=\"text-align: right;\">\n",
       "      <th></th>\n",
       "      <th>chip_id</th>\n",
       "      <th>geometry</th>\n",
       "    </tr>\n",
       "  </thead>\n",
       "  <tbody>\n",
       "    <tr>\n",
       "      <th>0</th>\n",
       "      <td>000235e893b24</td>\n",
       "      <td>POLYGON ((-121.87715 39.14450, -121.65850 39.1...</td>\n",
       "    </tr>\n",
       "    <tr>\n",
       "      <th>1</th>\n",
       "      <td>0002c308d55fc</td>\n",
       "      <td>POLYGON ((-114.92112 35.05498, -114.92112 35.2...</td>\n",
       "    </tr>\n",
       "    <tr>\n",
       "      <th>2</th>\n",
       "      <td>0018e8bbce095</td>\n",
       "      <td>POLYGON ((-120.25595 36.95832, -120.55074 36.9...</td>\n",
       "    </tr>\n",
       "    <tr>\n",
       "      <th>3</th>\n",
       "      <td>003fa84955512</td>\n",
       "      <td>POLYGON ((-119.13010 35.78528, -119.40375 35.7...</td>\n",
       "    </tr>\n",
       "    <tr>\n",
       "      <th>4</th>\n",
       "      <td>004aaa9df44f2</td>\n",
       "      <td>POLYGON ((-124.14191 40.08352, -124.24849 40.0...</td>\n",
       "    </tr>\n",
       "  </tbody>\n",
       "</table>\n",
       "</div>"
      ],
      "text/plain": [
       "         chip_id                                           geometry\n",
       "0  000235e893b24  POLYGON ((-121.87715 39.14450, -121.65850 39.1...\n",
       "1  0002c308d55fc  POLYGON ((-114.92112 35.05498, -114.92112 35.2...\n",
       "2  0018e8bbce095  POLYGON ((-120.25595 36.95832, -120.55074 36.9...\n",
       "3  003fa84955512  POLYGON ((-119.13010 35.78528, -119.40375 35.7...\n",
       "4  004aaa9df44f2  POLYGON ((-124.14191 40.08352, -124.24849 40.0..."
      ]
     },
     "execution_count": 4,
     "metadata": {},
     "output_type": "execute_result"
    }
   ],
   "source": [
    "orig_grid.head()"
   ]
  },
  {
   "cell_type": "markdown",
   "id": "6a35ff2b-af8a-4793-b6c4-22e479a0f29d",
   "metadata": {},
   "source": [
    "## setup destination grid"
   ]
  },
  {
   "cell_type": "code",
   "execution_count": 5,
   "id": "ade1c972-3308-4c5b-9b44-f56dd5e5de59",
   "metadata": {},
   "outputs": [
    {
     "data": {
      "text/html": [
       "<div>\n",
       "<style scoped>\n",
       "    .dataframe tbody tr th:only-of-type {\n",
       "        vertical-align: middle;\n",
       "    }\n",
       "\n",
       "    .dataframe tbody tr th {\n",
       "        vertical-align: top;\n",
       "    }\n",
       "\n",
       "    .dataframe thead th {\n",
       "        text-align: right;\n",
       "    }\n",
       "</style>\n",
       "<table border=\"1\" class=\"dataframe\">\n",
       "  <thead>\n",
       "    <tr style=\"text-align: right;\">\n",
       "      <th></th>\n",
       "      <th>date</th>\n",
       "      <th>chip_index_x</th>\n",
       "      <th>chip_index_y</th>\n",
       "      <th>cloud_cover_percentage</th>\n",
       "      <th>nodata_percentage</th>\n",
       "      <th>geometry</th>\n",
       "      <th>embeddings</th>\n",
       "      <th>original_chip_id</th>\n",
       "    </tr>\n",
       "    <tr>\n",
       "      <th>chip_id</th>\n",
       "      <th></th>\n",
       "      <th></th>\n",
       "      <th></th>\n",
       "      <th></th>\n",
       "      <th></th>\n",
       "      <th></th>\n",
       "      <th></th>\n",
       "      <th></th>\n",
       "    </tr>\n",
       "  </thead>\n",
       "  <tbody>\n",
       "    <tr>\n",
       "      <th>3416f3c464df4</th>\n",
       "      <td>2022-05-06</td>\n",
       "      <td>27</td>\n",
       "      <td>5</td>\n",
       "      <td>0.0</td>\n",
       "      <td>0.0</td>\n",
       "      <td>POLYGON ((-116.89310 33.99492, -116.89310 33.9...</td>\n",
       "      <td>[-0.13333216, 0.0399988, 0.14124717, 0.0125191...</td>\n",
       "      <td>ca_m_3311601_ne_11_060_20220506-27-5</td>\n",
       "    </tr>\n",
       "    <tr>\n",
       "      <th>22fdfb499b95a</th>\n",
       "      <td>2022-05-06</td>\n",
       "      <td>24</td>\n",
       "      <td>24</td>\n",
       "      <td>0.0</td>\n",
       "      <td>0.0</td>\n",
       "      <td>POLYGON ((-116.89812 33.96860, -116.89812 33.9...</td>\n",
       "      <td>[-0.1470401, 0.026783561, 0.12910064, 0.014626...</td>\n",
       "      <td>ca_m_3311601_ne_11_060_20220506-24-24</td>\n",
       "    </tr>\n",
       "    <tr>\n",
       "      <th>06e39238c16ee</th>\n",
       "      <td>2022-05-06</td>\n",
       "      <td>19</td>\n",
       "      <td>6</td>\n",
       "      <td>0.0</td>\n",
       "      <td>0.0</td>\n",
       "      <td>POLYGON ((-116.90640 33.99355, -116.90641 33.9...</td>\n",
       "      <td>[-0.14139079, 0.021682426, 0.14206946, 0.00693...</td>\n",
       "      <td>ca_m_3311601_ne_11_060_20220506-19-6</td>\n",
       "    </tr>\n",
       "    <tr>\n",
       "      <th>108471e507d4c</th>\n",
       "      <td>2022-05-06</td>\n",
       "      <td>30</td>\n",
       "      <td>0</td>\n",
       "      <td>0.0</td>\n",
       "      <td>0.0</td>\n",
       "      <td>POLYGON ((-116.88810 34.00184, -116.88810 34.0...</td>\n",
       "      <td>[-0.10461623, 0.033646498, 0.115653, 0.0179855...</td>\n",
       "      <td>ca_m_3311601_ne_11_060_20220506-30-0</td>\n",
       "    </tr>\n",
       "    <tr>\n",
       "      <th>16dd360b58af6</th>\n",
       "      <td>2022-05-06</td>\n",
       "      <td>29</td>\n",
       "      <td>24</td>\n",
       "      <td>0.0</td>\n",
       "      <td>0.0</td>\n",
       "      <td>POLYGON ((-116.88981 33.96860, -116.88981 33.9...</td>\n",
       "      <td>[-0.13561213, 0.03594061, 0.12552005, 0.009031...</td>\n",
       "      <td>ca_m_3311601_ne_11_060_20220506-29-24</td>\n",
       "    </tr>\n",
       "  </tbody>\n",
       "</table>\n",
       "</div>"
      ],
      "text/plain": [
       "                     date  chip_index_x  chip_index_y  cloud_cover_percentage  \\\n",
       "chip_id                                                                         \n",
       "3416f3c464df4  2022-05-06            27             5                     0.0   \n",
       "22fdfb499b95a  2022-05-06            24            24                     0.0   \n",
       "06e39238c16ee  2022-05-06            19             6                     0.0   \n",
       "108471e507d4c  2022-05-06            30             0                     0.0   \n",
       "16dd360b58af6  2022-05-06            29            24                     0.0   \n",
       "\n",
       "               nodata_percentage  \\\n",
       "chip_id                            \n",
       "3416f3c464df4                0.0   \n",
       "22fdfb499b95a                0.0   \n",
       "06e39238c16ee                0.0   \n",
       "108471e507d4c                0.0   \n",
       "16dd360b58af6                0.0   \n",
       "\n",
       "                                                        geometry  \\\n",
       "chip_id                                                            \n",
       "3416f3c464df4  POLYGON ((-116.89310 33.99492, -116.89310 33.9...   \n",
       "22fdfb499b95a  POLYGON ((-116.89812 33.96860, -116.89812 33.9...   \n",
       "06e39238c16ee  POLYGON ((-116.90640 33.99355, -116.90641 33.9...   \n",
       "108471e507d4c  POLYGON ((-116.88810 34.00184, -116.88810 34.0...   \n",
       "16dd360b58af6  POLYGON ((-116.88981 33.96860, -116.88981 33.9...   \n",
       "\n",
       "                                                      embeddings  \\\n",
       "chip_id                                                            \n",
       "3416f3c464df4  [-0.13333216, 0.0399988, 0.14124717, 0.0125191...   \n",
       "22fdfb499b95a  [-0.1470401, 0.026783561, 0.12910064, 0.014626...   \n",
       "06e39238c16ee  [-0.14139079, 0.021682426, 0.14206946, 0.00693...   \n",
       "108471e507d4c  [-0.10461623, 0.033646498, 0.115653, 0.0179855...   \n",
       "16dd360b58af6  [-0.13561213, 0.03594061, 0.12552005, 0.009031...   \n",
       "\n",
       "                                    original_chip_id  \n",
       "chip_id                                               \n",
       "3416f3c464df4   ca_m_3311601_ne_11_060_20220506-27-5  \n",
       "22fdfb499b95a  ca_m_3311601_ne_11_060_20220506-24-24  \n",
       "06e39238c16ee   ca_m_3311601_ne_11_060_20220506-19-6  \n",
       "108471e507d4c   ca_m_3311601_ne_11_060_20220506-30-0  \n",
       "16dd360b58af6  ca_m_3311601_ne_11_060_20220506-29-24  "
      ]
     },
     "execution_count": 5,
     "metadata": {},
     "output_type": "execute_result"
    }
   ],
   "source": [
    "dest_grid = gpd.read_parquet(\"/opt/data/california-naip-chips/california-naip-chips-200k-raw.parquet\")\n",
    "dest_grid.head()"
   ]
  },
  {
   "cell_type": "code",
   "execution_count": 6,
   "id": "51abed2b-0bab-4d9c-ab5e-3a31029e4417",
   "metadata": {},
   "outputs": [
    {
     "data": {
      "text/plain": [
       "((984, 2), (198919, 8))"
      ]
     },
     "execution_count": 6,
     "metadata": {},
     "output_type": "execute_result"
    }
   ],
   "source": [
    "orig_grid.shape, dest_grid.shape"
   ]
  },
  {
   "cell_type": "markdown",
   "id": "0f56df83-b658-4c24-80ae-1dc5d9ab4963",
   "metadata": {},
   "source": [
    "## get coverage of destination grid"
   ]
  },
  {
   "cell_type": "code",
   "execution_count": 7,
   "id": "551e2b85-00c8-45d7-9a55-0e7cf910b1b9",
   "metadata": {},
   "outputs": [
    {
     "name": "stderr",
     "output_type": "stream",
     "text": [
      "\u001b[38;2;0;255;0m100%\u001b[39m \u001b[38;2;0;255;0m(198919 of 198919)\u001b[39m |################| Elapsed Time: 0:00:08 Time:  0:00:080000\n"
     ]
    }
   ],
   "source": [
    "gcov = dest_grid.geometry.values[0]\n",
    "for gi in pbar(dest_grid.geometry.values):\n",
    "    gcov = gcov.union(gi).convex_hull"
   ]
  },
  {
   "cell_type": "markdown",
   "id": "fd89820c-f8e2-4ad1-a7c1-20b7f6dbabcb",
   "metadata": {},
   "source": [
    "## subset origin grid only to destination grid coverage"
   ]
  },
  {
   "cell_type": "code",
   "execution_count": 8,
   "id": "85f07f6b-5bdf-44bb-a516-03c7847bc9b2",
   "metadata": {},
   "outputs": [],
   "source": [
    "orig_grid = orig_grid[[gi.intersects(gcov) for gi in orig_grid.geometry.values]]"
   ]
  },
  {
   "cell_type": "code",
   "execution_count": null,
   "id": "826782af-e970-4370-ad41-c025947a2604",
   "metadata": {},
   "outputs": [],
   "source": [
    "orig_grid.explore()"
   ]
  },
  {
   "cell_type": "markdown",
   "id": "379855bd-755c-4eaf-8d98-abc5735ba513",
   "metadata": {},
   "source": [
    "## check distribution of destination grid chips in a couple of sample origin chips"
   ]
  },
  {
   "cell_type": "code",
   "execution_count": null,
   "id": "ddf3fade-cf8f-4fbe-be71-bc574525f163",
   "metadata": {},
   "outputs": [],
   "source": [
    "_orig_grid = orig_grid.sample(2)\n",
    "c = sh.geometry.GeometryCollection(_orig_grid.geometry.values[1:])\n",
    "dg = dest_grid[[i.intersects(c) for i in dest_grid.geometry.values]]\n",
    "#pd.concat([dg, _orig_grid])[['geometry']].explore()\n",
    "dg[['geometry']].explore()\n"
   ]
  },
  {
   "cell_type": "markdown",
   "id": "b69abfdd-f744-46b0-9164-5ea6fa88c929",
   "metadata": {},
   "source": [
    "## partition osm objects from origin grid to destination grid"
   ]
  },
  {
   "cell_type": "code",
   "execution_count": 14,
   "id": "4f716020-a30a-4975-8806-573bfe2126e4",
   "metadata": {},
   "outputs": [
    {
     "name": "stdout",
     "output_type": "stream",
     "text": [
      "0/132 21706a5a16e06 dest_chips 158\n"
     ]
    },
    {
     "name": "stderr",
     "output_type": "stream",
     "text": [
      "\u001b[38;2;0;255;0m100%\u001b[39m \u001b[38;2;0;255;0m(158 of 158)\u001b[39m |######################| Elapsed Time: 0:00:04 Time:  0:00:040:00\n"
     ]
    },
    {
     "name": "stdout",
     "output_type": "stream",
     "text": [
      "1/132 2201d9aa51bef dest_chips 1593\n"
     ]
    },
    {
     "name": "stderr",
     "output_type": "stream",
     "text": [
      "\u001b[38;2;0;255;0m100%\u001b[39m \u001b[38;2;0;255;0m(1593 of 1593)\u001b[39m |####################| Elapsed Time: 0:08:49 Time:  0:08:490547\n"
     ]
    },
    {
     "name": "stdout",
     "output_type": "stream",
     "text": [
      "2/132 222b87d3538c6 dest_chips 2256\n"
     ]
    },
    {
     "name": "stderr",
     "output_type": "stream",
     "text": [
      "\u001b[38;2;0;255;0m100%\u001b[39m \u001b[38;2;0;255;0m(2256 of 2256)\u001b[39m |####################| Elapsed Time: 0:00:13 Time:  0:00:130001\n"
     ]
    },
    {
     "name": "stdout",
     "output_type": "stream",
     "text": [
      "3/132 2299a60abbc22 dest_chips 1468\n"
     ]
    },
    {
     "name": "stderr",
     "output_type": "stream",
     "text": [
      "\u001b[38;2;0;255;0m100%\u001b[39m \u001b[38;2;0;255;0m(1468 of 1468)\u001b[39m |####################| Elapsed Time: 0:00:08 Time:  0:00:080000\n"
     ]
    },
    {
     "name": "stdout",
     "output_type": "stream",
     "text": [
      "4/132 2345e2a1647c8 dest_chips 470\n"
     ]
    },
    {
     "name": "stderr",
     "output_type": "stream",
     "text": [
      "\u001b[38;2;0;255;0m100%\u001b[39m \u001b[38;2;0;255;0m(470 of 470)\u001b[39m |######################| Elapsed Time: 0:00:20 Time:  0:00:200001\n"
     ]
    },
    {
     "name": "stdout",
     "output_type": "stream",
     "text": [
      "5/132 234da5f5a7679 dest_chips 111\n"
     ]
    },
    {
     "name": "stderr",
     "output_type": "stream",
     "text": [
      "\u001b[38;2;0;255;0m100%\u001b[39m \u001b[38;2;0;255;0m(111 of 111)\u001b[39m |######################| Elapsed Time: 0:00:00 Time:  0:00:000000\n"
     ]
    },
    {
     "name": "stdout",
     "output_type": "stream",
     "text": [
      "6/132 237386fcc1e1e dest_chips 1809\n"
     ]
    },
    {
     "name": "stderr",
     "output_type": "stream",
     "text": [
      "\u001b[38;2;0;255;0m100%\u001b[39m \u001b[38;2;0;255;0m(1809 of 1809)\u001b[39m |####################| Elapsed Time: 0:00:50 Time:  0:00:500004\n"
     ]
    },
    {
     "name": "stdout",
     "output_type": "stream",
     "text": [
      "7/132 238609afd0621 dest_chips 1716\n"
     ]
    },
    {
     "name": "stderr",
     "output_type": "stream",
     "text": [
      "\u001b[38;2;0;255;0m100%\u001b[39m \u001b[38;2;0;255;0m(1716 of 1716)\u001b[39m |####################| Elapsed Time: 0:00:07 Time:  0:00:070000\n"
     ]
    },
    {
     "name": "stdout",
     "output_type": "stream",
     "text": [
      "8/132 23ae42c6edd85 dest_chips 240\n"
     ]
    },
    {
     "name": "stderr",
     "output_type": "stream",
     "text": [
      "\u001b[38;2;0;255;0m100%\u001b[39m \u001b[38;2;0;255;0m(240 of 240)\u001b[39m |######################| Elapsed Time: 0:00:06 Time:  0:00:060000\n"
     ]
    },
    {
     "name": "stdout",
     "output_type": "stream",
     "text": [
      "9/132 2423bdf1ff2f0 dest_chips 777\n"
     ]
    },
    {
     "name": "stderr",
     "output_type": "stream",
     "text": [
      "\u001b[38;2;255;80;0m  9%\u001b[39m \u001b[38;2;255;80;0m(72 of 777)\u001b[39m |##                     | Elapsed Time: 0:04:15 ETA:   0:41:44"
     ]
    },
    {
     "name": "stdout",
     "output_type": "stream",
     "text": [
      "11/132 24a206e1f5cc5 dest_chips 2581\n"
     ]
    },
    {
     "name": "stderr",
     "output_type": "stream",
     "text": [
      "\u001b[38;2;0;255;0m100%\u001b[39m \u001b[38;2;0;255;0m(1601 of 1601)\u001b[39m |####################| Elapsed Time: 0:00:08 Time:  0:00:080000\n"
     ]
    },
    {
     "name": "stdout",
     "output_type": "stream",
     "text": [
      "14/132 250ec841c0b3d dest_chips 546\n"
     ]
    },
    {
     "name": "stderr",
     "output_type": "stream",
     "text": [
      "\u001b[38;2;0;255;0m100%\u001b[39m \u001b[38;2;0;255;0m(546 of 546)\u001b[39m |######################| Elapsed Time: 0:00:05 Time:  0:00:050000\n"
     ]
    },
    {
     "name": "stdout",
     "output_type": "stream",
     "text": [
      "15/132 251486e119b77 dest_chips 1828\n"
     ]
    },
    {
     "name": "stderr",
     "output_type": "stream",
     "text": [
      "\u001b[38;2;0;255;0m100%\u001b[39m \u001b[38;2;0;255;0m(1828 of 1828)\u001b[39m |####################| Elapsed Time: 0:06:57 Time:  0:06:570336\n"
     ]
    },
    {
     "name": "stdout",
     "output_type": "stream",
     "text": [
      "16/132 25bac7f5b2dff dest_chips 94\n"
     ]
    },
    {
     "name": "stderr",
     "output_type": "stream",
     "text": [
      "\u001b[38;2;0;255;0m100%\u001b[39m \u001b[38;2;0;255;0m(94 of 94)\u001b[39m |########################| Elapsed Time: 0:00:02 Time:  0:00:020000\n"
     ]
    },
    {
     "name": "stdout",
     "output_type": "stream",
     "text": [
      "17/132 25e45791b8e26 dest_chips 1852\n"
     ]
    },
    {
     "name": "stderr",
     "output_type": "stream",
     "text": [
      "\u001b[38;2;0;255;0m100%\u001b[39m \u001b[38;2;0;255;0m(1852 of 1852)\u001b[39m |####################| Elapsed Time: 0:00:18 Time:  0:00:180001\n"
     ]
    },
    {
     "name": "stdout",
     "output_type": "stream",
     "text": [
      "18/132 26087ed2cb9f5 dest_chips 2362\n"
     ]
    },
    {
     "name": "stderr",
     "output_type": "stream",
     "text": [
      "\u001b[38;2;0;255;0m100%\u001b[39m \u001b[38;2;0;255;0m(2362 of 2362)\u001b[39m |####################| Elapsed Time: 0:01:28 Time:  0:01:280007\n"
     ]
    },
    {
     "name": "stdout",
     "output_type": "stream",
     "text": [
      "19/132 26612d12cded9 dest_chips 2366\n"
     ]
    },
    {
     "name": "stderr",
     "output_type": "stream",
     "text": [
      "\u001b[38;2;0;255;0m100%\u001b[39m \u001b[38;2;0;255;0m(2366 of 2366)\u001b[39m |####################| Elapsed Time: 0:00:10 Time:  0:00:100000\n"
     ]
    },
    {
     "name": "stdout",
     "output_type": "stream",
     "text": [
      "20/132 27a0d844d15db dest_chips 1759\n"
     ]
    },
    {
     "name": "stderr",
     "output_type": "stream",
     "text": [
      "\u001b[38;2;0;255;0m100%\u001b[39m \u001b[38;2;0;255;0m(1759 of 1759)\u001b[39m |####################| Elapsed Time: 0:00:17 Time:  0:00:170001\n"
     ]
    },
    {
     "name": "stdout",
     "output_type": "stream",
     "text": [
      "21/132 27e7fa9352e4c dest_chips 1246\n"
     ]
    },
    {
     "name": "stderr",
     "output_type": "stream",
     "text": [
      "\u001b[38;2;0;255;0m100%\u001b[39m \u001b[38;2;0;255;0m(1246 of 1246)\u001b[39m |####################| Elapsed Time: 0:00:04 Time:  0:00:040000\n"
     ]
    },
    {
     "name": "stdout",
     "output_type": "stream",
     "text": [
      "22/132 282ead58882b0 dest_chips 316\n"
     ]
    },
    {
     "name": "stderr",
     "output_type": "stream",
     "text": [
      "\u001b[38;2;0;255;0m100%\u001b[39m \u001b[38;2;0;255;0m(316 of 316)\u001b[39m |######################| Elapsed Time: 0:00:01 Time:  0:00:010000\n"
     ]
    },
    {
     "name": "stdout",
     "output_type": "stream",
     "text": [
      "23/132 2988a43937c4d dest_chips 1998\n"
     ]
    },
    {
     "name": "stderr",
     "output_type": "stream",
     "text": [
      "\u001b[38;2;0;255;0m100%\u001b[39m \u001b[38;2;0;255;0m(1998 of 1998)\u001b[39m |####################| Elapsed Time: 0:00:12 Time:  0:00:120001\n"
     ]
    },
    {
     "name": "stdout",
     "output_type": "stream",
     "text": [
      "24/132 2a60631a1d157 dest_chips 2545\n"
     ]
    },
    {
     "name": "stderr",
     "output_type": "stream",
     "text": [
      "\u001b[38;2;0;255;0m100%\u001b[39m \u001b[38;2;0;255;0m(2545 of 2545)\u001b[39m |####################| Elapsed Time: 0:00:07 Time:  0:00:070000\n"
     ]
    },
    {
     "name": "stdout",
     "output_type": "stream",
     "text": [
      "25/132 2aab50e3da3fa dest_chips 1422\n"
     ]
    },
    {
     "name": "stderr",
     "output_type": "stream",
     "text": [
      "\u001b[38;2;0;255;0m100%\u001b[39m \u001b[38;2;0;255;0m(1649 of 1649)\u001b[39m |####################| Elapsed Time: 0:01:15 Time:  0:01:150006\n"
     ]
    },
    {
     "name": "stdout",
     "output_type": "stream",
     "text": [
      "29/132 2ce658c1909fb dest_chips 1999\n"
     ]
    },
    {
     "name": "stderr",
     "output_type": "stream",
     "text": [
      "\u001b[38;2;0;255;0m100%\u001b[39m \u001b[38;2;0;255;0m(1999 of 1999)\u001b[39m |####################| Elapsed Time: 0:00:50 Time:  0:00:500004\n"
     ]
    },
    {
     "name": "stdout",
     "output_type": "stream",
     "text": [
      "30/132 2d367ece0108b dest_chips 1874\n"
     ]
    },
    {
     "name": "stderr",
     "output_type": "stream",
     "text": [
      "\u001b[38;2;0;255;0m100%\u001b[39m \u001b[38;2;0;255;0m(1874 of 1874)\u001b[39m |####################| Elapsed Time: 0:01:50 Time:  0:01:500109\n"
     ]
    },
    {
     "name": "stdout",
     "output_type": "stream",
     "text": [
      "31/132 2d4ed6acfdc29 dest_chips 2069\n"
     ]
    },
    {
     "name": "stderr",
     "output_type": "stream",
     "text": [
      "\u001b[38;2;0;255;0m100%\u001b[39m \u001b[38;2;0;255;0m(2069 of 2069)\u001b[39m |####################| Elapsed Time: 0:02:36 Time:  0:02:360113\n"
     ]
    },
    {
     "name": "stdout",
     "output_type": "stream",
     "text": [
      "32/132 2d55a9c35aeab dest_chips 2024\n"
     ]
    },
    {
     "name": "stderr",
     "output_type": "stream",
     "text": [
      "\u001b[38;2;0;255;0m100%\u001b[39m \u001b[38;2;0;255;0m(2024 of 2024)\u001b[39m |####################| Elapsed Time: 0:00:14 Time:  0:00:140001\n"
     ]
    },
    {
     "name": "stdout",
     "output_type": "stream",
     "text": [
      "33/132 2da523a929f4b dest_chips 2617\n"
     ]
    },
    {
     "name": "stderr",
     "output_type": "stream",
     "text": [
      "\u001b[38;2;0;255;0m100%\u001b[39m \u001b[38;2;0;255;0m(2617 of 2617)\u001b[39m |####################| Elapsed Time: 0:09:43 Time:  0:09:430449\n"
     ]
    },
    {
     "name": "stdout",
     "output_type": "stream",
     "text": [
      "34/132 2dd5f7980813d dest_chips 334\n"
     ]
    },
    {
     "name": "stderr",
     "output_type": "stream",
     "text": [
      "\u001b[38;2;0;255;0m100%\u001b[39m \u001b[38;2;0;255;0m(334 of 334)\u001b[39m |######################| Elapsed Time: 0:00:07 Time:  0:00:070000\n"
     ]
    },
    {
     "name": "stdout",
     "output_type": "stream",
     "text": [
      "35/132 2de8beb9de2aa dest_chips 2235\n"
     ]
    },
    {
     "name": "stderr",
     "output_type": "stream",
     "text": [
      "\u001b[38;2;0;255;0m100%\u001b[39m \u001b[38;2;0;255;0m(2235 of 2235)\u001b[39m |####################| Elapsed Time: 0:05:35 Time:  0:05:350228\n"
     ]
    },
    {
     "name": "stdout",
     "output_type": "stream",
     "text": [
      "36/132 2de8fffde4e39 dest_chips 2057\n"
     ]
    },
    {
     "name": "stderr",
     "output_type": "stream",
     "text": [
      "\u001b[38;2;0;255;0m100%\u001b[39m \u001b[38;2;0;255;0m(2057 of 2057)\u001b[39m |####################| Elapsed Time: 0:00:24 Time:  0:00:240002\n"
     ]
    },
    {
     "name": "stdout",
     "output_type": "stream",
     "text": [
      "37/132 2e19b51381e12 dest_chips 1542\n"
     ]
    },
    {
     "name": "stderr",
     "output_type": "stream",
     "text": [
      "\u001b[38;2;0;255;0m100%\u001b[39m \u001b[38;2;0;255;0m(1542 of 1542)\u001b[39m |####################| Elapsed Time: 0:00:10 Time:  0:00:100000\n"
     ]
    },
    {
     "name": "stdout",
     "output_type": "stream",
     "text": [
      "38/132 2e8889c073a17 dest_chips 163\n"
     ]
    },
    {
     "name": "stderr",
     "output_type": "stream",
     "text": [
      "\u001b[38;2;0;255;0m100%\u001b[39m \u001b[38;2;0;255;0m(163 of 163)\u001b[39m |######################| Elapsed Time: 0:00:07 Time:  0:00:070000\n"
     ]
    },
    {
     "name": "stdout",
     "output_type": "stream",
     "text": [
      "39/132 2ebbd025caf17 dest_chips 1475\n"
     ]
    },
    {
     "name": "stderr",
     "output_type": "stream",
     "text": [
      "\u001b[38;2;0;255;0m100%\u001b[39m \u001b[38;2;0;255;0m(1475 of 1475)\u001b[39m |####################| Elapsed Time: 0:00:10 Time:  0:00:100000\n"
     ]
    },
    {
     "name": "stdout",
     "output_type": "stream",
     "text": [
      "40/132 2ef0567f3cb33 dest_chips 1677\n"
     ]
    },
    {
     "name": "stderr",
     "output_type": "stream",
     "text": [
      "\u001b[38;2;0;255;0m100%\u001b[39m \u001b[38;2;0;255;0m(1677 of 1677)\u001b[39m |####################| Elapsed Time: 0:00:06 Time:  0:00:060000\n"
     ]
    },
    {
     "name": "stdout",
     "output_type": "stream",
     "text": [
      "41/132 2f84cbb4d79af dest_chips 2382\n"
     ]
    },
    {
     "name": "stderr",
     "output_type": "stream",
     "text": [
      "\u001b[38;2;0;255;0m100%\u001b[39m \u001b[38;2;0;255;0m(2382 of 2382)\u001b[39m |####################| Elapsed Time: 0:00:34 Time:  0:00:340002\n"
     ]
    },
    {
     "name": "stdout",
     "output_type": "stream",
     "text": [
      "42/132 2fc52b6c12bc0 dest_chips 260\n"
     ]
    },
    {
     "name": "stderr",
     "output_type": "stream",
     "text": [
      "\u001b[38;2;0;255;0m100%\u001b[39m \u001b[38;2;0;255;0m(260 of 260)\u001b[39m |######################| Elapsed Time: 0:00:02 Time:  0:00:020000\n"
     ]
    },
    {
     "name": "stdout",
     "output_type": "stream",
     "text": [
      "43/132 3010679668a7e dest_chips 2318\n"
     ]
    },
    {
     "name": "stderr",
     "output_type": "stream",
     "text": [
      "\u001b[38;2;0;255;0m100%\u001b[39m \u001b[38;2;0;255;0m(2318 of 2318)\u001b[39m |####################| Elapsed Time: 0:00:40 Time:  0:00:400003\n"
     ]
    },
    {
     "name": "stdout",
     "output_type": "stream",
     "text": [
      "44/132 30c4f98a68dba dest_chips 2482\n"
     ]
    },
    {
     "name": "stderr",
     "output_type": "stream",
     "text": [
      "\u001b[38;2;0;255;0m100%\u001b[39m \u001b[38;2;0;255;0m(2482 of 2482)\u001b[39m |####################| Elapsed Time: 0:03:30 Time:  0:03:300205\n"
     ]
    },
    {
     "name": "stdout",
     "output_type": "stream",
     "text": [
      "45/132 30d5e1fa877d0 dest_chips 2484\n"
     ]
    },
    {
     "name": "stderr",
     "output_type": "stream",
     "text": [
      "\u001b[38;2;0;255;0m100%\u001b[39m \u001b[38;2;0;255;0m(2484 of 2484)\u001b[39m |####################| Elapsed Time: 0:00:21 Time:  0:00:210001\n"
     ]
    },
    {
     "name": "stdout",
     "output_type": "stream",
     "text": [
      "46/132 30ec07421dab4 dest_chips 1966\n"
     ]
    },
    {
     "name": "stderr",
     "output_type": "stream",
     "text": [
      "\u001b[38;2;0;255;0m100%\u001b[39m \u001b[38;2;0;255;0m(1966 of 1966)\u001b[39m |####################| Elapsed Time: 0:00:58 Time:  0:00:580005\n"
     ]
    },
    {
     "name": "stdout",
     "output_type": "stream",
     "text": [
      "47/132 312fc06f0e3a9 dest_chips 1174\n"
     ]
    },
    {
     "name": "stderr",
     "output_type": "stream",
     "text": [
      "\u001b[38;2;0;255;0m100%\u001b[39m \u001b[38;2;0;255;0m(1174 of 1174)\u001b[39m |####################| Elapsed Time: 0:00:10 Time:  0:00:100000\n"
     ]
    },
    {
     "name": "stdout",
     "output_type": "stream",
     "text": [
      "48/132 31e292b36b8bc dest_chips 2904\n"
     ]
    },
    {
     "name": "stderr",
     "output_type": "stream",
     "text": [
      "\u001b[38;2;0;255;0m100%\u001b[39m \u001b[38;2;0;255;0m(2904 of 2904)\u001b[39m |####################| Elapsed Time: 0:04:26 Time:  0:04:260222\n"
     ]
    },
    {
     "name": "stdout",
     "output_type": "stream",
     "text": [
      "49/132 3347520de3a28 dest_chips 1227\n"
     ]
    },
    {
     "name": "stderr",
     "output_type": "stream",
     "text": [
      "\u001b[38;2;0;255;0m100%\u001b[39m \u001b[38;2;0;255;0m(1227 of 1227)\u001b[39m |####################| Elapsed Time: 0:04:04 Time:  0:04:040322\n"
     ]
    },
    {
     "name": "stdout",
     "output_type": "stream",
     "text": [
      "50/132 33724d1ba6057 dest_chips 2192\n"
     ]
    },
    {
     "name": "stderr",
     "output_type": "stream",
     "text": [
      "\u001b[38;2;0;255;0m100%\u001b[39m \u001b[38;2;0;255;0m(2192 of 2192)\u001b[39m |####################| Elapsed Time: 0:00:11 Time:  0:00:110001\n"
     ]
    },
    {
     "name": "stdout",
     "output_type": "stream",
     "text": [
      "51/132 3478d44602c53 dest_chips 72\n"
     ]
    },
    {
     "name": "stderr",
     "output_type": "stream",
     "text": [
      "\u001b[38;2;0;255;0m100%\u001b[39m \u001b[38;2;0;255;0m(72 of 72)\u001b[39m |########################| Elapsed Time: 0:00:00 Time:  0:00:000000\n"
     ]
    },
    {
     "name": "stdout",
     "output_type": "stream",
     "text": [
      "52/132 34a141c36fcce dest_chips 2132\n"
     ]
    },
    {
     "name": "stderr",
     "output_type": "stream",
     "text": [
      "\u001b[38;2;0;255;0m100%\u001b[39m \u001b[38;2;0;255;0m(2132 of 2132)\u001b[39m |####################| Elapsed Time: 0:00:22 Time:  0:00:220001\n"
     ]
    },
    {
     "name": "stdout",
     "output_type": "stream",
     "text": [
      "53/132 34e2848865287 dest_chips 1290\n"
     ]
    },
    {
     "name": "stderr",
     "output_type": "stream",
     "text": [
      "\u001b[38;2;0;255;0m100%\u001b[39m \u001b[38;2;0;255;0m(1290 of 1290)\u001b[39m |####################| Elapsed Time: 0:00:06 Time:  0:00:060000\n"
     ]
    },
    {
     "name": "stdout",
     "output_type": "stream",
     "text": [
      "54/132 36086a2c32665 dest_chips 1962\n"
     ]
    },
    {
     "name": "stderr",
     "output_type": "stream",
     "text": [
      "\u001b[38;2;0;255;0m100%\u001b[39m \u001b[38;2;0;255;0m(1962 of 1962)\u001b[39m |####################| Elapsed Time: 0:00:06 Time:  0:00:060000\n"
     ]
    },
    {
     "name": "stdout",
     "output_type": "stream",
     "text": [
      "55/132 36ab1009f4b2f dest_chips 344\n"
     ]
    },
    {
     "name": "stderr",
     "output_type": "stream",
     "text": [
      "\u001b[38;2;0;255;0m100%\u001b[39m \u001b[38;2;0;255;0m(344 of 344)\u001b[39m |######################| Elapsed Time: 0:00:20 Time:  0:00:200001\n"
     ]
    },
    {
     "name": "stdout",
     "output_type": "stream",
     "text": [
      "56/132 36b4f1fbd10ee dest_chips 2882\n"
     ]
    },
    {
     "name": "stderr",
     "output_type": "stream",
     "text": [
      "\u001b[38;2;0;255;0m100%\u001b[39m \u001b[38;2;0;255;0m(2882 of 2882)\u001b[39m |####################| Elapsed Time: 0:00:25 Time:  0:00:250001\n"
     ]
    },
    {
     "name": "stdout",
     "output_type": "stream",
     "text": [
      "57/132 373b0b28ea85a dest_chips 2562\n"
     ]
    },
    {
     "name": "stderr",
     "output_type": "stream",
     "text": [
      "\u001b[38;2;0;255;0m100%\u001b[39m \u001b[38;2;0;255;0m(2562 of 2562)\u001b[39m |####################| Elapsed Time: 0:00:47 Time:  0:00:470004\n"
     ]
    },
    {
     "name": "stdout",
     "output_type": "stream",
     "text": [
      "58/132 3811c01719920 dest_chips 1937\n"
     ]
    },
    {
     "name": "stderr",
     "output_type": "stream",
     "text": [
      "\u001b[38;2;0;255;0m100%\u001b[39m \u001b[38;2;0;255;0m(1937 of 1937)\u001b[39m |####################| Elapsed Time: 0:00:11 Time:  0:00:110001\n"
     ]
    }
   ],
   "source": [
    "notfound = []\n",
    "dest_chips_withnodata = []\n",
    "dest_chips_withdata = []\n",
    "# loop over coarse grained geometries (origin)\n",
    "for count, (_, orig_row) in enumerate(orig_grid.iloc[46+27:].iterrows()):\n",
    "    et = rlxutils.ElapsedTimes()\n",
    "    orig_row_geom = orig_row.geometry\n",
    "    dg = dest_grid[[i.intersects(orig_row_geom) for i in dest_grid.geometry.values]]\n",
    "    print (f\"{count}/{len(orig_grid)}\", orig_row.chip_id, 'dest_chips', len(dg), flush=True)\n",
    "\n",
    "    # loop over fine grained geometries (dest). \n",
    "    parquets_cache = {}\n",
    "    for chip_id, dest_row in pbar(dg.iterrows(), max_value=len(dg)):\n",
    "        \n",
    "        dest_row_geom = dest_row.geometry\n",
    "        \n",
    "        dest_parquet = f\"{dest_partsdir}/{chip_id}.parquet\"\n",
    "        if os.path.isfile(dest_parquet):\n",
    "            continue\n",
    "\n",
    "        # dest geometry might intersect several origin geometry, \n",
    "        # not only the one in the outer loop\n",
    "        with et(\"ogintersect\"):\n",
    "            og = orig_grid[[i.intersects(dest_row_geom) for i in orig_grid.geometry.values]]\n",
    "        \n",
    "        if len(og) == 0:\n",
    "            continue\n",
    "\n",
    "        # loop over all intersecting coarse geometries and\n",
    "        # get all osm objects\n",
    "        dgdata = []\n",
    "        for chip_id in og.chip_id.values:\n",
    "            if chip_id in parquets_cache.keys():\n",
    "                p = parquets_cache[chip_id]\n",
    "            else:\n",
    "                with et(\"read_parquet\"):\n",
    "                    fname = f\"{orig_partsdir}/{chip_id}.parquet\"\n",
    "                    if not os.path.isfile(fname):\n",
    "                        notfound.append(fname)\n",
    "                        continue\n",
    "                    p = gpd.read_parquet(fname)\n",
    "                    parquets_cache[chip_id]=p\n",
    "\n",
    "            # only get the parts of osm geometries within this finer grain geometry\n",
    "            with et(\"dgintersect\"):\n",
    "                pi = p[p.intersects(dest_row_geom)].copy()\n",
    "                pi['geometry'] = [gi.intersection(dest_row_geom) for gi in pi.geometry.values]\n",
    "            dgdata.append(pi)\n",
    "        dgdata = pd.concat(dgdata)\n",
    "        if len(dgdata)==0:\n",
    "            dest_chips_withnodata.append(chip_id)\n",
    "            continue\n",
    "        dest_chips_withdata.append(chip_id)\n",
    "        with et(\"save\"):\n",
    "            dgdata.to_parquet(dest_parquet)\n"
   ]
  },
  {
   "cell_type": "code",
   "execution_count": null,
   "id": "e450208c-4338-4843-b976-c3cd866a7dc4",
   "metadata": {},
   "outputs": [],
   "source": [
    "len(dgdata)"
   ]
  },
  {
   "cell_type": "code",
   "execution_count": null,
   "id": "f65eac44-7045-4f8f-ac34-4f278076619d",
   "metadata": {},
   "outputs": [],
   "source": []
  }
 ],
 "metadata": {
  "kernelspec": {
   "display_name": "earth-text-env",
   "language": "python",
   "name": "earth-text-env"
  },
  "language_info": {
   "codemirror_mode": {
    "name": "ipython",
    "version": 3
   },
   "file_extension": ".py",
   "mimetype": "text/x-python",
   "name": "python",
   "nbconvert_exporter": "python",
   "pygments_lexer": "ipython3",
   "version": "3.12.2"
  }
 },
 "nbformat": 4,
 "nbformat_minor": 5
}
