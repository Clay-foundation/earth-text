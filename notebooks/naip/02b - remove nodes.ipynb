{
 "cells": [
  {
   "cell_type": "code",
   "execution_count": 1,
   "id": "bd6f777e-2a99-436f-8d81-7ba6a31221ff",
   "metadata": {},
   "outputs": [],
   "source": [
    "import numpy as np\n",
    "import geopandas as gpd\n",
    "import pandas as pd\n",
    "import os\n",
    "from progressbar import progressbar as pbar"
   ]
  },
  {
   "cell_type": "code",
   "execution_count": 2,
   "id": "4059831b-049b-4faa-bda6-b46b9bcbf716",
   "metadata": {},
   "outputs": [],
   "source": [
    "osm_folder = \"/opt/data/california-naip-chips/osm/\"\n",
    "osm_files = os.listdir(osm_folder)"
   ]
  },
  {
   "cell_type": "code",
   "execution_count": 9,
   "id": "b1f14e37-b704-420b-8870-e1061178a304",
   "metadata": {},
   "outputs": [
    {
     "data": {
      "text/plain": [
       "113160"
      ]
     },
     "execution_count": 9,
     "metadata": {},
     "output_type": "execute_result"
    }
   ],
   "source": [
    "len(osm_files)"
   ]
  },
  {
   "cell_type": "code",
   "execution_count": 10,
   "id": "f3f106b3-7b68-4ebf-99d7-7e40f39fe356",
   "metadata": {},
   "outputs": [
    {
     "name": "stderr",
     "output_type": "stream",
     "text": [
      "\u001b[38;2;0;255;0m100%\u001b[39m \u001b[38;2;0;255;0m(113160 of 113160)\u001b[39m |################| Elapsed Time: 0:48:46 Time:  0:48:462358\n"
     ]
    }
   ],
   "source": [
    "for osm_file in pbar(osm_files):\n",
    "    file_name = f\"{osm_folder}/{osm_file}\"\n",
    "    z = gpd.read_parquet(file_name)\n",
    "    zc = z[z.kind!='node']\n",
    "    if len(zc)==0:\n",
    "        os.remove(file_name)\n",
    "    elif len(z)!=len(zc):\n",
    "        zc.to_parquet(file_name)\n",
    "        "
   ]
  },
  {
   "cell_type": "code",
   "execution_count": null,
   "id": "08269a68-d633-4dfd-afa7-4381a5915bc0",
   "metadata": {},
   "outputs": [],
   "source": []
  }
 ],
 "metadata": {
  "kernelspec": {
   "display_name": "earth-text-env",
   "language": "python",
   "name": "earth-text-env"
  },
  "language_info": {
   "codemirror_mode": {
    "name": "ipython",
    "version": 3
   },
   "file_extension": ".py",
   "mimetype": "text/x-python",
   "name": "python",
   "nbconvert_exporter": "python",
   "pygments_lexer": "ipython3",
   "version": "3.12.2"
  }
 },
 "nbformat": 4,
 "nbformat_minor": 5
}
