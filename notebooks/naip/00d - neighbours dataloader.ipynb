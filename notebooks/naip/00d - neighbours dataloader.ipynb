{
 "cells": [
  {
   "cell_type": "code",
   "execution_count": 1,
   "id": "08a04217-5d99-41e2-b2b3-31c286a26936",
   "metadata": {},
   "outputs": [],
   "source": [
    "import geopandas as gpd\n",
    "import pandas as pd\n",
    "import matplotlib.pyplot as plt\n",
    "\n",
    "import os\n",
    "import numpy as np\n",
    "from progressbar import progressbar as pbar\n",
    "\n",
    "from omegaconf import OmegaConf\n",
    "import hydra\n",
    "\n",
    "%load_ext autoreload\n",
    "%autoreload 2"
   ]
  },
  {
   "cell_type": "markdown",
   "id": "46cddbb9-b5b4-48a3-a641-8c5cfbda6bd1",
   "metadata": {},
   "source": [
    "check that neighbor files are a subset of original chip IDs"
   ]
  },
  {
   "cell_type": "code",
   "execution_count": 2,
   "id": "e72c88ce-0eec-417d-8d74-d71f2bd5987d",
   "metadata": {},
   "outputs": [],
   "source": [
    "df = pd.read_parquet('/opt/data/california-naip-chips/california-naip-chips-100k.parquet')\n",
    "original_chip_IDs = df['original_chip_id']"
   ]
  },
  {
   "cell_type": "code",
   "execution_count": 3,
   "id": "6dffbaff-b6da-4cc9-8b1e-686c449697ff",
   "metadata": {},
   "outputs": [
    {
     "data": {
      "text/plain": [
       "True"
      ]
     },
     "execution_count": 3,
     "metadata": {},
     "output_type": "execute_result"
    }
   ],
   "source": [
    "folder = \"/opt/data/california-naip-chips/california-naip-chips-100k-neighbours\"\n",
    "files = pd.Series([f.removesuffix('.parquet') for f in os.listdir(folder) if os.path.isfile(os.path.join(folder, f))])\n",
    "files.isin(original_chip_IDs).all()"
   ]
  },
  {
   "cell_type": "code",
   "execution_count": 4,
   "id": "b4abac62-9b55-4c2f-902e-ddfee5744e00",
   "metadata": {},
   "outputs": [
    {
     "data": {
      "text/plain": [
       "True"
      ]
     },
     "execution_count": 4,
     "metadata": {},
     "output_type": "execute_result"
    }
   ],
   "source": [
    "folder = \"/opt/data/california-naip-chips/california-naip-chips-100k-neighbours/npy\"\n",
    "files = pd.Series([f.removesuffix('.npy') for f in os.listdir(folder) if os.path.isfile(os.path.join(folder, f))])\n",
    "files.isin(original_chip_IDs).all()"
   ]
  },
  {
   "cell_type": "markdown",
   "id": "9827ebad-cc2b-4878-93da-9010067afc10",
   "metadata": {},
   "source": [
    "---"
   ]
  },
  {
   "cell_type": "markdown",
   "id": "41c1e5c8-b8f1-4258-b794-48ee9784ccbd",
   "metadata": {},
   "source": [
    "load the dataloader"
   ]
  },
  {
   "cell_type": "code",
   "execution_count": 5,
   "id": "12ecddb4-8a5b-48e0-9281-f0d128740222",
   "metadata": {},
   "outputs": [
    {
     "name": "stderr",
     "output_type": "stream",
     "text": [
      "\u001b[32m2024-06-04 17:10:23.099\u001b[0m | \u001b[1mINFO    \u001b[0m | \u001b[36mearthtext.datamodules.components.chipmultilabel\u001b[0m:\u001b[36m__init__\u001b[0m:\u001b[36m100\u001b[0m - \u001b[1musing embeddings found in metadata file\u001b[0m\n",
      "\u001b[32m2024-06-04 17:10:23.101\u001b[0m | \u001b[1mINFO    \u001b[0m | \u001b[36mearthtext.datamodules.components.chipmultilabel\u001b[0m:\u001b[36m__init__\u001b[0m:\u001b[36m113\u001b[0m - \u001b[1mread train split with 72268 chip files (out of 72268)\u001b[0m\n",
      "\u001b[32m2024-06-04 17:10:23.101\u001b[0m | \u001b[1mINFO    \u001b[0m | \u001b[36mearthtext.datamodules.components.chipmultilabel\u001b[0m:\u001b[36m__init__\u001b[0m:\u001b[36m117\u001b[0m - \u001b[1mremoving chip IDs with no associated neighbors .npy files\u001b[0m\n",
      "\u001b[32m2024-06-04 17:10:23.523\u001b[0m | \u001b[1mINFO    \u001b[0m | \u001b[36mearthtext.datamodules.components.chipmultilabel\u001b[0m:\u001b[36m__init__\u001b[0m:\u001b[36m125\u001b[0m - \u001b[1mmax cache size is -1\u001b[0m\n",
      "\u001b[32m2024-06-04 17:10:24.827\u001b[0m | \u001b[1mINFO    \u001b[0m | \u001b[36mearthtext.datamodules.components.chipmultilabel\u001b[0m:\u001b[36m__init__\u001b[0m:\u001b[36m100\u001b[0m - \u001b[1musing embeddings found in metadata file\u001b[0m\n",
      "\u001b[32m2024-06-04 17:10:24.830\u001b[0m | \u001b[1mINFO    \u001b[0m | \u001b[36mearthtext.datamodules.components.chipmultilabel\u001b[0m:\u001b[36m__init__\u001b[0m:\u001b[36m113\u001b[0m - \u001b[1mread val split with 14770 chip files (out of 14770)\u001b[0m\n",
      "\u001b[32m2024-06-04 17:10:24.830\u001b[0m | \u001b[1mINFO    \u001b[0m | \u001b[36mearthtext.datamodules.components.chipmultilabel\u001b[0m:\u001b[36m__init__\u001b[0m:\u001b[36m117\u001b[0m - \u001b[1mremoving chip IDs with no associated neighbors .npy files\u001b[0m\n",
      "\u001b[32m2024-06-04 17:10:25.228\u001b[0m | \u001b[1mINFO    \u001b[0m | \u001b[36mearthtext.datamodules.components.chipmultilabel\u001b[0m:\u001b[36m__init__\u001b[0m:\u001b[36m125\u001b[0m - \u001b[1mmax cache size is -1\u001b[0m\n",
      "\u001b[32m2024-06-04 17:10:26.502\u001b[0m | \u001b[1mINFO    \u001b[0m | \u001b[36mearthtext.datamodules.components.chipmultilabel\u001b[0m:\u001b[36m__init__\u001b[0m:\u001b[36m100\u001b[0m - \u001b[1musing embeddings found in metadata file\u001b[0m\n",
      "\u001b[32m2024-06-04 17:10:26.505\u001b[0m | \u001b[1mINFO    \u001b[0m | \u001b[36mearthtext.datamodules.components.chipmultilabel\u001b[0m:\u001b[36m__init__\u001b[0m:\u001b[36m113\u001b[0m - \u001b[1mread test split with 17202 chip files (out of 17202)\u001b[0m\n",
      "\u001b[32m2024-06-04 17:10:26.505\u001b[0m | \u001b[1mINFO    \u001b[0m | \u001b[36mearthtext.datamodules.components.chipmultilabel\u001b[0m:\u001b[36m__init__\u001b[0m:\u001b[36m117\u001b[0m - \u001b[1mremoving chip IDs with no associated neighbors .npy files\u001b[0m\n",
      "\u001b[32m2024-06-04 17:10:26.908\u001b[0m | \u001b[1mINFO    \u001b[0m | \u001b[36mearthtext.datamodules.components.chipmultilabel\u001b[0m:\u001b[36m__init__\u001b[0m:\u001b[36m125\u001b[0m - \u001b[1mmax cache size is -1\u001b[0m\n",
      "\u001b[32m2024-06-04 17:10:26.910\u001b[0m | \u001b[1mINFO    \u001b[0m | \u001b[36mearthtext.datamodules.chipmultilabel\u001b[0m:\u001b[36mcompute\u001b[0m:\u001b[36m41\u001b[0m - \u001b[1mreading means and stddevs from /opt/data/california-naip-chips/california-naip-chips-100k_metadata_embeddings_meansstdevs.pkl\u001b[0m\n"
     ]
    }
   ],
   "source": [
    "conf = OmegaConf.load(\"../../configs/naip-multilabel.yaml\")\n",
    "conf.dataloader.neighbor_embeddings_folder = \"/opt/data/california-naip-chips/california-naip-chips-100k-neighbours/npy\"\n",
    "conf.dataloader.batch_size = 16\n",
    "dl = hydra.utils.instantiate(conf.dataloader)"
   ]
  },
  {
   "cell_type": "code",
   "execution_count": 6,
   "id": "5fa5944f-b902-4fab-a017-19b7e020b903",
   "metadata": {},
   "outputs": [
    {
     "data": {
      "text/plain": [
       "(17, 17, 768)"
      ]
     },
     "execution_count": 6,
     "metadata": {},
     "output_type": "execute_result"
    }
   ],
   "source": [
    "dl.train_dataset[0]['embedding'].shape"
   ]
  },
  {
   "cell_type": "markdown",
   "id": "e3e9e9de-4e46-42c4-a76b-c9a1ebd85868",
   "metadata": {},
   "source": [
    "---"
   ]
  },
  {
   "cell_type": "markdown",
   "id": "b9722b2f-1e5f-4859-a1ce-375f1d0791da",
   "metadata": {},
   "source": [
    "test the dataloader"
   ]
  },
  {
   "cell_type": "code",
   "execution_count": 7,
   "id": "a85712fa-17f0-4690-a0c2-487be97ea799",
   "metadata": {},
   "outputs": [],
   "source": [
    "dltrain = dl.train_dataloader()"
   ]
  },
  {
   "cell_type": "code",
   "execution_count": 8,
   "id": "3fa30ac9-0376-4494-b048-19f8ffc0d41f",
   "metadata": {},
   "outputs": [],
   "source": [
    "batch = next(iter(dltrain))"
   ]
  },
  {
   "cell_type": "code",
   "execution_count": 9,
   "id": "4ff9295c-4ff8-4b31-9465-70a03ff23b51",
   "metadata": {},
   "outputs": [
    {
     "data": {
      "text/plain": [
       "torch.Size([16, 17, 17, 768])"
      ]
     },
     "execution_count": 9,
     "metadata": {},
     "output_type": "execute_result"
    }
   ],
   "source": [
    "batch['embedding'].shape"
   ]
  },
  {
   "cell_type": "markdown",
   "id": "a75faa90-5b40-4c8f-be84-376b6893b0fd",
   "metadata": {},
   "source": [
    "---"
   ]
  },
  {
   "cell_type": "markdown",
   "id": "ec2a0ec5-ab77-4712-bd15-dc7bb561300d",
   "metadata": {},
   "source": [
    "smaller neighborhood radius"
   ]
  },
  {
   "cell_type": "code",
   "execution_count": 10,
   "id": "ad97b784-56bd-497e-9f41-107887db6499",
   "metadata": {},
   "outputs": [
    {
     "name": "stderr",
     "output_type": "stream",
     "text": [
      "\u001b[32m2024-06-04 17:11:50.681\u001b[0m | \u001b[1mINFO    \u001b[0m | \u001b[36mearthtext.datamodules.components.chipmultilabel\u001b[0m:\u001b[36m__init__\u001b[0m:\u001b[36m100\u001b[0m - \u001b[1musing embeddings found in metadata file\u001b[0m\n",
      "\u001b[32m2024-06-04 17:11:50.684\u001b[0m | \u001b[1mINFO    \u001b[0m | \u001b[36mearthtext.datamodules.components.chipmultilabel\u001b[0m:\u001b[36m__init__\u001b[0m:\u001b[36m113\u001b[0m - \u001b[1mread train split with 72268 chip files (out of 72268)\u001b[0m\n",
      "\u001b[32m2024-06-04 17:11:50.684\u001b[0m | \u001b[1mINFO    \u001b[0m | \u001b[36mearthtext.datamodules.components.chipmultilabel\u001b[0m:\u001b[36m__init__\u001b[0m:\u001b[36m117\u001b[0m - \u001b[1mremoving chip IDs with no associated neighbors .npy files\u001b[0m\n",
      "\u001b[32m2024-06-04 17:11:51.103\u001b[0m | \u001b[1mINFO    \u001b[0m | \u001b[36mearthtext.datamodules.components.chipmultilabel\u001b[0m:\u001b[36m__init__\u001b[0m:\u001b[36m125\u001b[0m - \u001b[1mmax cache size is -1\u001b[0m\n",
      "\u001b[32m2024-06-04 17:11:52.474\u001b[0m | \u001b[1mINFO    \u001b[0m | \u001b[36mearthtext.datamodules.components.chipmultilabel\u001b[0m:\u001b[36m__init__\u001b[0m:\u001b[36m100\u001b[0m - \u001b[1musing embeddings found in metadata file\u001b[0m\n",
      "\u001b[32m2024-06-04 17:11:52.478\u001b[0m | \u001b[1mINFO    \u001b[0m | \u001b[36mearthtext.datamodules.components.chipmultilabel\u001b[0m:\u001b[36m__init__\u001b[0m:\u001b[36m113\u001b[0m - \u001b[1mread val split with 14770 chip files (out of 14770)\u001b[0m\n",
      "\u001b[32m2024-06-04 17:11:52.478\u001b[0m | \u001b[1mINFO    \u001b[0m | \u001b[36mearthtext.datamodules.components.chipmultilabel\u001b[0m:\u001b[36m__init__\u001b[0m:\u001b[36m117\u001b[0m - \u001b[1mremoving chip IDs with no associated neighbors .npy files\u001b[0m\n",
      "\u001b[32m2024-06-04 17:11:52.876\u001b[0m | \u001b[1mINFO    \u001b[0m | \u001b[36mearthtext.datamodules.components.chipmultilabel\u001b[0m:\u001b[36m__init__\u001b[0m:\u001b[36m125\u001b[0m - \u001b[1mmax cache size is -1\u001b[0m\n",
      "\u001b[32m2024-06-04 17:11:54.286\u001b[0m | \u001b[1mINFO    \u001b[0m | \u001b[36mearthtext.datamodules.components.chipmultilabel\u001b[0m:\u001b[36m__init__\u001b[0m:\u001b[36m100\u001b[0m - \u001b[1musing embeddings found in metadata file\u001b[0m\n",
      "\u001b[32m2024-06-04 17:11:54.289\u001b[0m | \u001b[1mINFO    \u001b[0m | \u001b[36mearthtext.datamodules.components.chipmultilabel\u001b[0m:\u001b[36m__init__\u001b[0m:\u001b[36m113\u001b[0m - \u001b[1mread test split with 17202 chip files (out of 17202)\u001b[0m\n",
      "\u001b[32m2024-06-04 17:11:54.290\u001b[0m | \u001b[1mINFO    \u001b[0m | \u001b[36mearthtext.datamodules.components.chipmultilabel\u001b[0m:\u001b[36m__init__\u001b[0m:\u001b[36m117\u001b[0m - \u001b[1mremoving chip IDs with no associated neighbors .npy files\u001b[0m\n",
      "\u001b[32m2024-06-04 17:11:54.694\u001b[0m | \u001b[1mINFO    \u001b[0m | \u001b[36mearthtext.datamodules.components.chipmultilabel\u001b[0m:\u001b[36m__init__\u001b[0m:\u001b[36m125\u001b[0m - \u001b[1mmax cache size is -1\u001b[0m\n",
      "\u001b[32m2024-06-04 17:11:54.697\u001b[0m | \u001b[1mINFO    \u001b[0m | \u001b[36mearthtext.datamodules.chipmultilabel\u001b[0m:\u001b[36mcompute\u001b[0m:\u001b[36m41\u001b[0m - \u001b[1mreading means and stddevs from /opt/data/california-naip-chips/california-naip-chips-100k_metadata_embeddings_meansstdevs.pkl\u001b[0m\n"
     ]
    }
   ],
   "source": [
    "conf.dataloader.neighborhood_radius = 5\n",
    "dl = hydra.utils.instantiate(conf.dataloader)"
   ]
  },
  {
   "cell_type": "code",
   "execution_count": 11,
   "id": "7765d322-4822-43fb-a8cf-9cf8a6741b7b",
   "metadata": {},
   "outputs": [
    {
     "data": {
      "text/plain": [
       "(11, 11, 768)"
      ]
     },
     "execution_count": 11,
     "metadata": {},
     "output_type": "execute_result"
    }
   ],
   "source": [
    "dl.train_dataset[0]['embedding'].shape"
   ]
  },
  {
   "cell_type": "code",
   "execution_count": 12,
   "id": "c27ef4fe-0bd6-453a-bbb6-43e273a87cf2",
   "metadata": {},
   "outputs": [
    {
     "data": {
      "text/plain": [
       "torch.Size([16, 11, 11, 768])"
      ]
     },
     "execution_count": 12,
     "metadata": {},
     "output_type": "execute_result"
    }
   ],
   "source": [
    "dltrain = dl.train_dataloader()\n",
    "batch = next(iter(dltrain))\n",
    "batch['embedding'].shape"
   ]
  }
 ],
 "metadata": {
  "kernelspec": {
   "display_name": "Python 3 (ipykernel)",
   "language": "python",
   "name": "python3"
  },
  "language_info": {
   "codemirror_mode": {
    "name": "ipython",
    "version": 3
   },
   "file_extension": ".py",
   "mimetype": "text/x-python",
   "name": "python",
   "nbconvert_exporter": "python",
   "pygments_lexer": "ipython3",
   "version": "3.12.2"
  }
 },
 "nbformat": 4,
 "nbformat_minor": 5
}
