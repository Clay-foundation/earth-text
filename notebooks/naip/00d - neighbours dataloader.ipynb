{
 "cells": [
  {
   "cell_type": "code",
   "execution_count": 1,
   "id": "08a04217-5d99-41e2-b2b3-31c286a26936",
   "metadata": {},
   "outputs": [],
   "source": [
    "import geopandas as gpd\n",
    "import pandas as pd\n",
    "import matplotlib.pyplot as plt\n",
    "\n",
    "import os\n",
    "import numpy as np\n",
    "from progressbar import progressbar as pbar\n",
    "\n",
    "from omegaconf import OmegaConf\n",
    "import hydra\n",
    "\n",
    "%load_ext autoreload\n",
    "%autoreload 2"
   ]
  },
  {
   "cell_type": "markdown",
   "id": "46cddbb9-b5b4-48a3-a641-8c5cfbda6bd1",
   "metadata": {},
   "source": [
    "check that neighbor files are a subset of original chip IDs"
   ]
  },
  {
   "cell_type": "code",
   "execution_count": 2,
   "id": "e72c88ce-0eec-417d-8d74-d71f2bd5987d",
   "metadata": {},
   "outputs": [],
   "source": [
    "df = pd.read_parquet('/opt/data/california-naip-chips/california-naip-chips-100k.parquet')\n",
    "original_chip_IDs = df['original_chip_id']"
   ]
  },
  {
   "cell_type": "code",
   "execution_count": 3,
   "id": "6dffbaff-b6da-4cc9-8b1e-686c449697ff",
   "metadata": {},
   "outputs": [
    {
     "data": {
      "text/plain": [
       "True"
      ]
     },
     "execution_count": 3,
     "metadata": {},
     "output_type": "execute_result"
    }
   ],
   "source": [
    "folder = \"/opt/data/california-naip-chips/california-naip-chips-100k-neighbours\"\n",
    "files = pd.Series([f.removesuffix('.parquet') for f in os.listdir(folder) if os.path.isfile(os.path.join(folder, f))\n",
    "                   and f != 'osm_aggregate.parquet'])\n",
    "files.isin(original_chip_IDs).all()"
   ]
  },
  {
   "cell_type": "code",
   "execution_count": 4,
   "id": "b4abac62-9b55-4c2f-902e-ddfee5744e00",
   "metadata": {},
   "outputs": [
    {
     "data": {
      "text/plain": [
       "True"
      ]
     },
     "execution_count": 4,
     "metadata": {},
     "output_type": "execute_result"
    }
   ],
   "source": [
    "folder = \"/opt/data/california-naip-chips/california-naip-chips-100k-neighbours/npy\"\n",
    "files = pd.Series([f.removesuffix('.npy') for f in os.listdir(folder) if os.path.isfile(os.path.join(folder, f))])\n",
    "files.isin(original_chip_IDs).all()"
   ]
  },
  {
   "cell_type": "markdown",
   "id": "9827ebad-cc2b-4878-93da-9010067afc10",
   "metadata": {},
   "source": [
    "---"
   ]
  },
  {
   "cell_type": "markdown",
   "id": "41c1e5c8-b8f1-4258-b794-48ee9784ccbd",
   "metadata": {},
   "source": [
    "load the dataloader"
   ]
  },
  {
   "cell_type": "code",
   "execution_count": 5,
   "id": "12ecddb4-8a5b-48e0-9281-f0d128740222",
   "metadata": {},
   "outputs": [
    {
     "name": "stderr",
     "output_type": "stream",
     "text": [
      "\u001b[32m2024-06-17 13:45:18.071\u001b[0m | \u001b[1mINFO    \u001b[0m | \u001b[36mearthtext.datamodules.components.chipmultilabel\u001b[0m:\u001b[36m__init__\u001b[0m:\u001b[36m101\u001b[0m - \u001b[1musing embeddings found in metadata file\u001b[0m\n",
      "\u001b[32m2024-06-17 13:45:18.073\u001b[0m | \u001b[1mINFO    \u001b[0m | \u001b[36mearthtext.datamodules.components.chipmultilabel\u001b[0m:\u001b[36m__init__\u001b[0m:\u001b[36m114\u001b[0m - \u001b[1mread train split with 72268 chip files (out of 72268)\u001b[0m\n",
      "\u001b[32m2024-06-17 13:45:18.073\u001b[0m | \u001b[1mINFO    \u001b[0m | \u001b[36mearthtext.datamodules.components.chipmultilabel\u001b[0m:\u001b[36m__init__\u001b[0m:\u001b[36m118\u001b[0m - \u001b[1mremoving chip IDs with no associated neighbors .npy files\u001b[0m\n",
      "\u001b[32m2024-06-17 13:45:18.884\u001b[0m | \u001b[1mINFO    \u001b[0m | \u001b[36mearthtext.datamodules.components.chipmultilabel\u001b[0m:\u001b[36m__init__\u001b[0m:\u001b[36m128\u001b[0m - \u001b[1mmax cache size is -1\u001b[0m\n",
      "\u001b[32m2024-06-17 13:45:20.231\u001b[0m | \u001b[1mINFO    \u001b[0m | \u001b[36mearthtext.datamodules.components.chipmultilabel\u001b[0m:\u001b[36m__init__\u001b[0m:\u001b[36m101\u001b[0m - \u001b[1musing embeddings found in metadata file\u001b[0m\n",
      "\u001b[32m2024-06-17 13:45:20.233\u001b[0m | \u001b[1mINFO    \u001b[0m | \u001b[36mearthtext.datamodules.components.chipmultilabel\u001b[0m:\u001b[36m__init__\u001b[0m:\u001b[36m114\u001b[0m - \u001b[1mread val split with 14770 chip files (out of 14770)\u001b[0m\n",
      "\u001b[32m2024-06-17 13:45:20.234\u001b[0m | \u001b[1mINFO    \u001b[0m | \u001b[36mearthtext.datamodules.components.chipmultilabel\u001b[0m:\u001b[36m__init__\u001b[0m:\u001b[36m118\u001b[0m - \u001b[1mremoving chip IDs with no associated neighbors .npy files\u001b[0m\n",
      "\u001b[32m2024-06-17 13:45:21.016\u001b[0m | \u001b[1mINFO    \u001b[0m | \u001b[36mearthtext.datamodules.components.chipmultilabel\u001b[0m:\u001b[36m__init__\u001b[0m:\u001b[36m128\u001b[0m - \u001b[1mmax cache size is -1\u001b[0m\n",
      "\u001b[32m2024-06-17 13:45:22.431\u001b[0m | \u001b[1mINFO    \u001b[0m | \u001b[36mearthtext.datamodules.components.chipmultilabel\u001b[0m:\u001b[36m__init__\u001b[0m:\u001b[36m101\u001b[0m - \u001b[1musing embeddings found in metadata file\u001b[0m\n",
      "\u001b[32m2024-06-17 13:45:22.434\u001b[0m | \u001b[1mINFO    \u001b[0m | \u001b[36mearthtext.datamodules.components.chipmultilabel\u001b[0m:\u001b[36m__init__\u001b[0m:\u001b[36m114\u001b[0m - \u001b[1mread test split with 17202 chip files (out of 17202)\u001b[0m\n",
      "\u001b[32m2024-06-17 13:45:22.435\u001b[0m | \u001b[1mINFO    \u001b[0m | \u001b[36mearthtext.datamodules.components.chipmultilabel\u001b[0m:\u001b[36m__init__\u001b[0m:\u001b[36m118\u001b[0m - \u001b[1mremoving chip IDs with no associated neighbors .npy files\u001b[0m\n",
      "\u001b[32m2024-06-17 13:45:23.218\u001b[0m | \u001b[1mINFO    \u001b[0m | \u001b[36mearthtext.datamodules.components.chipmultilabel\u001b[0m:\u001b[36m__init__\u001b[0m:\u001b[36m128\u001b[0m - \u001b[1mmax cache size is -1\u001b[0m\n",
      "\u001b[32m2024-06-17 13:45:23.221\u001b[0m | \u001b[1mINFO    \u001b[0m | \u001b[36mearthtext.datamodules.chipmultilabel\u001b[0m:\u001b[36mcompute\u001b[0m:\u001b[36m41\u001b[0m - \u001b[1mreading means and stddevs from /opt/data/california-naip-chips/california-naip-chips-100k_metadata_embeddings_meansstdevs.pkl\u001b[0m\n"
     ]
    }
   ],
   "source": [
    "conf = OmegaConf.load(\"../../configs/naip-multilabel-contextual.yaml\")\n",
    "conf.dataloader.neighbor_embeddings_folder = \"/opt/data/california-naip-chips/california-naip-chips-100k-neighbours/npy\"\n",
    "conf.dataloader.batch_size = 16\n",
    "dl = hydra.utils.instantiate(conf.dataloader)"
   ]
  },
  {
   "attachments": {},
   "cell_type": "markdown",
   "id": "918e9ef3-832d-40a4-b294-78567cd8b466",
   "metadata": {},
   "source": [
    "---\n",
    "\n",
    "test the dataset"
   ]
  },
  {
   "cell_type": "code",
   "execution_count": 6,
   "id": "735ec116-2585-44d6-8eff-9de89b669255",
   "metadata": {},
   "outputs": [
    {
     "name": "stdout",
     "output_type": "stream",
     "text": [
      "torch.Size([140, 17, 17])\n"
     ]
    },
    {
     "data": {
      "text/plain": [
       "torch.Size([768, 17, 17])"
      ]
     },
     "execution_count": 6,
     "metadata": {},
     "output_type": "execute_result"
    }
   ],
   "source": [
    "x = dl.train_dataset[0]\n",
    "print(x['multilabel'].shape)\n",
    "x['embedding'].shape"
   ]
  },
  {
   "cell_type": "code",
   "execution_count": 7,
   "id": "5e855f55-619c-49fe-806d-ec8028cd5a10",
   "metadata": {},
   "outputs": [
    {
     "data": {
      "text/plain": [
       "tensor([ 0,  0,  0,  0,  0,  0,  0,  0,  0,  0,  0,  0,  0,  2,  0,  0,  0,  0,\n",
       "         0,  1,  0,  0,  0,  0,  0,  1,  0,  0,  0,  0,  0,  0,  0,  0, 10,  0,\n",
       "         0,  0,  0,  9,  1,  0,  0, 12,  0,  0,  4,  0,  0,  0,  0,  0,  1,  0,\n",
       "         0,  0,  0,  0,  0,  0,  0,  8,  0,  0,  0,  0,  0,  0,  0,  0,  0,  0,\n",
       "         8,  0,  0,  0,  0,  8,  0,  0,  0,  0,  0,  0,  0,  0,  0,  0,  0,  0,\n",
       "         0,  0,  0,  0,  0,  0,  0,  0,  0,  0,  0,  1,  1,  0,  0,  0,  0,  0,\n",
       "         0,  0,  0,  0,  0,  0,  0,  0,  0,  0,  0,  0,  0,  0,  0,  0,  0,  0,\n",
       "         0,  0,  0,  0,  0,  0,  0,  0,  0,  0,  3,  0,  0,  3])"
      ]
     },
     "execution_count": 7,
     "metadata": {},
     "output_type": "execute_result"
    }
   ],
   "source": [
    "x['multilabel'].sum(dim=(1,2))"
   ]
  },
  {
   "cell_type": "code",
   "execution_count": 8,
   "id": "a8adf277-b53d-4cb8-bae6-e106dd11f487",
   "metadata": {},
   "outputs": [
    {
     "name": "stdout",
     "output_type": "stream",
     "text": [
      "ca_m_3411730_sw_11_060_20220501-36-11\n",
      "1bc5059a8c325.parquet\n"
     ]
    }
   ],
   "source": [
    "print(x['chip_id'])\n",
    "print(f'{df.reset_index().set_index('original_chip_id')['chip_id'].loc[x['chip_id']]}.parquet')"
   ]
  },
  {
   "cell_type": "code",
   "execution_count": 9,
   "id": "cff99c89-ffef-49ca-a002-0306efccf239",
   "metadata": {},
   "outputs": [
    {
     "data": {
      "text/html": [
       "<div style=\"width:100%;\"><div style=\"position:relative;width:100%;height:0;padding-bottom:60%;\"><span style=\"color:#565656\">Make this Notebook Trusted to load map: File -> Trust Notebook</span><iframe srcdoc=\"&lt;!DOCTYPE html&gt;\n",
       "&lt;html&gt;\n",
       "&lt;head&gt;\n",
       "    \n",
       "    &lt;meta http-equiv=&quot;content-type&quot; content=&quot;text/html; charset=UTF-8&quot; /&gt;\n",
       "    \n",
       "        &lt;script&gt;\n",
       "            L_NO_TOUCH = false;\n",
       "            L_DISABLE_3D = false;\n",
       "        &lt;/script&gt;\n",
       "    \n",
       "    &lt;style&gt;html, body {width: 100%;height: 100%;margin: 0;padding: 0;}&lt;/style&gt;\n",
       "    &lt;style&gt;#map {position:absolute;top:0;bottom:0;right:0;left:0;}&lt;/style&gt;\n",
       "    &lt;script src=&quot;https://cdn.jsdelivr.net/npm/leaflet@1.9.3/dist/leaflet.js&quot;&gt;&lt;/script&gt;\n",
       "    &lt;script src=&quot;https://code.jquery.com/jquery-3.7.1.min.js&quot;&gt;&lt;/script&gt;\n",
       "    &lt;script src=&quot;https://cdn.jsdelivr.net/npm/bootstrap@5.2.2/dist/js/bootstrap.bundle.min.js&quot;&gt;&lt;/script&gt;\n",
       "    &lt;script src=&quot;https://cdnjs.cloudflare.com/ajax/libs/Leaflet.awesome-markers/2.0.2/leaflet.awesome-markers.js&quot;&gt;&lt;/script&gt;\n",
       "    &lt;link rel=&quot;stylesheet&quot; href=&quot;https://cdn.jsdelivr.net/npm/leaflet@1.9.3/dist/leaflet.css&quot;/&gt;\n",
       "    &lt;link rel=&quot;stylesheet&quot; href=&quot;https://cdn.jsdelivr.net/npm/bootstrap@5.2.2/dist/css/bootstrap.min.css&quot;/&gt;\n",
       "    &lt;link rel=&quot;stylesheet&quot; href=&quot;https://netdna.bootstrapcdn.com/bootstrap/3.0.0/css/bootstrap.min.css&quot;/&gt;\n",
       "    &lt;link rel=&quot;stylesheet&quot; href=&quot;https://cdn.jsdelivr.net/npm/@fortawesome/fontawesome-free@6.2.0/css/all.min.css&quot;/&gt;\n",
       "    &lt;link rel=&quot;stylesheet&quot; href=&quot;https://cdnjs.cloudflare.com/ajax/libs/Leaflet.awesome-markers/2.0.2/leaflet.awesome-markers.css&quot;/&gt;\n",
       "    &lt;link rel=&quot;stylesheet&quot; href=&quot;https://cdn.jsdelivr.net/gh/python-visualization/folium/folium/templates/leaflet.awesome.rotate.min.css&quot;/&gt;\n",
       "    \n",
       "            &lt;meta name=&quot;viewport&quot; content=&quot;width=device-width,\n",
       "                initial-scale=1.0, maximum-scale=1.0, user-scalable=no&quot; /&gt;\n",
       "            &lt;style&gt;\n",
       "                #map_b3aac3a81323476ad61fdd46bd21ef51 {\n",
       "                    position: relative;\n",
       "                    width: 100.0%;\n",
       "                    height: 100.0%;\n",
       "                    left: 0.0%;\n",
       "                    top: 0.0%;\n",
       "                }\n",
       "                .leaflet-container { font-size: 1rem; }\n",
       "            &lt;/style&gt;\n",
       "        \n",
       "    \n",
       "                    &lt;style&gt;\n",
       "                        .foliumtooltip {\n",
       "                            \n",
       "                        }\n",
       "                       .foliumtooltip table{\n",
       "                            margin: auto;\n",
       "                        }\n",
       "                        .foliumtooltip tr{\n",
       "                            text-align: left;\n",
       "                        }\n",
       "                        .foliumtooltip th{\n",
       "                            padding: 2px; padding-right: 8px;\n",
       "                        }\n",
       "                    &lt;/style&gt;\n",
       "            \n",
       "&lt;/head&gt;\n",
       "&lt;body&gt;\n",
       "    \n",
       "    \n",
       "            &lt;div class=&quot;folium-map&quot; id=&quot;map_b3aac3a81323476ad61fdd46bd21ef51&quot; &gt;&lt;/div&gt;\n",
       "        \n",
       "&lt;/body&gt;\n",
       "&lt;script&gt;\n",
       "    \n",
       "    \n",
       "            var map_b3aac3a81323476ad61fdd46bd21ef51 = L.map(\n",
       "                &quot;map_b3aac3a81323476ad61fdd46bd21ef51&quot;,\n",
       "                {\n",
       "                    center: [34.54852593819304, -117.31631108077923],\n",
       "                    crs: L.CRS.EPSG3857,\n",
       "                    zoom: 10,\n",
       "                    zoomControl: true,\n",
       "                    preferCanvas: false,\n",
       "                }\n",
       "            );\n",
       "            L.control.scale().addTo(map_b3aac3a81323476ad61fdd46bd21ef51);\n",
       "\n",
       "            \n",
       "\n",
       "        \n",
       "    \n",
       "            var tile_layer_373761a172e4d0e70ce29d1feb3aae61 = L.tileLayer(\n",
       "                &quot;https://tile.openstreetmap.org/{z}/{x}/{y}.png&quot;,\n",
       "                {&quot;attribution&quot;: &quot;\\u0026copy; \\u003ca href=\\&quot;https://www.openstreetmap.org/copyright\\&quot;\\u003eOpenStreetMap\\u003c/a\\u003e contributors&quot;, &quot;detectRetina&quot;: false, &quot;maxNativeZoom&quot;: 19, &quot;maxZoom&quot;: 19, &quot;minZoom&quot;: 0, &quot;noWrap&quot;: false, &quot;opacity&quot;: 1, &quot;subdomains&quot;: &quot;abc&quot;, &quot;tms&quot;: false}\n",
       "            );\n",
       "        \n",
       "    \n",
       "            tile_layer_373761a172e4d0e70ce29d1feb3aae61.addTo(map_b3aac3a81323476ad61fdd46bd21ef51);\n",
       "        \n",
       "    \n",
       "            map_b3aac3a81323476ad61fdd46bd21ef51.fitBounds(\n",
       "                [[34.54783118945427, -117.31715074567386], [34.54922068693181, -117.31547141588459]],\n",
       "                {}\n",
       "            );\n",
       "        \n",
       "    \n",
       "        function geo_json_bb4bfd751411ea42ca89a0932565b85a_styler(feature) {\n",
       "            switch(feature.id) {\n",
       "                default:\n",
       "                    return {&quot;fillOpacity&quot;: 0.5, &quot;weight&quot;: 2};\n",
       "            }\n",
       "        }\n",
       "        function geo_json_bb4bfd751411ea42ca89a0932565b85a_highlighter(feature) {\n",
       "            switch(feature.id) {\n",
       "                default:\n",
       "                    return {&quot;fillOpacity&quot;: 0.75};\n",
       "            }\n",
       "        }\n",
       "        function geo_json_bb4bfd751411ea42ca89a0932565b85a_pointToLayer(feature, latlng) {\n",
       "            var opts = {&quot;bubblingMouseEvents&quot;: true, &quot;color&quot;: &quot;#3388ff&quot;, &quot;dashArray&quot;: null, &quot;dashOffset&quot;: null, &quot;fill&quot;: true, &quot;fillColor&quot;: &quot;#3388ff&quot;, &quot;fillOpacity&quot;: 0.2, &quot;fillRule&quot;: &quot;evenodd&quot;, &quot;lineCap&quot;: &quot;round&quot;, &quot;lineJoin&quot;: &quot;round&quot;, &quot;opacity&quot;: 1.0, &quot;radius&quot;: 2, &quot;stroke&quot;: true, &quot;weight&quot;: 3};\n",
       "            \n",
       "            let style = geo_json_bb4bfd751411ea42ca89a0932565b85a_styler(feature)\n",
       "            Object.assign(opts, style)\n",
       "            \n",
       "            return new L.CircleMarker(latlng, opts)\n",
       "        }\n",
       "\n",
       "        function geo_json_bb4bfd751411ea42ca89a0932565b85a_onEachFeature(feature, layer) {\n",
       "            layer.on({\n",
       "                mouseout: function(e) {\n",
       "                    if(typeof e.target.setStyle === &quot;function&quot;){\n",
       "                            geo_json_bb4bfd751411ea42ca89a0932565b85a.resetStyle(e.target);\n",
       "                    }\n",
       "                },\n",
       "                mouseover: function(e) {\n",
       "                    if(typeof e.target.setStyle === &quot;function&quot;){\n",
       "                        const highlightStyle = geo_json_bb4bfd751411ea42ca89a0932565b85a_highlighter(e.target.feature)\n",
       "                        e.target.setStyle(highlightStyle);\n",
       "                    }\n",
       "                },\n",
       "            });\n",
       "        };\n",
       "        var geo_json_bb4bfd751411ea42ca89a0932565b85a = L.geoJson(null, {\n",
       "                onEachFeature: geo_json_bb4bfd751411ea42ca89a0932565b85a_onEachFeature,\n",
       "            \n",
       "                style: geo_json_bb4bfd751411ea42ca89a0932565b85a_styler,\n",
       "                pointToLayer: geo_json_bb4bfd751411ea42ca89a0932565b85a_pointToLayer,\n",
       "        });\n",
       "\n",
       "        function geo_json_bb4bfd751411ea42ca89a0932565b85a_add (data) {\n",
       "            geo_json_bb4bfd751411ea42ca89a0932565b85a\n",
       "                .addData(data);\n",
       "        }\n",
       "            geo_json_bb4bfd751411ea42ca89a0932565b85a_add({&quot;bbox&quot;: [-117.31715074567386, 34.54783118945427, -117.31547141588459, 34.54922068693181], &quot;features&quot;: [{&quot;bbox&quot;: [-117.31581441491011, 34.547834637522605, -117.31547294371565, 34.54824037118701], &quot;geometry&quot;: {&quot;coordinates&quot;: [[-117.31581441491011, 34.547834637522605], [-117.3157318, 34.547921], [-117.3155516, 34.548135], [-117.31547294371565, 34.54824037118701]], &quot;type&quot;: &quot;LineString&quot;}, &quot;id&quot;: &quot;4233&quot;, &quot;properties&quot;: {&quot;area&quot;: 0.0, &quot;chip_id&quot;: &quot;1bc5059a8c325&quot;, &quot;kind&quot;: &quot;way&quot;, &quot;length&quot;: 54.90032140320531, &quot;stags&quot;: &quot;construction: residential\\n\\u003cbr\\u003e\\nhighway: construction&quot;, &quot;tags&quot;: &quot;{\\u0027construction\\u0027: \\u0027residential\\u0027, \\u0027highway\\u0027: \\u0027construction\\u0027}&quot;}, &quot;type&quot;: &quot;Feature&quot;}, {&quot;bbox&quot;: [-117.31715074567386, 34.54783118945427, -117.31547141588459, 34.54922068693181], &quot;geometry&quot;: {&quot;coordinates&quot;: [[[-117.31714549052462, 34.54783118945427], [-117.31715074567386, 34.54921635012278], [-117.31547664329526, 34.54922068693181], [-117.31547141588459, 34.54783552604018], [-117.31714549052462, 34.54783118945427]]], &quot;type&quot;: &quot;Polygon&quot;}, &quot;id&quot;: &quot;22705&quot;, &quot;properties&quot;: {&quot;area&quot;: 23619.80358241062, &quot;chip_id&quot;: &quot;1bc5059a8c325&quot;, &quot;kind&quot;: &quot;way&quot;, &quot;length&quot;: 614.7494264483563, &quot;stags&quot;: &quot;landuse: construction&quot;, &quot;tags&quot;: &quot;{\\u0027landuse\\u0027: \\u0027construction\\u0027}&quot;}, &quot;type&quot;: &quot;Feature&quot;}], &quot;type&quot;: &quot;FeatureCollection&quot;});\n",
       "\n",
       "        \n",
       "    \n",
       "    geo_json_bb4bfd751411ea42ca89a0932565b85a.bindTooltip(\n",
       "    function(layer){\n",
       "    let div = L.DomUtil.create(&#x27;div&#x27;);\n",
       "    \n",
       "    let handleObject = feature=&gt;typeof(feature)==&#x27;object&#x27; ? JSON.stringify(feature) : feature;\n",
       "    let fields = [&quot;tags&quot;, &quot;kind&quot;, &quot;length&quot;, &quot;area&quot;, &quot;stags&quot;, &quot;chip_id&quot;];\n",
       "    let aliases = [&quot;tags&quot;, &quot;kind&quot;, &quot;length&quot;, &quot;area&quot;, &quot;stags&quot;, &quot;chip_id&quot;];\n",
       "    let table = &#x27;&lt;table&gt;&#x27; +\n",
       "        String(\n",
       "        fields.map(\n",
       "        (v,i)=&gt;\n",
       "        `&lt;tr&gt;\n",
       "            &lt;th&gt;${aliases[i]}&lt;/th&gt;\n",
       "            \n",
       "            &lt;td&gt;${handleObject(layer.feature.properties[v])}&lt;/td&gt;\n",
       "        &lt;/tr&gt;`).join(&#x27;&#x27;))\n",
       "    +&#x27;&lt;/table&gt;&#x27;;\n",
       "    div.innerHTML=table;\n",
       "    \n",
       "    return div\n",
       "    }\n",
       "    ,{&quot;className&quot;: &quot;foliumtooltip&quot;, &quot;sticky&quot;: true});\n",
       "                     \n",
       "    \n",
       "            geo_json_bb4bfd751411ea42ca89a0932565b85a.addTo(map_b3aac3a81323476ad61fdd46bd21ef51);\n",
       "        \n",
       "&lt;/script&gt;\n",
       "&lt;/html&gt;\" style=\"position:absolute;width:100%;height:100%;left:0;top:0;border:none !important;\" allowfullscreen webkitallowfullscreen mozallowfullscreen></iframe></div></div>"
      ],
      "text/plain": [
       "<folium.folium.Map at 0x7fb61e9ec3e0>"
      ]
     },
     "execution_count": 9,
     "metadata": {},
     "output_type": "execute_result"
    }
   ],
   "source": [
    "file = f'{df.reset_index().set_index('original_chip_id')['chip_id'].loc[x['chip_id']]}.parquet'\n",
    "z = gpd.read_parquet(f'/opt/data/california-naip-chips/osm/{file}')\n",
    "z.explore()"
   ]
  },
  {
   "cell_type": "code",
   "execution_count": 10,
   "id": "6fe15191-dbfd-4031-91b2-e8b4d600f8ac",
   "metadata": {},
   "outputs": [
    {
     "data": {
      "image/png": "[encoded data removed]",
      "text/plain": [
       "<Figure size 640x480 with 1 Axes>"
      ]
     },
     "metadata": {},
     "output_type": "display_data"
    }
   ],
   "source": [
    "# plt.imshow(x['multilabel'][[43]].permute(1, 2, 0));\n",
    "# plt.imshow(x['multilabel'][[39]].permute(1, 2, 0));\n",
    "# plt.imshow(x['multilabel'][[34]].permute(1, 2, 0));\n",
    "plt.imshow(np.rot90(x['multilabel'][[34, 39, 43]].float().permute(1,2,0)));"
   ]
  },
  {
   "cell_type": "code",
   "execution_count": 11,
   "id": "0a677062-9144-46cc-ac39-21fad5b027d1",
   "metadata": {},
   "outputs": [
    {
     "name": "stderr",
     "output_type": "stream",
     "text": [
      "Clipping input data to the valid range for imshow with RGB data ([0..1] for floats or [0..255] for integers).\n"
     ]
    },
    {
     "data": {
      "image/png": "[encoded data removed]",
      "text/plain": [
       "<Figure size 640x480 with 1 Axes>"
      ]
     },
     "metadata": {},
     "output_type": "display_data"
    }
   ],
   "source": [
    "plt.imshow(np.rot90(x['embedding'][[25, 123, 743]].permute(1, 2, 0)));"
   ]
  },
  {
   "attachments": {},
   "cell_type": "markdown",
   "id": "af2e1955-66da-4477-a892-6a77a4cdc130",
   "metadata": {},
   "source": [
    "---\n",
    "\n",
    "test the dataloader"
   ]
  },
  {
   "cell_type": "code",
   "execution_count": 12,
   "id": "a85712fa-17f0-4690-a0c2-487be97ea799",
   "metadata": {},
   "outputs": [],
   "source": [
    "dltrain = dl.train_dataloader()"
   ]
  },
  {
   "cell_type": "code",
   "execution_count": 13,
   "id": "3fa30ac9-0376-4494-b048-19f8ffc0d41f",
   "metadata": {},
   "outputs": [],
   "source": [
    "batch = next(iter(dltrain))"
   ]
  },
  {
   "cell_type": "code",
   "execution_count": 14,
   "id": "4ff9295c-4ff8-4b31-9465-70a03ff23b51",
   "metadata": {},
   "outputs": [
    {
     "name": "stdout",
     "output_type": "stream",
     "text": [
      "torch.Size([16, 768, 17, 17])\n",
      "torch.Size([16, 140, 17, 17])\n"
     ]
    }
   ],
   "source": [
    "print(batch['embedding'].shape)\n",
    "print(batch['multilabel'].shape)"
   ]
  },
  {
   "cell_type": "markdown",
   "id": "a75faa90-5b40-4c8f-be84-376b6893b0fd",
   "metadata": {},
   "source": [
    "---"
   ]
  },
  {
   "cell_type": "markdown",
   "id": "ec2a0ec5-ab77-4712-bd15-dc7bb561300d",
   "metadata": {},
   "source": [
    "smaller neighborhood radius"
   ]
  },
  {
   "cell_type": "code",
   "execution_count": 15,
   "id": "ad97b784-56bd-497e-9f41-107887db6499",
   "metadata": {},
   "outputs": [
    {
     "name": "stderr",
     "output_type": "stream",
     "text": [
      "\u001b[32m2024-06-17 13:46:00.680\u001b[0m | \u001b[1mINFO    \u001b[0m | \u001b[36mearthtext.datamodules.components.chipmultilabel\u001b[0m:\u001b[36m__init__\u001b[0m:\u001b[36m101\u001b[0m - \u001b[1musing embeddings found in metadata file\u001b[0m\n",
      "\u001b[32m2024-06-17 13:46:00.682\u001b[0m | \u001b[1mINFO    \u001b[0m | \u001b[36mearthtext.datamodules.components.chipmultilabel\u001b[0m:\u001b[36m__init__\u001b[0m:\u001b[36m114\u001b[0m - \u001b[1mread train split with 72268 chip files (out of 72268)\u001b[0m\n",
      "\u001b[32m2024-06-17 13:46:00.683\u001b[0m | \u001b[1mINFO    \u001b[0m | \u001b[36mearthtext.datamodules.components.chipmultilabel\u001b[0m:\u001b[36m__init__\u001b[0m:\u001b[36m118\u001b[0m - \u001b[1mremoving chip IDs with no associated neighbors .npy files\u001b[0m\n",
      "\u001b[32m2024-06-17 13:46:01.502\u001b[0m | \u001b[1mINFO    \u001b[0m | \u001b[36mearthtext.datamodules.components.chipmultilabel\u001b[0m:\u001b[36m__init__\u001b[0m:\u001b[36m128\u001b[0m - \u001b[1mmax cache size is -1\u001b[0m\n",
      "\u001b[32m2024-06-17 13:46:02.986\u001b[0m | \u001b[1mINFO    \u001b[0m | \u001b[36mearthtext.datamodules.components.chipmultilabel\u001b[0m:\u001b[36m__init__\u001b[0m:\u001b[36m101\u001b[0m - \u001b[1musing embeddings found in metadata file\u001b[0m\n",
      "\u001b[32m2024-06-17 13:46:02.990\u001b[0m | \u001b[1mINFO    \u001b[0m | \u001b[36mearthtext.datamodules.components.chipmultilabel\u001b[0m:\u001b[36m__init__\u001b[0m:\u001b[36m114\u001b[0m - \u001b[1mread val split with 14770 chip files (out of 14770)\u001b[0m\n",
      "\u001b[32m2024-06-17 13:46:02.990\u001b[0m | \u001b[1mINFO    \u001b[0m | \u001b[36mearthtext.datamodules.components.chipmultilabel\u001b[0m:\u001b[36m__init__\u001b[0m:\u001b[36m118\u001b[0m - \u001b[1mremoving chip IDs with no associated neighbors .npy files\u001b[0m\n",
      "\u001b[32m2024-06-17 13:46:03.765\u001b[0m | \u001b[1mINFO    \u001b[0m | \u001b[36mearthtext.datamodules.components.chipmultilabel\u001b[0m:\u001b[36m__init__\u001b[0m:\u001b[36m128\u001b[0m - \u001b[1mmax cache size is -1\u001b[0m\n",
      "\u001b[32m2024-06-17 13:46:05.129\u001b[0m | \u001b[1mINFO    \u001b[0m | \u001b[36mearthtext.datamodules.components.chipmultilabel\u001b[0m:\u001b[36m__init__\u001b[0m:\u001b[36m101\u001b[0m - \u001b[1musing embeddings found in metadata file\u001b[0m\n",
      "\u001b[32m2024-06-17 13:46:05.132\u001b[0m | \u001b[1mINFO    \u001b[0m | \u001b[36mearthtext.datamodules.components.chipmultilabel\u001b[0m:\u001b[36m__init__\u001b[0m:\u001b[36m114\u001b[0m - \u001b[1mread test split with 17202 chip files (out of 17202)\u001b[0m\n",
      "\u001b[32m2024-06-17 13:46:05.133\u001b[0m | \u001b[1mINFO    \u001b[0m | \u001b[36mearthtext.datamodules.components.chipmultilabel\u001b[0m:\u001b[36m__init__\u001b[0m:\u001b[36m118\u001b[0m - \u001b[1mremoving chip IDs with no associated neighbors .npy files\u001b[0m\n",
      "\u001b[32m2024-06-17 13:46:05.909\u001b[0m | \u001b[1mINFO    \u001b[0m | \u001b[36mearthtext.datamodules.components.chipmultilabel\u001b[0m:\u001b[36m__init__\u001b[0m:\u001b[36m128\u001b[0m - \u001b[1mmax cache size is -1\u001b[0m\n",
      "\u001b[32m2024-06-17 13:46:05.911\u001b[0m | \u001b[1mINFO    \u001b[0m | \u001b[36mearthtext.datamodules.chipmultilabel\u001b[0m:\u001b[36mcompute\u001b[0m:\u001b[36m41\u001b[0m - \u001b[1mreading means and stddevs from /opt/data/california-naip-chips/california-naip-chips-100k_metadata_embeddings_meansstdevs.pkl\u001b[0m\n"
     ]
    }
   ],
   "source": [
    "conf.dataloader.neighborhood_radius = 5\n",
    "dl = hydra.utils.instantiate(conf.dataloader)"
   ]
  },
  {
   "cell_type": "code",
   "execution_count": 16,
   "id": "7765d322-4822-43fb-a8cf-9cf8a6741b7b",
   "metadata": {},
   "outputs": [
    {
     "data": {
      "text/plain": [
       "torch.Size([768, 11, 11])"
      ]
     },
     "execution_count": 16,
     "metadata": {},
     "output_type": "execute_result"
    }
   ],
   "source": [
    "dl.train_dataset[0]['embedding'].shape"
   ]
  },
  {
   "cell_type": "code",
   "execution_count": 17,
   "id": "c27ef4fe-0bd6-453a-bbb6-43e273a87cf2",
   "metadata": {},
   "outputs": [
    {
     "name": "stdout",
     "output_type": "stream",
     "text": [
      "torch.Size([16, 768, 11, 11])\n",
      "torch.Size([16, 140, 11, 11])\n"
     ]
    }
   ],
   "source": [
    "dltrain = dl.train_dataloader()\n",
    "batch = next(iter(dltrain))\n",
    "print(batch['embedding'].shape)\n",
    "print(batch['multilabel'].shape)"
   ]
  }
 ],
 "metadata": {
  "kernelspec": {
   "display_name": "Python 3 (ipykernel)",
   "language": "python",
   "name": "python3"
  },
  "language_info": {
   "codemirror_mode": {
    "name": "ipython",
    "version": 3
   },
   "file_extension": ".py",
   "mimetype": "text/x-python",
   "name": "python",
   "nbconvert_exporter": "python",
   "pygments_lexer": "ipython3",
   "version": "3.12.2"
  }
 },
 "nbformat": 4,
 "nbformat_minor": 5
}
