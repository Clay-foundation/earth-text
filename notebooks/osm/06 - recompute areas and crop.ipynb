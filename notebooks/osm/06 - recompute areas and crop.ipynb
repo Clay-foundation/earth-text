{
 "cells": [
  {
   "cell_type": "code",
   "execution_count": 7,
   "id": "61f3d328-c700-4326-8e26-ec75f1c14e88",
   "metadata": {},
   "outputs": [
    {
     "data": {
      "text/plain": [
       "<module 'osm.osm' from '/home/ubuntu/earth-text/notebooks/osm/../../src/earthtext/osm/osm.py'>"
      ]
     },
     "execution_count": 7,
     "metadata": {},
     "output_type": "execute_result"
    }
   ],
   "source": [
    "import sys\n",
    "sys.path.append(\"../../src/earthtext\")\n",
    "\n",
    "from osm import osm\n",
    "import os\n",
    "from progressbar import progressbar as pbar\n",
    "import shapely as sh \n",
    "from pyproj import CRS\n",
    "import numpy as np\n",
    "epsg4326 = CRS.from_epsg(4326)\n",
    "import geopandas as gpd\n",
    "import pandas as pd\n",
    "from importlib import reload\n",
    "from rlxutils import Command, mParallel\n",
    "from joblib import delayed, Parallel\n",
    "from time import time\n",
    "import folium\n",
    "reload(osm)"
   ]
  },
  {
   "cell_type": "code",
   "execution_count": 9,
   "id": "845a57a3-619f-4374-b18c-edb969e833cf",
   "metadata": {},
   "outputs": [],
   "source": [
    "dg = gpd.read_file(\"/opt/data/california-worldcover-chips.fgb\")\n",
    "dg['chip_id'] = [osm.get_region_hash(i) for i in dg.geometry.values]"
   ]
  },
  {
   "cell_type": "code",
   "execution_count": 10,
   "id": "d2c4d330-8782-4a08-877a-714f78325d29",
   "metadata": {},
   "outputs": [
    {
     "data": {
      "text/plain": [
       "(93363, 4)"
      ]
     },
     "execution_count": 10,
     "metadata": {},
     "output_type": "execute_result"
    }
   ],
   "source": [
    "# get only chips with data\n",
    "dgd = dg[[os.path.isfile(f\"/opt/data/california-worldcover-chips/osm/{i}.parquet\") for i in dg.chip_id]]\n",
    "dgd.shape"
   ]
  },
  {
   "cell_type": "code",
   "execution_count": 96,
   "id": "e3f7f5d9-15f6-46b6-a77b-5a56004d1292",
   "metadata": {},
   "outputs": [],
   "source": [
    "def process_chipid(chip_id, geometry):\n",
    "    fname = f\"/opt/data/california-worldcover-chips/osm/{chip_id}.parquet\"\n",
    "    \n",
    "    z = gpd.read_parquet(fname)\n",
    "    if len(z)==0:\n",
    "        return \"no_geoms\"\n",
    "\n",
    "    # in case it was processed before\n",
    "    z['tags'] = [eval(t) if isinstance(t, str) else t for t in z.tags]\n",
    "    \n",
    "    z['tags'] = [{k:v for k,v in t.items() if v is not None} for t in z.tags]\n",
    "    z['tags'] = [osm.clean_tags(t) for t in z.tags]\n",
    "    z = z[[len(t)>0 for t in z.tags]]\n",
    "    \n",
    "    if len(z)==0:\n",
    "        return \"no_tags\"\n",
    "\n",
    "    g = geometry\n",
    "    z['stags'] = [osm.tags2str(t) for t in z.tags]\n",
    "    z['chip_id'] = chip_id\n",
    "\n",
    "    # dictionaries in parquet seem to be scrambled\n",
    "    # when loading do z['tags'] = [eval(t) for t in z.tags]\n",
    "    z['tags'] = [str(t) for t in z.tags]\n",
    "    z['chip_id'] = chip_id\n",
    "    \n",
    "    zi = z[[i.intersects(g) for i in z.geometry]]\n",
    "    zi['geometry'] = [i.intersection(g) for i in zi.geometry]\n",
    "    zic = zi.to_crs(osm.epsg_california)\n",
    "    zi['area'] = [g.area for g in zic.geometry]\n",
    "    zi['length'] = [g.length for g in zic.geometry]\n",
    "    zi.to_parquet(fname)\n",
    "    return \"ok\"\n",
    "\n",
    "class mParallel(Parallel):\n",
    "    \"\"\"\n",
    "    substitutes joblib.Parallel with richer verbose progress information\n",
    "    \"\"\"\n",
    "    def _print(self, msg):\n",
    "        if self.verbose > 10:\n",
    "            fmsg = '[%s]: %s' % (self, msg)\n",
    "            sys.stdout.write('\\r ' + fmsg)\n",
    "            sys.stdout.flush()\n"
   ]
  },
  {
   "cell_type": "code",
   "execution_count": 97,
   "id": "e8bf2f6e-04ea-48d6-8f5f-96df07f33713",
   "metadata": {},
   "outputs": [],
   "source": [
    "try:\n",
    "    chip_ids = dgd.chip_id.values.copy()\n",
    "    geometries = dgd.geometry.values.copy()\n",
    "    del (dgd)\n",
    "except:\n",
    "    pass"
   ]
  },
  {
   "cell_type": "code",
   "execution_count": 98,
   "id": "55ef11df-a97a-4102-8b7a-1a4568267fbd",
   "metadata": {},
   "outputs": [
    {
     "name": "stdout",
     "output_type": "stream",
     "text": [
      " [mParallel(n_jobs=20)]: Done 93363 out of 93363 | elapsed:  4.2min finishedSetting batch_size=8."
     ]
    }
   ],
   "source": [
    "r = mParallel(n_jobs=20, verbose=30)(delayed(process_chipid)(c,g) for c, g in zip(chip_ids, geometries))"
   ]
  },
  {
   "cell_type": "code",
   "execution_count": null,
   "id": "2e56a91a-17f5-48ca-a414-a452cef28159",
   "metadata": {},
   "outputs": [],
   "source": []
  },
  {
   "cell_type": "code",
   "execution_count": null,
   "id": "062561d1-e036-4329-8e23-2c1e322e4407",
   "metadata": {},
   "outputs": [],
   "source": []
  },
  {
   "cell_type": "code",
   "execution_count": null,
   "id": "8e7c4628-6f54-4b1b-8473-9b73be7ff0f4",
   "metadata": {},
   "outputs": [],
   "source": []
  },
  {
   "cell_type": "code",
   "execution_count": null,
   "id": "5de9e35d-a513-4b45-8285-b0a1c23839eb",
   "metadata": {},
   "outputs": [],
   "source": []
  },
  {
   "cell_type": "code",
   "execution_count": 101,
   "id": "a4a9e48e-71d5-4645-a57d-8e7f26189cd3",
   "metadata": {},
   "outputs": [],
   "source": [
    "def process_chipid(chip_id, geometry):\n",
    "    fname = f\"/opt/data/california-worldcover-chips/osm/{chip_id}.parquet\"\n",
    "    z = gpd.read_parquet(fname)\n",
    "    if len(z)==0:\n",
    "        return \"no_geoms\"\n",
    "    z['tags'] = [{k:v for k,v in t.items() if v is not None} for t in z.tags]\n",
    "    z['tags'] = [osm.clean_tags(t) for t in z.tags]\n",
    "    z = z[[len(t)>0 for t in z.tags]]\n",
    "    \n",
    "    if len(z)==0:\n",
    "        if os.path.isfile(fname):\n",
    "            os.remove(fname)\n",
    "        return \"no_tags\"\n",
    "\n",
    "    g = geometry\n",
    "    z['stags'] = [osm.tags2str(t) for t in z.tags]\n",
    "\n",
    "    # dictionaries in parquet seem to be scrambled\n",
    "    # when loading do z['tags'] = [eval(t) for t in z.tags]\n",
    "    z['tags'] = [str(t) for t in z.tags]\n",
    "    z['chip_id'] = chip_id\n",
    "\n",
    "    zi = z[[i.intersects(g) for i in z.geometry]]\n",
    "\n",
    "    \n",
    "    zi['geometry'] = [i.intersection(g) for i in zi.geometry]\n",
    "    zic = zi.to_crs(osm.epsg_california)\n",
    "    zi['area'] = [g.area for g in zic.geometry]\n",
    "    zi['length'] = [g.length for g in zic.geometry]\n",
    "    zi.to_parquet(fname)\n",
    "    return \"ok\""
   ]
  },
  {
   "cell_type": "code",
   "execution_count": null,
   "id": "c27a14d6-45da-4d47-8f0e-0f1b5aec292c",
   "metadata": {},
   "outputs": [],
   "source": [
    "20bf05e790bfd"
   ]
  },
  {
   "cell_type": "code",
   "execution_count": null,
   "id": "08cf124b-ad72-4342-9e5a-04b476b941d1",
   "metadata": {},
   "outputs": [],
   "source": []
  },
  {
   "cell_type": "code",
   "execution_count": 84,
   "id": "777157b1-ad61-4798-be50-140e845f7a24",
   "metadata": {},
   "outputs": [
    {
     "data": {
      "text/plain": [
       "<module 'osm.osm' from '/home/ubuntu/earth-text/notebooks/osm/../../src/earthtext/osm/osm.py'>"
      ]
     },
     "execution_count": 84,
     "metadata": {},
     "output_type": "execute_result"
    }
   ],
   "source": [
    "reload(osm)"
   ]
  },
  {
   "cell_type": "code",
   "execution_count": 108,
   "id": "9c38a1b4-6500-4065-9533-4f28ea48f168",
   "metadata": {},
   "outputs": [],
   "source": [
    "chip_id = '3532a7debbf63'\n",
    "geom = [geometries[i] for i in range(len(geometries)) if chip_ids[i]==chip_id][0]\n"
   ]
  },
  {
   "cell_type": "code",
   "execution_count": 109,
   "id": "063f8f05-0369-44e4-a171-0608d7679695",
   "metadata": {},
   "outputs": [
    {
     "ename": "FileNotFoundError",
     "evalue": "/opt/data/california-worldcover-chips/osm/3532a7debbf63.parquet",
     "output_type": "error",
     "traceback": [
      "\u001b[0;31m---------------------------------------------------------------------------\u001b[0m",
      "\u001b[0;31mFileNotFoundError\u001b[0m                         Traceback (most recent call last)",
      "Cell \u001b[0;32mIn[109], line 1\u001b[0m\n\u001b[0;32m----> 1\u001b[0m \u001b[43mprocess_chipid\u001b[49m\u001b[43m(\u001b[49m\u001b[43mchip_id\u001b[49m\u001b[43m,\u001b[49m\u001b[43m \u001b[49m\u001b[43mgeom\u001b[49m\u001b[43m)\u001b[49m\n",
      "Cell \u001b[0;32mIn[101], line 3\u001b[0m, in \u001b[0;36mprocess_chipid\u001b[0;34m(chip_id, geometry)\u001b[0m\n\u001b[1;32m      1\u001b[0m \u001b[38;5;28;01mdef\u001b[39;00m \u001b[38;5;21mprocess_chipid\u001b[39m(chip_id, geometry):\n\u001b[1;32m      2\u001b[0m     fname \u001b[38;5;241m=\u001b[39m \u001b[38;5;124mf\u001b[39m\u001b[38;5;124m\"\u001b[39m\u001b[38;5;124m/opt/data/california-worldcover-chips/osm/\u001b[39m\u001b[38;5;132;01m{\u001b[39;00mchip_id\u001b[38;5;132;01m}\u001b[39;00m\u001b[38;5;124m.parquet\u001b[39m\u001b[38;5;124m\"\u001b[39m\n\u001b[0;32m----> 3\u001b[0m     z \u001b[38;5;241m=\u001b[39m \u001b[43mgpd\u001b[49m\u001b[38;5;241;43m.\u001b[39;49m\u001b[43mread_parquet\u001b[49m\u001b[43m(\u001b[49m\u001b[43mfname\u001b[49m\u001b[43m)\u001b[49m\n\u001b[1;32m      4\u001b[0m     \u001b[38;5;28;01mif\u001b[39;00m \u001b[38;5;28mlen\u001b[39m(z)\u001b[38;5;241m==\u001b[39m\u001b[38;5;241m0\u001b[39m:\n\u001b[1;32m      5\u001b[0m         \u001b[38;5;28;01mreturn\u001b[39;00m \u001b[38;5;124m\"\u001b[39m\u001b[38;5;124mno_geoms\u001b[39m\u001b[38;5;124m\"\u001b[39m\n",
      "File \u001b[0;32m/opt/conda/envs/earth-text-env/lib/python3.12/site-packages/geopandas/io/arrow.py:604\u001b[0m, in \u001b[0;36m_read_parquet\u001b[0;34m(path, columns, storage_options, **kwargs)\u001b[0m\n\u001b[1;32m    602\u001b[0m path \u001b[38;5;241m=\u001b[39m _expand_user(path)\n\u001b[1;32m    603\u001b[0m kwargs[\u001b[38;5;124m\"\u001b[39m\u001b[38;5;124muse_pandas_metadata\u001b[39m\u001b[38;5;124m\"\u001b[39m] \u001b[38;5;241m=\u001b[39m \u001b[38;5;28;01mTrue\u001b[39;00m\n\u001b[0;32m--> 604\u001b[0m table \u001b[38;5;241m=\u001b[39m \u001b[43mparquet\u001b[49m\u001b[38;5;241;43m.\u001b[39;49m\u001b[43mread_table\u001b[49m\u001b[43m(\u001b[49m\u001b[43mpath\u001b[49m\u001b[43m,\u001b[49m\u001b[43m \u001b[49m\u001b[43mcolumns\u001b[49m\u001b[38;5;241;43m=\u001b[39;49m\u001b[43mcolumns\u001b[49m\u001b[43m,\u001b[49m\u001b[43m \u001b[49m\u001b[43mfilesystem\u001b[49m\u001b[38;5;241;43m=\u001b[39;49m\u001b[43mfilesystem\u001b[49m\u001b[43m,\u001b[49m\u001b[43m \u001b[49m\u001b[38;5;241;43m*\u001b[39;49m\u001b[38;5;241;43m*\u001b[39;49m\u001b[43mkwargs\u001b[49m\u001b[43m)\u001b[49m\n\u001b[1;32m    606\u001b[0m \u001b[38;5;66;03m# read metadata separately to get the raw Parquet FileMetaData metadata\u001b[39;00m\n\u001b[1;32m    607\u001b[0m \u001b[38;5;66;03m# (pyarrow doesn't properly exposes those in schema.metadata for files\u001b[39;00m\n\u001b[1;32m    608\u001b[0m \u001b[38;5;66;03m# created by GDAL - https://issues.apache.org/jira/browse/ARROW-16688)\u001b[39;00m\n\u001b[1;32m    609\u001b[0m metadata \u001b[38;5;241m=\u001b[39m \u001b[38;5;28;01mNone\u001b[39;00m\n",
      "File \u001b[0;32m/opt/conda/envs/earth-text-env/lib/python3.12/site-packages/pyarrow/parquet/core.py:1776\u001b[0m, in \u001b[0;36mread_table\u001b[0;34m(source, columns, use_threads, schema, use_pandas_metadata, read_dictionary, memory_map, buffer_size, partitioning, filesystem, filters, use_legacy_dataset, ignore_prefixes, pre_buffer, coerce_int96_timestamp_unit, decryption_properties, thrift_string_size_limit, thrift_container_size_limit, page_checksum_verification)\u001b[0m\n\u001b[1;32m   1770\u001b[0m     warnings\u001b[38;5;241m.\u001b[39mwarn(\n\u001b[1;32m   1771\u001b[0m         \u001b[38;5;124m\"\u001b[39m\u001b[38;5;124mPassing \u001b[39m\u001b[38;5;124m'\u001b[39m\u001b[38;5;124muse_legacy_dataset\u001b[39m\u001b[38;5;124m'\u001b[39m\u001b[38;5;124m is deprecated as of pyarrow 15.0.0 \u001b[39m\u001b[38;5;124m\"\u001b[39m\n\u001b[1;32m   1772\u001b[0m         \u001b[38;5;124m\"\u001b[39m\u001b[38;5;124mand will be removed in a future version.\u001b[39m\u001b[38;5;124m\"\u001b[39m,\n\u001b[1;32m   1773\u001b[0m         \u001b[38;5;167;01mFutureWarning\u001b[39;00m, stacklevel\u001b[38;5;241m=\u001b[39m\u001b[38;5;241m2\u001b[39m)\n\u001b[1;32m   1775\u001b[0m \u001b[38;5;28;01mtry\u001b[39;00m:\n\u001b[0;32m-> 1776\u001b[0m     dataset \u001b[38;5;241m=\u001b[39m \u001b[43mParquetDataset\u001b[49m\u001b[43m(\u001b[49m\n\u001b[1;32m   1777\u001b[0m \u001b[43m        \u001b[49m\u001b[43msource\u001b[49m\u001b[43m,\u001b[49m\n\u001b[1;32m   1778\u001b[0m \u001b[43m        \u001b[49m\u001b[43mschema\u001b[49m\u001b[38;5;241;43m=\u001b[39;49m\u001b[43mschema\u001b[49m\u001b[43m,\u001b[49m\n\u001b[1;32m   1779\u001b[0m \u001b[43m        \u001b[49m\u001b[43mfilesystem\u001b[49m\u001b[38;5;241;43m=\u001b[39;49m\u001b[43mfilesystem\u001b[49m\u001b[43m,\u001b[49m\n\u001b[1;32m   1780\u001b[0m \u001b[43m        \u001b[49m\u001b[43mpartitioning\u001b[49m\u001b[38;5;241;43m=\u001b[39;49m\u001b[43mpartitioning\u001b[49m\u001b[43m,\u001b[49m\n\u001b[1;32m   1781\u001b[0m \u001b[43m        \u001b[49m\u001b[43mmemory_map\u001b[49m\u001b[38;5;241;43m=\u001b[39;49m\u001b[43mmemory_map\u001b[49m\u001b[43m,\u001b[49m\n\u001b[1;32m   1782\u001b[0m \u001b[43m        \u001b[49m\u001b[43mread_dictionary\u001b[49m\u001b[38;5;241;43m=\u001b[39;49m\u001b[43mread_dictionary\u001b[49m\u001b[43m,\u001b[49m\n\u001b[1;32m   1783\u001b[0m \u001b[43m        \u001b[49m\u001b[43mbuffer_size\u001b[49m\u001b[38;5;241;43m=\u001b[39;49m\u001b[43mbuffer_size\u001b[49m\u001b[43m,\u001b[49m\n\u001b[1;32m   1784\u001b[0m \u001b[43m        \u001b[49m\u001b[43mfilters\u001b[49m\u001b[38;5;241;43m=\u001b[39;49m\u001b[43mfilters\u001b[49m\u001b[43m,\u001b[49m\n\u001b[1;32m   1785\u001b[0m \u001b[43m        \u001b[49m\u001b[43mignore_prefixes\u001b[49m\u001b[38;5;241;43m=\u001b[39;49m\u001b[43mignore_prefixes\u001b[49m\u001b[43m,\u001b[49m\n\u001b[1;32m   1786\u001b[0m \u001b[43m        \u001b[49m\u001b[43mpre_buffer\u001b[49m\u001b[38;5;241;43m=\u001b[39;49m\u001b[43mpre_buffer\u001b[49m\u001b[43m,\u001b[49m\n\u001b[1;32m   1787\u001b[0m \u001b[43m        \u001b[49m\u001b[43mcoerce_int96_timestamp_unit\u001b[49m\u001b[38;5;241;43m=\u001b[39;49m\u001b[43mcoerce_int96_timestamp_unit\u001b[49m\u001b[43m,\u001b[49m\n\u001b[1;32m   1788\u001b[0m \u001b[43m        \u001b[49m\u001b[43mthrift_string_size_limit\u001b[49m\u001b[38;5;241;43m=\u001b[39;49m\u001b[43mthrift_string_size_limit\u001b[49m\u001b[43m,\u001b[49m\n\u001b[1;32m   1789\u001b[0m \u001b[43m        \u001b[49m\u001b[43mthrift_container_size_limit\u001b[49m\u001b[38;5;241;43m=\u001b[39;49m\u001b[43mthrift_container_size_limit\u001b[49m\u001b[43m,\u001b[49m\n\u001b[1;32m   1790\u001b[0m \u001b[43m        \u001b[49m\u001b[43mpage_checksum_verification\u001b[49m\u001b[38;5;241;43m=\u001b[39;49m\u001b[43mpage_checksum_verification\u001b[49m\u001b[43m,\u001b[49m\n\u001b[1;32m   1791\u001b[0m \u001b[43m    \u001b[49m\u001b[43m)\u001b[49m\n\u001b[1;32m   1792\u001b[0m \u001b[38;5;28;01mexcept\u001b[39;00m \u001b[38;5;167;01mImportError\u001b[39;00m:\n\u001b[1;32m   1793\u001b[0m     \u001b[38;5;66;03m# fall back on ParquetFile for simple cases when pyarrow.dataset\u001b[39;00m\n\u001b[1;32m   1794\u001b[0m     \u001b[38;5;66;03m# module is not available\u001b[39;00m\n\u001b[1;32m   1795\u001b[0m     \u001b[38;5;28;01mif\u001b[39;00m filters \u001b[38;5;129;01mis\u001b[39;00m \u001b[38;5;129;01mnot\u001b[39;00m \u001b[38;5;28;01mNone\u001b[39;00m:\n",
      "File \u001b[0;32m/opt/conda/envs/earth-text-env/lib/python3.12/site-packages/pyarrow/parquet/core.py:1354\u001b[0m, in \u001b[0;36mParquetDataset.__init__\u001b[0;34m(self, path_or_paths, filesystem, schema, filters, read_dictionary, memory_map, buffer_size, partitioning, ignore_prefixes, pre_buffer, coerce_int96_timestamp_unit, decryption_properties, thrift_string_size_limit, thrift_container_size_limit, page_checksum_verification, use_legacy_dataset)\u001b[0m\n\u001b[1;32m   1350\u001b[0m \u001b[38;5;28;01mif\u001b[39;00m partitioning \u001b[38;5;241m==\u001b[39m \u001b[38;5;124m\"\u001b[39m\u001b[38;5;124mhive\u001b[39m\u001b[38;5;124m\"\u001b[39m:\n\u001b[1;32m   1351\u001b[0m     partitioning \u001b[38;5;241m=\u001b[39m ds\u001b[38;5;241m.\u001b[39mHivePartitioning\u001b[38;5;241m.\u001b[39mdiscover(\n\u001b[1;32m   1352\u001b[0m         infer_dictionary\u001b[38;5;241m=\u001b[39m\u001b[38;5;28;01mTrue\u001b[39;00m)\n\u001b[0;32m-> 1354\u001b[0m \u001b[38;5;28mself\u001b[39m\u001b[38;5;241m.\u001b[39m_dataset \u001b[38;5;241m=\u001b[39m \u001b[43mds\u001b[49m\u001b[38;5;241;43m.\u001b[39;49m\u001b[43mdataset\u001b[49m\u001b[43m(\u001b[49m\u001b[43mpath_or_paths\u001b[49m\u001b[43m,\u001b[49m\u001b[43m \u001b[49m\u001b[43mfilesystem\u001b[49m\u001b[38;5;241;43m=\u001b[39;49m\u001b[43mfilesystem\u001b[49m\u001b[43m,\u001b[49m\n\u001b[1;32m   1355\u001b[0m \u001b[43m                           \u001b[49m\u001b[43mschema\u001b[49m\u001b[38;5;241;43m=\u001b[39;49m\u001b[43mschema\u001b[49m\u001b[43m,\u001b[49m\u001b[43m \u001b[49m\u001b[38;5;28;43mformat\u001b[39;49m\u001b[38;5;241;43m=\u001b[39;49m\u001b[43mparquet_format\u001b[49m\u001b[43m,\u001b[49m\n\u001b[1;32m   1356\u001b[0m \u001b[43m                           \u001b[49m\u001b[43mpartitioning\u001b[49m\u001b[38;5;241;43m=\u001b[39;49m\u001b[43mpartitioning\u001b[49m\u001b[43m,\u001b[49m\n\u001b[1;32m   1357\u001b[0m \u001b[43m                           \u001b[49m\u001b[43mignore_prefixes\u001b[49m\u001b[38;5;241;43m=\u001b[39;49m\u001b[43mignore_prefixes\u001b[49m\u001b[43m)\u001b[49m\n",
      "File \u001b[0;32m/opt/conda/envs/earth-text-env/lib/python3.12/site-packages/pyarrow/dataset.py:782\u001b[0m, in \u001b[0;36mdataset\u001b[0;34m(source, schema, format, filesystem, partitioning, partition_base_dir, exclude_invalid_files, ignore_prefixes)\u001b[0m\n\u001b[1;32m    771\u001b[0m kwargs \u001b[38;5;241m=\u001b[39m \u001b[38;5;28mdict\u001b[39m(\n\u001b[1;32m    772\u001b[0m     schema\u001b[38;5;241m=\u001b[39mschema,\n\u001b[1;32m    773\u001b[0m     filesystem\u001b[38;5;241m=\u001b[39mfilesystem,\n\u001b[0;32m   (...)\u001b[0m\n\u001b[1;32m    778\u001b[0m     selector_ignore_prefixes\u001b[38;5;241m=\u001b[39mignore_prefixes\n\u001b[1;32m    779\u001b[0m )\n\u001b[1;32m    781\u001b[0m \u001b[38;5;28;01mif\u001b[39;00m _is_path_like(source):\n\u001b[0;32m--> 782\u001b[0m     \u001b[38;5;28;01mreturn\u001b[39;00m \u001b[43m_filesystem_dataset\u001b[49m\u001b[43m(\u001b[49m\u001b[43msource\u001b[49m\u001b[43m,\u001b[49m\u001b[43m \u001b[49m\u001b[38;5;241;43m*\u001b[39;49m\u001b[38;5;241;43m*\u001b[39;49m\u001b[43mkwargs\u001b[49m\u001b[43m)\u001b[49m\n\u001b[1;32m    783\u001b[0m \u001b[38;5;28;01melif\u001b[39;00m \u001b[38;5;28misinstance\u001b[39m(source, (\u001b[38;5;28mtuple\u001b[39m, \u001b[38;5;28mlist\u001b[39m)):\n\u001b[1;32m    784\u001b[0m     \u001b[38;5;28;01mif\u001b[39;00m \u001b[38;5;28mall\u001b[39m(_is_path_like(elem) \u001b[38;5;28;01mfor\u001b[39;00m elem \u001b[38;5;129;01min\u001b[39;00m source):\n",
      "File \u001b[0;32m/opt/conda/envs/earth-text-env/lib/python3.12/site-packages/pyarrow/dataset.py:465\u001b[0m, in \u001b[0;36m_filesystem_dataset\u001b[0;34m(source, schema, filesystem, partitioning, format, partition_base_dir, exclude_invalid_files, selector_ignore_prefixes)\u001b[0m\n\u001b[1;32m    463\u001b[0m     fs, paths_or_selector \u001b[38;5;241m=\u001b[39m _ensure_multiple_sources(source, filesystem)\n\u001b[1;32m    464\u001b[0m \u001b[38;5;28;01melse\u001b[39;00m:\n\u001b[0;32m--> 465\u001b[0m     fs, paths_or_selector \u001b[38;5;241m=\u001b[39m \u001b[43m_ensure_single_source\u001b[49m\u001b[43m(\u001b[49m\u001b[43msource\u001b[49m\u001b[43m,\u001b[49m\u001b[43m \u001b[49m\u001b[43mfilesystem\u001b[49m\u001b[43m)\u001b[49m\n\u001b[1;32m    467\u001b[0m options \u001b[38;5;241m=\u001b[39m FileSystemFactoryOptions(\n\u001b[1;32m    468\u001b[0m     partitioning\u001b[38;5;241m=\u001b[39mpartitioning,\n\u001b[1;32m    469\u001b[0m     partition_base_dir\u001b[38;5;241m=\u001b[39mpartition_base_dir,\n\u001b[1;32m    470\u001b[0m     exclude_invalid_files\u001b[38;5;241m=\u001b[39mexclude_invalid_files,\n\u001b[1;32m    471\u001b[0m     selector_ignore_prefixes\u001b[38;5;241m=\u001b[39mselector_ignore_prefixes\n\u001b[1;32m    472\u001b[0m )\n\u001b[1;32m    473\u001b[0m factory \u001b[38;5;241m=\u001b[39m FileSystemDatasetFactory(fs, paths_or_selector, \u001b[38;5;28mformat\u001b[39m, options)\n",
      "File \u001b[0;32m/opt/conda/envs/earth-text-env/lib/python3.12/site-packages/pyarrow/dataset.py:441\u001b[0m, in \u001b[0;36m_ensure_single_source\u001b[0;34m(path, filesystem)\u001b[0m\n\u001b[1;32m    439\u001b[0m     paths_or_selector \u001b[38;5;241m=\u001b[39m [path]\n\u001b[1;32m    440\u001b[0m \u001b[38;5;28;01melse\u001b[39;00m:\n\u001b[0;32m--> 441\u001b[0m     \u001b[38;5;28;01mraise\u001b[39;00m \u001b[38;5;167;01mFileNotFoundError\u001b[39;00m(path)\n\u001b[1;32m    443\u001b[0m \u001b[38;5;28;01mreturn\u001b[39;00m filesystem, paths_or_selector\n",
      "\u001b[0;31mFileNotFoundError\u001b[0m: /opt/data/california-worldcover-chips/osm/3532a7debbf63.parquet"
     ]
    }
   ],
   "source": [
    "process_chipid(chip_id, geom)"
   ]
  },
  {
   "cell_type": "code",
   "execution_count": 87,
   "id": "aa8702ac-00ab-458f-852b-b49363b34bda",
   "metadata": {},
   "outputs": [],
   "source": [
    "fname = '/opt/data/california-worldcover-chips/osm/33c66a6cd3ee7.parquet'"
   ]
  },
  {
   "cell_type": "code",
   "execution_count": 67,
   "id": "6616762b-847b-4bc9-b931-7bd9adc78174",
   "metadata": {},
   "outputs": [],
   "source": [
    "!rm $fname"
   ]
  },
  {
   "cell_type": "code",
   "execution_count": 89,
   "id": "8fe68296-b696-48bf-b1c5-8ddae68f8c56",
   "metadata": {},
   "outputs": [
    {
     "data": {
      "text/html": [
       "<div>\n",
       "<style scoped>\n",
       "    .dataframe tbody tr th:only-of-type {\n",
       "        vertical-align: middle;\n",
       "    }\n",
       "\n",
       "    .dataframe tbody tr th {\n",
       "        vertical-align: top;\n",
       "    }\n",
       "\n",
       "    .dataframe thead th {\n",
       "        text-align: right;\n",
       "    }\n",
       "</style>\n",
       "<table border=\"1\" class=\"dataframe\">\n",
       "  <thead>\n",
       "    <tr style=\"text-align: right;\">\n",
       "      <th></th>\n",
       "      <th>tags</th>\n",
       "      <th>geometry</th>\n",
       "      <th>kind</th>\n",
       "      <th>length</th>\n",
       "      <th>area</th>\n",
       "      <th>stags</th>\n",
       "      <th>chip_id</th>\n",
       "    </tr>\n",
       "  </thead>\n",
       "  <tbody>\n",
       "    <tr>\n",
       "      <th>7226761673</th>\n",
       "      <td>{'barrier': 'gate'}</td>\n",
       "      <td>POINT (-120.50629 37.36087)</td>\n",
       "      <td>node</td>\n",
       "      <td>0.0</td>\n",
       "      <td>0.0</td>\n",
       "      <td>barrier: gate</td>\n",
       "      <td>33c66a6cd3ee7</td>\n",
       "    </tr>\n",
       "    <tr>\n",
       "      <th>7401789632</th>\n",
       "      <td>{'barrier': 'gate'}</td>\n",
       "      <td>POINT (-120.50379 37.35729)</td>\n",
       "      <td>node</td>\n",
       "      <td>0.0</td>\n",
       "      <td>0.0</td>\n",
       "      <td>barrier: gate</td>\n",
       "      <td>33c66a6cd3ee7</td>\n",
       "    </tr>\n",
       "    <tr>\n",
       "      <th>8047894562</th>\n",
       "      <td>{'barrier': 'gate'}</td>\n",
       "      <td>POINT (-120.50459 37.35693)</td>\n",
       "      <td>node</td>\n",
       "      <td>0.0</td>\n",
       "      <td>0.0</td>\n",
       "      <td>barrier: gate</td>\n",
       "      <td>33c66a6cd3ee7</td>\n",
       "    </tr>\n",
       "    <tr>\n",
       "      <th>8272942981</th>\n",
       "      <td>{'barrier': 'gate'}</td>\n",
       "      <td>POINT (-120.49887 37.36562)</td>\n",
       "      <td>node</td>\n",
       "      <td>0.0</td>\n",
       "      <td>0.0</td>\n",
       "      <td>barrier: gate</td>\n",
       "      <td>33c66a6cd3ee7</td>\n",
       "    </tr>\n",
       "    <tr>\n",
       "      <th>8272942989</th>\n",
       "      <td>{'barrier': 'gate'}</td>\n",
       "      <td>POINT (-120.49886 37.36476)</td>\n",
       "      <td>node</td>\n",
       "      <td>0.0</td>\n",
       "      <td>0.0</td>\n",
       "      <td>barrier: gate</td>\n",
       "      <td>33c66a6cd3ee7</td>\n",
       "    </tr>\n",
       "  </tbody>\n",
       "</table>\n",
       "</div>"
      ],
      "text/plain": [
       "                           tags                     geometry  kind  length  \\\n",
       "7226761673  {'barrier': 'gate'}  POINT (-120.50629 37.36087)  node     0.0   \n",
       "7401789632  {'barrier': 'gate'}  POINT (-120.50379 37.35729)  node     0.0   \n",
       "8047894562  {'barrier': 'gate'}  POINT (-120.50459 37.35693)  node     0.0   \n",
       "8272942981  {'barrier': 'gate'}  POINT (-120.49887 37.36562)  node     0.0   \n",
       "8272942989  {'barrier': 'gate'}  POINT (-120.49886 37.36476)  node     0.0   \n",
       "\n",
       "            area          stags        chip_id  \n",
       "7226761673   0.0  barrier: gate  33c66a6cd3ee7  \n",
       "7401789632   0.0  barrier: gate  33c66a6cd3ee7  \n",
       "8047894562   0.0  barrier: gate  33c66a6cd3ee7  \n",
       "8272942981   0.0  barrier: gate  33c66a6cd3ee7  \n",
       "8272942989   0.0  barrier: gate  33c66a6cd3ee7  "
      ]
     },
     "execution_count": 89,
     "metadata": {},
     "output_type": "execute_result"
    }
   ],
   "source": [
    "z = gpd.read_parquet(fname)\n",
    "z['tags'] = [eval(t) for t in z.tags]\n",
    "z.head()"
   ]
  },
  {
   "cell_type": "code",
   "execution_count": 92,
   "id": "f5a093ed-b095-4a3a-a463-8ffa7ae8a176",
   "metadata": {},
   "outputs": [
    {
     "data": {
      "text/plain": [
       "'gate'"
      ]
     },
     "execution_count": 92,
     "metadata": {},
     "output_type": "execute_result"
    }
   ],
   "source": [
    "z.tags.values[0]['barrier']"
   ]
  },
  {
   "cell_type": "code",
   "execution_count": null,
   "id": "94ca14bf-63a3-4692-b666-b4907fe20a22",
   "metadata": {},
   "outputs": [],
   "source": []
  }
 ],
 "metadata": {
  "kernelspec": {
   "display_name": "earth-text-env",
   "language": "python",
   "name": "earth-text-env"
  },
  "language_info": {
   "codemirror_mode": {
    "name": "ipython",
    "version": 3
   },
   "file_extension": ".py",
   "mimetype": "text/x-python",
   "name": "python",
   "nbconvert_exporter": "python",
   "pygments_lexer": "ipython3",
   "version": "3.12.2"
  }
 },
 "nbformat": 4,
 "nbformat_minor": 5
}
