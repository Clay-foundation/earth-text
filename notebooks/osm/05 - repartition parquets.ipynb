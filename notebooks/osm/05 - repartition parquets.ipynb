{
 "cells": [
  {
   "cell_type": "code",
   "execution_count": null,
   "id": "d861a45b-e6ef-4e71-9757-b30f8f4f5706",
   "metadata": {},
   "outputs": [],
   "source": [
    "import sys\n",
    "sys.path.append(\"../../src/earthtext\")\n",
    "\n",
    "from osm import osm\n",
    "import os\n",
    "from progressbar import progressbar as pbar\n",
    "import shapely as sh \n",
    "from pyproj import CRS\n",
    "import numpy as np\n",
    "epsg4326 = CRS.from_epsg(4326)\n",
    "import geopandas as gpd\n",
    "import pandas as pd\n",
    "from importlib import reload\n",
    "from rlxutils import Command\n",
    "import rlxutils\n",
    "reload(osm)"
   ]
  },
  {
   "cell_type": "code",
   "execution_count": 2,
   "id": "02ca16c7-aba5-434f-9eec-143e7d399a24",
   "metadata": {},
   "outputs": [],
   "source": [
    "orig_partsdir = \"/opt/data/osm/california-parts/\"\n",
    "dest_partsdir = \"/opt/data/california-worldcover-chips/osm\"\n",
    "os.makedirs(dest_partsdir, exist_ok=True)\n",
    "chip_ids_pbf = [i.split(\".\")[0] for i in os.listdir(orig_partsdir) if i.endswith(\".pbf\")]\n",
    "chip_ids_geojson = [i.split(\".\")[0] for i in os.listdir(orig_partsdir) if i.endswith(\".geojson\")]\n",
    "\n",
    "if len(set(chip_ids_pbf).intersection(set(chip_ids_geojson)))!=len(chip_ids_pbf)!=len(chip_ids_geojson):\n",
    "    raise ValueError(\"missing chips in geojson o pbf\")"
   ]
  },
  {
   "cell_type": "code",
   "execution_count": 3,
   "id": "09f10afe-2c07-41f5-9095-804eb200f490",
   "metadata": {},
   "outputs": [],
   "source": [
    "# load geojson"
   ]
  },
  {
   "cell_type": "code",
   "execution_count": 4,
   "id": "5315c133-83a8-4291-bc89-adbb3092bdf2",
   "metadata": {},
   "outputs": [],
   "source": [
    "orig_grid = []\n",
    "for chip_id in chip_ids_geojson:\n",
    "    with open(f\"{orig_partsdir}/{chip_id}.geojson\") as f:\n",
    "        orig_grid.append([chip_id, sh.from_geojson(f.read())])\n",
    "\n",
    "orig_grid = gpd.GeoDataFrame(pd.DataFrame(orig_grid, columns=['chip_id', 'geometry']), crs=epsg4326)"
   ]
  },
  {
   "cell_type": "code",
   "execution_count": 5,
   "id": "e30b8d65-37c9-4be8-b211-5d2681aa54ec",
   "metadata": {},
   "outputs": [
    {
     "data": {
      "text/html": [
       "<div>\n",
       "<style scoped>\n",
       "    .dataframe tbody tr th:only-of-type {\n",
       "        vertical-align: middle;\n",
       "    }\n",
       "\n",
       "    .dataframe tbody tr th {\n",
       "        vertical-align: top;\n",
       "    }\n",
       "\n",
       "    .dataframe thead th {\n",
       "        text-align: right;\n",
       "    }\n",
       "</style>\n",
       "<table border=\"1\" class=\"dataframe\">\n",
       "  <thead>\n",
       "    <tr style=\"text-align: right;\">\n",
       "      <th></th>\n",
       "      <th>chip_id</th>\n",
       "      <th>geometry</th>\n",
       "    </tr>\n",
       "  </thead>\n",
       "  <tbody>\n",
       "    <tr>\n",
       "      <th>0</th>\n",
       "      <td>000235e893b24</td>\n",
       "      <td>POLYGON ((-121.87715 39.14450, -121.65850 39.1...</td>\n",
       "    </tr>\n",
       "    <tr>\n",
       "      <th>1</th>\n",
       "      <td>0002c308d55fc</td>\n",
       "      <td>POLYGON ((-114.92112 35.05498, -114.92112 35.2...</td>\n",
       "    </tr>\n",
       "    <tr>\n",
       "      <th>2</th>\n",
       "      <td>0018e8bbce095</td>\n",
       "      <td>POLYGON ((-120.25595 36.95832, -120.55074 36.9...</td>\n",
       "    </tr>\n",
       "    <tr>\n",
       "      <th>3</th>\n",
       "      <td>003fa84955512</td>\n",
       "      <td>POLYGON ((-119.13010 35.78528, -119.40375 35.7...</td>\n",
       "    </tr>\n",
       "    <tr>\n",
       "      <th>4</th>\n",
       "      <td>004aaa9df44f2</td>\n",
       "      <td>POLYGON ((-124.14191 40.08352, -124.24849 40.0...</td>\n",
       "    </tr>\n",
       "  </tbody>\n",
       "</table>\n",
       "</div>"
      ],
      "text/plain": [
       "         chip_id                                           geometry\n",
       "0  000235e893b24  POLYGON ((-121.87715 39.14450, -121.65850 39.1...\n",
       "1  0002c308d55fc  POLYGON ((-114.92112 35.05498, -114.92112 35.2...\n",
       "2  0018e8bbce095  POLYGON ((-120.25595 36.95832, -120.55074 36.9...\n",
       "3  003fa84955512  POLYGON ((-119.13010 35.78528, -119.40375 35.7...\n",
       "4  004aaa9df44f2  POLYGON ((-124.14191 40.08352, -124.24849 40.0..."
      ]
     },
     "execution_count": 5,
     "metadata": {},
     "output_type": "execute_result"
    }
   ],
   "source": [
    "orig_grid.head()"
   ]
  },
  {
   "cell_type": "code",
   "execution_count": 6,
   "id": "b91faece-a4b1-4261-bff3-b139a0e3dc04",
   "metadata": {},
   "outputs": [
    {
     "data": {
      "text/html": [
       "<div>\n",
       "<style scoped>\n",
       "    .dataframe tbody tr th:only-of-type {\n",
       "        vertical-align: middle;\n",
       "    }\n",
       "\n",
       "    .dataframe tbody tr th {\n",
       "        vertical-align: top;\n",
       "    }\n",
       "\n",
       "    .dataframe thead th {\n",
       "        text-align: right;\n",
       "    }\n",
       "</style>\n",
       "<table border=\"1\" class=\"dataframe\">\n",
       "  <thead>\n",
       "    <tr style=\"text-align: right;\">\n",
       "      <th></th>\n",
       "      <th>col</th>\n",
       "      <th>row</th>\n",
       "      <th>geometry</th>\n",
       "    </tr>\n",
       "  </thead>\n",
       "  <tbody>\n",
       "    <tr>\n",
       "      <th>0</th>\n",
       "      <td>131584</td>\n",
       "      <td>119552</td>\n",
       "      <td>POLYGON ((-114.01333 32.01600, -114.01333 32.0...</td>\n",
       "    </tr>\n",
       "    <tr>\n",
       "      <th>1</th>\n",
       "      <td>131584</td>\n",
       "      <td>119296</td>\n",
       "      <td>POLYGON ((-114.01333 32.03733, -114.01333 32.0...</td>\n",
       "    </tr>\n",
       "    <tr>\n",
       "      <th>2</th>\n",
       "      <td>131328</td>\n",
       "      <td>119296</td>\n",
       "      <td>POLYGON ((-114.03467 32.03733, -114.03467 32.0...</td>\n",
       "    </tr>\n",
       "    <tr>\n",
       "      <th>3</th>\n",
       "      <td>131328</td>\n",
       "      <td>119552</td>\n",
       "      <td>POLYGON ((-114.03467 32.01600, -114.03467 32.0...</td>\n",
       "    </tr>\n",
       "    <tr>\n",
       "      <th>4</th>\n",
       "      <td>131072</td>\n",
       "      <td>119552</td>\n",
       "      <td>POLYGON ((-114.05600 32.01600, -114.05600 32.0...</td>\n",
       "    </tr>\n",
       "  </tbody>\n",
       "</table>\n",
       "</div>"
      ],
      "text/plain": [
       "      col     row                                           geometry\n",
       "0  131584  119552  POLYGON ((-114.01333 32.01600, -114.01333 32.0...\n",
       "1  131584  119296  POLYGON ((-114.01333 32.03733, -114.01333 32.0...\n",
       "2  131328  119296  POLYGON ((-114.03467 32.03733, -114.03467 32.0...\n",
       "3  131328  119552  POLYGON ((-114.03467 32.01600, -114.03467 32.0...\n",
       "4  131072  119552  POLYGON ((-114.05600 32.01600, -114.05600 32.0..."
      ]
     },
     "execution_count": 6,
     "metadata": {},
     "output_type": "execute_result"
    }
   ],
   "source": [
    "dest_grid = gpd.read_file(\"/opt/data/california-worldcover-chips.fgb\")\n",
    "dest_grid.head()"
   ]
  },
  {
   "cell_type": "code",
   "execution_count": 15,
   "id": "de74714f-a3d6-453a-a6ba-44e284242f85",
   "metadata": {},
   "outputs": [
    {
     "data": {
      "text/plain": [
       "(2, 2)"
      ]
     },
     "execution_count": 15,
     "metadata": {},
     "output_type": "execute_result"
    }
   ],
   "source": [
    "chip_ids = ['0d0d59f364f72', '26017774321e9']\n",
    "_orig_grid = orig_grid[orig_grid.chip_id.isin(chip_ids)]\n",
    "_orig_grid.shape"
   ]
  },
  {
   "cell_type": "code",
   "execution_count": null,
   "id": "c59ec9fe-22ae-4966-ab93-d9e3f3c7984f",
   "metadata": {},
   "outputs": [],
   "source": [
    "c = _orig_grid.geometry.values[1]\n",
    "\n",
    "dg = dest_grid[[i.intersects(c) for i in dest_grid.geometry.values]]\n",
    "pd.concat([dg, _orig_grid]).explore()"
   ]
  },
  {
   "cell_type": "code",
   "execution_count": 16,
   "id": "6480bf84-cc70-4569-8316-34858c1c051e",
   "metadata": {},
   "outputs": [
    {
     "data": {
      "text/html": [
       "<div>\n",
       "<style scoped>\n",
       "    .dataframe tbody tr th:only-of-type {\n",
       "        vertical-align: middle;\n",
       "    }\n",
       "\n",
       "    .dataframe tbody tr th {\n",
       "        vertical-align: top;\n",
       "    }\n",
       "\n",
       "    .dataframe thead th {\n",
       "        text-align: right;\n",
       "    }\n",
       "</style>\n",
       "<table border=\"1\" class=\"dataframe\">\n",
       "  <thead>\n",
       "    <tr style=\"text-align: right;\">\n",
       "      <th></th>\n",
       "      <th>chip_id</th>\n",
       "      <th>geometry</th>\n",
       "    </tr>\n",
       "  </thead>\n",
       "  <tbody>\n",
       "    <tr>\n",
       "      <th>214</th>\n",
       "      <td>0d0d59f364f72</td>\n",
       "      <td>POLYGON ((-122.24843 37.22020, -122.24843 37.3...</td>\n",
       "    </tr>\n",
       "    <tr>\n",
       "      <th>648</th>\n",
       "      <td>26017774321e9</td>\n",
       "      <td>POLYGON ((-121.22865 36.97216, -121.47409 36.9...</td>\n",
       "    </tr>\n",
       "  </tbody>\n",
       "</table>\n",
       "</div>"
      ],
      "text/plain": [
       "           chip_id                                           geometry\n",
       "214  0d0d59f364f72  POLYGON ((-122.24843 37.22020, -122.24843 37.3...\n",
       "648  26017774321e9  POLYGON ((-121.22865 36.97216, -121.47409 36.9..."
      ]
     },
     "execution_count": 16,
     "metadata": {},
     "output_type": "execute_result"
    }
   ],
   "source": [
    "_orig_grid.head()"
   ]
  },
  {
   "cell_type": "code",
   "execution_count": 19,
   "id": "eefee598-e5e6-4a79-a4d2-4a947211eae4",
   "metadata": {},
   "outputs": [
    {
     "name": "stdout",
     "output_type": "stream",
     "text": [
      "0/984 0d0d59f364f72 dest_chips 126\n"
     ]
    },
    {
     "name": "stderr",
     "output_type": "stream",
     "text": [
      "\u001b[38;2;0;255;0m100%\u001b[39m \u001b[38;2;0;255;0m(126 of 126)\u001b[39m |######################| Elapsed Time: 0:00:11 Time:  0:00:110001\n"
     ]
    },
    {
     "name": "stdout",
     "output_type": "stream",
     "text": [
      "1/984 26017774321e9 dest_chips 108\n"
     ]
    },
    {
     "name": "stderr",
     "output_type": "stream",
     "text": [
      "\u001b[38;2;0;255;0m100%\u001b[39m \u001b[38;2;0;255;0m(108 of 108)\u001b[39m |######################| Elapsed Time: 0:00:00 Time:  0:00:000000\n"
     ]
    }
   ],
   "source": [
    "notfound = []\n",
    "for count, (_, orig_row) in enumerate(_orig_grid.iterrows()):\n",
    "    et = rlxutils.ElapsedTimes()\n",
    "    orig_row_geom = orig_row.geometry\n",
    "    dg = dest_grid[[i.intersects(orig_row_geom) for i in dest_grid.geometry.values]]\n",
    "    print (f\"{count}/{len(orig_grid)}\", orig_row.chip_id, 'dest_chips', len(dg), flush=True)\n",
    "\n",
    "    parquets_cache = {}\n",
    "    for _, dest_row in pbar(dg.iterrows(), max_value=len(dg)):\n",
    "        \n",
    "        dest_row_geom = dest_row.geometry\n",
    "        \n",
    "        dest_parquet = f\"{dest_partsdir}/{osm.get_region_hash(dest_row_geom)}.parquet\"\n",
    "        if os.path.isfile(dest_parquet):\n",
    "            continue\n",
    "\n",
    "        with et(\"ogintersect\"):\n",
    "            og = orig_grid[[i.intersects(dest_row_geom) for i in orig_grid.geometry.values]]\n",
    "        \n",
    "        if len(og) == 0:\n",
    "            continue\n",
    "            \n",
    "        dgdata = []\n",
    "        for chip_id in og.chip_id.values:\n",
    "            if chip_id in parquets_cache.keys():\n",
    "                p = parquets_cache[chip_id]\n",
    "            else:\n",
    "                with et(\"read_parquet\"):\n",
    "                    fname = f\"{orig_partsdir}/{chip_id}.parquet\"\n",
    "                    if not os.path.isfile(fname):\n",
    "                        notfound.append(fname)\n",
    "                        continue\n",
    "                    p = gpd.read_parquet(fname)\n",
    "                    parquets_cache[chip_id]=p\n",
    "            \n",
    "            with et(\"dgintersect\"):\n",
    "                p = p[p.intersects(dest_row_geom)]\n",
    "            dgdata.append(p)\n",
    "        if len(dgdata)==0:\n",
    "            continue\n",
    "        dgdata = pd.concat(dgdata)\n",
    "        with et(\"save\"):\n",
    "            dgdata.to_parquet(dest_parquet)\n",
    "    #print(et)"
   ]
  },
  {
   "cell_type": "code",
   "execution_count": 10,
   "id": "ddf7ee7f-6970-4065-bad8-7cd5cdf91b3d",
   "metadata": {},
   "outputs": [
    {
     "data": {
      "text/plain": [
       "154"
      ]
     },
     "execution_count": 10,
     "metadata": {},
     "output_type": "execute_result"
    }
   ],
   "source": [
    "len(notfound)"
   ]
  },
  {
   "cell_type": "code",
   "execution_count": null,
   "id": "edccf45b-6929-407f-8ba7-e6f7e12482eb",
   "metadata": {},
   "outputs": [],
   "source": []
  },
  {
   "cell_type": "code",
   "execution_count": null,
   "id": "c5a915a5-a482-4d6d-9214-6514fec68c2d",
   "metadata": {},
   "outputs": [],
   "source": []
  },
  {
   "cell_type": "code",
   "execution_count": null,
   "id": "f697e406-6c71-46ad-b9cc-970a6047743a",
   "metadata": {},
   "outputs": [],
   "source": []
  },
  {
   "cell_type": "code",
   "execution_count": null,
   "id": "643f335a-e624-43a6-8a92-ff1d03ca8c20",
   "metadata": {},
   "outputs": [],
   "source": []
  }
 ],
 "metadata": {
  "kernelspec": {
   "display_name": "earth-text-env",
   "language": "python",
   "name": "earth-text-env"
  },
  "language_info": {
   "codemirror_mode": {
    "name": "ipython",
    "version": 3
   },
   "file_extension": ".py",
   "mimetype": "text/x-python",
   "name": "python",
   "nbconvert_exporter": "python",
   "pygments_lexer": "ipython3",
   "version": "3.12.2"
  }
 },
 "nbformat": 4,
 "nbformat_minor": 5
}
