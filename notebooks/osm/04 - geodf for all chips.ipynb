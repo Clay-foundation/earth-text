{
 "cells": [
  {
   "cell_type": "code",
   "execution_count": 1,
   "id": "da3e0613-9a01-482b-be87-680cc9aff7ae",
   "metadata": {},
   "outputs": [
    {
     "data": {
      "text/plain": [
       "<module 'osm.osm' from '/home/ubuntu/earth-text/notebooks/osm/../../src/earthtext/osm/osm.py'>"
      ]
     },
     "execution_count": 1,
     "metadata": {},
     "output_type": "execute_result"
    }
   ],
   "source": [
    "import sys\n",
    "sys.path.append(\"../../src/earthtext\")\n",
    "\n",
    "from osm import osm\n",
    "import os\n",
    "from progressbar import progressbar as pbar\n",
    "\n",
    "from importlib import reload\n",
    "reload(osm)\n"
   ]
  },
  {
   "cell_type": "code",
   "execution_count": 2,
   "id": "539b43f2-de7d-4b01-908a-422e25fec57d",
   "metadata": {},
   "outputs": [],
   "source": [
    "chip_ids = [i.split(\".\")[0] for i in os.listdir(\"/opt/data/osm/california-parts/\") if i.endswith(\".pbf\")]\n"
   ]
  },
  {
   "cell_type": "code",
   "execution_count": null,
   "id": "74b35ef9-fa00-47a9-abdd-13e9c9343b39",
   "metadata": {},
   "outputs": [],
   "source": [
    "for chip_id in pbar(chip_ids[77:]):\n",
    "    try:\n",
    "        print (chip_id, flush=True)\n",
    "        h = osm.OSMChipHandler(chips_path = \"/opt/data/osm/california-parts\", chip_id=chip_id, use_progress_bar=True)\n",
    "        h.apply(overwrite=False)\n",
    "    except Exception as e:\n",
    "        print (\"exception\", e)\n",
    "        print (\"----- continuing to next -----\")"
   ]
  },
  {
   "cell_type": "code",
   "execution_count": null,
   "id": "0acd2819-105f-4418-af5e-b2df6671a585",
   "metadata": {},
   "outputs": [],
   "source": [
    "chip_id"
   ]
  },
  {
   "cell_type": "code",
   "execution_count": null,
   "id": "7aa239be-7ac8-4d98-9cfe-78c90b394824",
   "metadata": {},
   "outputs": [],
   "source": []
  }
 ],
 "metadata": {
  "kernelspec": {
   "display_name": "earth-text-env",
   "language": "python",
   "name": "earth-text-env"
  },
  "language_info": {
   "codemirror_mode": {
    "name": "ipython",
    "version": 3
   },
   "file_extension": ".py",
   "mimetype": "text/x-python",
   "name": "python",
   "nbconvert_exporter": "python",
   "pygments_lexer": "ipython3",
   "version": "3.12.2"
  }
 },
 "nbformat": 4,
 "nbformat_minor": 5
}
