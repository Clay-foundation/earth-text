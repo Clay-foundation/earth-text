{
 "cells": [
  {
   "cell_type": "code",
   "execution_count": 5,
   "id": "da3e0613-9a01-482b-be87-680cc9aff7ae",
   "metadata": {},
   "outputs": [
    {
     "data": {
      "text/plain": [
       "<module 'osm.osm' from '/home/ubuntu/earth-text/notebooks/osm/../../src/earthtext/osm/osm.py'>"
      ]
     },
     "execution_count": 5,
     "metadata": {},
     "output_type": "execute_result"
    }
   ],
   "source": [
    "import sys\n",
    "sys.path.append(\"../../src/earthtext\")\n",
    "\n",
    "from osm import osm\n",
    "import os\n",
    "from progressbar import progressbar as pbar\n",
    "\n",
    "from importlib import reload\n",
    "reload(osm)\n"
   ]
  },
  {
   "cell_type": "code",
   "execution_count": 2,
   "id": "539b43f2-de7d-4b01-908a-422e25fec57d",
   "metadata": {},
   "outputs": [],
   "source": [
    "chip_ids = [i.split(\".\")[0] for i in os.listdir(\"/opt/data/osm/california-parts/\") if i.endswith(\".pbf\")]\n"
   ]
  },
  {
   "cell_type": "code",
   "execution_count": 4,
   "id": "3b739171-36aa-4da8-88cc-f63b321c6884",
   "metadata": {},
   "outputs": [
    {
     "data": {
      "text/plain": [
       "984"
      ]
     },
     "execution_count": 4,
     "metadata": {},
     "output_type": "execute_result"
    }
   ],
   "source": [
    "len(chip_ids)"
   ]
  },
  {
   "cell_type": "code",
   "execution_count": 4,
   "id": "ff2dad19-7a79-44b2-827d-ca21b6b5e6ff",
   "metadata": {},
   "outputs": [
    {
     "name": "stderr",
     "output_type": "stream",
     "text": [
      "\u001b[38;2;0;255;0m100%\u001b[39m \u001b[38;2;0;255;0m(907 of 907)\u001b[39m |######################| Elapsed Time: 0:00:00 Time:  0:00:00\n"
     ]
    },
    {
     "name": "stdout",
     "output_type": "stream",
     "text": [
      "no objects found\n"
     ]
    }
   ],
   "source": [
    "for chip_id in pbar(chip_ids[77:]):\n",
    "    h = osm.OSMChipHandler(chips_path = \"/opt/data/osm/california-parts\", chip_id=chip_id, use_progress_bar=True)\n",
    "    h.apply(overwrite=False)\n"
   ]
  },
  {
   "cell_type": "code",
   "execution_count": 7,
   "id": "cbc11b7c-8409-4ff2-9092-77bbc14c3ca9",
   "metadata": {},
   "outputs": [
    {
     "data": {
      "text/plain": [
       "True"
      ]
     },
     "execution_count": 7,
     "metadata": {},
     "output_type": "execute_result"
    }
   ],
   "source": [
    "chip_id = '0d0d59f364f72'\n",
    "chip_id in chip_ids"
   ]
  },
  {
   "cell_type": "code",
   "execution_count": 8,
   "id": "199e7957-9548-441d-89f6-5c6c52a11515",
   "metadata": {},
   "outputs": [
    {
     "name": "stderr",
     "output_type": "stream",
     "text": [
      "/ |                               #             | 1725109 Elapsed Time: 0:07:33"
     ]
    },
    {
     "data": {
      "text/plain": [
       "<osm.osm.OSMChipHandler at 0x7f816c489eb0>"
      ]
     },
     "execution_count": 8,
     "metadata": {},
     "output_type": "execute_result"
    }
   ],
   "source": [
    "h = osm.OSMChipHandler(chips_path = \"/opt/data/osm/california-parts\", chip_id=chip_id, use_progress_bar=True)\n",
    "h.apply(overwrite=False)"
   ]
  },
  {
   "cell_type": "code",
   "execution_count": 4,
   "id": "74b35ef9-fa00-47a9-abdd-13e9c9343b39",
   "metadata": {},
   "outputs": [
    {
     "name": "stderr",
     "output_type": "stream",
     "text": [
      "\u001b[38;2;0;255;0m100%\u001b[39m \u001b[38;2;0;255;0m(907 of 907)\u001b[39m |######################| Elapsed Time: 0:00:00 Time:  0:00:000:00\n"
     ]
    },
    {
     "name": "stdout",
     "output_type": "stream",
     "text": [
      "no objects found\n"
     ]
    }
   ],
   "source": [
    "for chip_id in pbar(chip_ids[77:]):\n",
    "    try:\n",
    "        h = osm.OSMChipHandler(chips_path = \"/opt/data/osm/california-parts\", chip_id=chip_id, use_progress_bar=True)\n",
    "        h.apply(overwrite=False)\n",
    "    except Exception as e:\n",
    "        print (\"exception on chip\", chip_id, e)\n",
    "        print (\"----- continuing to next -----\")"
   ]
  },
  {
   "cell_type": "code",
   "execution_count": null,
   "id": "5dc3d935-3e02-4f70-b50c-dbed23e89249",
   "metadata": {},
   "outputs": [],
   "source": []
  }
 ],
 "metadata": {
  "kernelspec": {
   "display_name": "earth-text-env",
   "language": "python",
   "name": "earth-text-env"
  },
  "language_info": {
   "codemirror_mode": {
    "name": "ipython",
    "version": 3
   },
   "file_extension": ".py",
   "mimetype": "text/x-python",
   "name": "python",
   "nbconvert_exporter": "python",
   "pygments_lexer": "ipython3",
   "version": "3.12.2"
  }
 },
 "nbformat": 4,
 "nbformat_minor": 5
}
