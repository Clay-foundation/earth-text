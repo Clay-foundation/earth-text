{
 "cells": [
  {
   "cell_type": "code",
   "execution_count": null,
   "id": "d861a45b-e6ef-4e71-9757-b30f8f4f5706",
   "metadata": {},
   "outputs": [],
   "source": [
    "import sys\n",
    "sys.path.append(\"../../src/earthtext\")\n",
    "\n",
    "from osm import osm\n",
    "import os\n",
    "from progressbar import progressbar as pbar\n",
    "import shapely as sh \n",
    "from pyproj import CRS\n",
    "import numpy as np\n",
    "epsg4326 = CRS.from_epsg(4326)\n",
    "import geopandas as gpd\n",
    "import pandas as pd\n",
    "from importlib import reload\n",
    "from rlxutils import Command\n",
    "from time import time\n",
    "import folium\n",
    "reload(osm)"
   ]
  },
  {
   "cell_type": "markdown",
   "id": "f5f1246a-4e52-4e51-bd3a-bc20815b7eb0",
   "metadata": {},
   "source": [
    "## parts"
   ]
  },
  {
   "cell_type": "code",
   "execution_count": 2,
   "id": "fecd4b8e-d3ce-416c-a278-2bb19181f5ef",
   "metadata": {},
   "outputs": [],
   "source": [
    "part_ids = [i.split(\".\")[0] for i in os.listdir(\"/opt/data/osm/california-parts/\") if i.endswith(\".geojson\")]"
   ]
  },
  {
   "cell_type": "code",
   "execution_count": 3,
   "id": "76eb4139-50a7-4c6f-aabf-b21aea0abc7b",
   "metadata": {},
   "outputs": [],
   "source": [
    "orig = []\n",
    "for part_id in part_ids:\n",
    "    with open(f\"/opt/data/osm/california-parts/{part_id}.geojson\") as f:\n",
    "        geom = sh.from_geojson(f.read())\n",
    "        orig.append([part_id, geom])\n",
    "\n",
    "orig = gpd.GeoDataFrame(orig, columns=['part_id', 'geometry'], crs = epsg4326)"
   ]
  },
  {
   "cell_type": "markdown",
   "id": "4dba893c-e841-48cf-b706-765c5ebfa024",
   "metadata": {},
   "source": [
    "## chips"
   ]
  },
  {
   "cell_type": "code",
   "execution_count": 4,
   "id": "45c6a9cc-867c-43c4-b818-fac6d4a1de7c",
   "metadata": {},
   "outputs": [],
   "source": [
    "dg = gpd.read_file(\"/opt/data/california-worldcover-chips.fgb\")\n",
    "dg['chip_id'] = [osm.get_region_hash(i) for i in dg.geometry.values]"
   ]
  },
  {
   "cell_type": "code",
   "execution_count": 84,
   "id": "65bafc8f-6cc9-4df5-acca-f2624b88a40e",
   "metadata": {},
   "outputs": [
    {
     "data": {
      "text/plain": [
       "(111920, 4)"
      ]
     },
     "execution_count": 84,
     "metadata": {},
     "output_type": "execute_result"
    }
   ],
   "source": [
    "dg.shape"
   ]
  },
  {
   "cell_type": "code",
   "execution_count": 5,
   "id": "983bb122-c0ce-417b-ba06-cddc35f0cb33",
   "metadata": {},
   "outputs": [
    {
     "data": {
      "text/html": [
       "<div>\n",
       "<style scoped>\n",
       "    .dataframe tbody tr th:only-of-type {\n",
       "        vertical-align: middle;\n",
       "    }\n",
       "\n",
       "    .dataframe tbody tr th {\n",
       "        vertical-align: top;\n",
       "    }\n",
       "\n",
       "    .dataframe thead th {\n",
       "        text-align: right;\n",
       "    }\n",
       "</style>\n",
       "<table border=\"1\" class=\"dataframe\">\n",
       "  <thead>\n",
       "    <tr style=\"text-align: right;\">\n",
       "      <th></th>\n",
       "      <th>col</th>\n",
       "      <th>row</th>\n",
       "      <th>geometry</th>\n",
       "      <th>chip_id</th>\n",
       "    </tr>\n",
       "  </thead>\n",
       "  <tbody>\n",
       "    <tr>\n",
       "      <th>0</th>\n",
       "      <td>131584</td>\n",
       "      <td>119552</td>\n",
       "      <td>POLYGON ((-114.01333 32.01600, -114.01333 32.0...</td>\n",
       "      <td>272274b1ba17e</td>\n",
       "    </tr>\n",
       "    <tr>\n",
       "      <th>1</th>\n",
       "      <td>131584</td>\n",
       "      <td>119296</td>\n",
       "      <td>POLYGON ((-114.01333 32.03733, -114.01333 32.0...</td>\n",
       "      <td>257760bda8ca7</td>\n",
       "    </tr>\n",
       "    <tr>\n",
       "      <th>2</th>\n",
       "      <td>131328</td>\n",
       "      <td>119296</td>\n",
       "      <td>POLYGON ((-114.03467 32.03733, -114.03467 32.0...</td>\n",
       "      <td>0630b39477419</td>\n",
       "    </tr>\n",
       "    <tr>\n",
       "      <th>3</th>\n",
       "      <td>131328</td>\n",
       "      <td>119552</td>\n",
       "      <td>POLYGON ((-114.03467 32.01600, -114.03467 32.0...</td>\n",
       "      <td>166f6e23d38eb</td>\n",
       "    </tr>\n",
       "    <tr>\n",
       "      <th>4</th>\n",
       "      <td>131072</td>\n",
       "      <td>119552</td>\n",
       "      <td>POLYGON ((-114.05600 32.01600, -114.05600 32.0...</td>\n",
       "      <td>0cb98e9e9788e</td>\n",
       "    </tr>\n",
       "  </tbody>\n",
       "</table>\n",
       "</div>"
      ],
      "text/plain": [
       "      col     row                                           geometry  \\\n",
       "0  131584  119552  POLYGON ((-114.01333 32.01600, -114.01333 32.0...   \n",
       "1  131584  119296  POLYGON ((-114.01333 32.03733, -114.01333 32.0...   \n",
       "2  131328  119296  POLYGON ((-114.03467 32.03733, -114.03467 32.0...   \n",
       "3  131328  119552  POLYGON ((-114.03467 32.01600, -114.03467 32.0...   \n",
       "4  131072  119552  POLYGON ((-114.05600 32.01600, -114.05600 32.0...   \n",
       "\n",
       "         chip_id  \n",
       "0  272274b1ba17e  \n",
       "1  257760bda8ca7  \n",
       "2  0630b39477419  \n",
       "3  166f6e23d38eb  \n",
       "4  0cb98e9e9788e  "
      ]
     },
     "execution_count": 5,
     "metadata": {},
     "output_type": "execute_result"
    }
   ],
   "source": [
    "dg.head()"
   ]
  },
  {
   "cell_type": "markdown",
   "id": "95176c28-6210-45a7-8107-33efb191f544",
   "metadata": {},
   "source": [
    "# check where are the chips with no osm data"
   ]
  },
  {
   "cell_type": "code",
   "execution_count": 82,
   "id": "78b1e291-4431-440c-a578-41e73acfda76",
   "metadata": {},
   "outputs": [
    {
     "data": {
      "text/plain": [
       "(19480, 4)"
      ]
     },
     "execution_count": 82,
     "metadata": {},
     "output_type": "execute_result"
    }
   ],
   "source": [
    "dg_sample = dg[[not os.path.isfile(f\"/opt/data/california-worldcover-chips/osm/{i}.parquet\") for i in dg.chip_id]]\n",
    "dg_sample.shape"
   ]
  },
  {
   "cell_type": "code",
   "execution_count": null,
   "id": "7c277d22-4bdb-483a-ae5b-db7fb50d36ca",
   "metadata": {},
   "outputs": [],
   "source": [
    "dg_sample.explore()"
   ]
  },
  {
   "cell_type": "code",
   "execution_count": null,
   "id": "a9e7d008-f78e-4741-a91c-47dccc5f0bfe",
   "metadata": {},
   "outputs": [],
   "source": []
  },
  {
   "cell_type": "code",
   "execution_count": 86,
   "id": "68f26934-874b-4ecb-831f-b05962b47418",
   "metadata": {},
   "outputs": [
    {
     "data": {
      "text/plain": [
       "(92440, 4)"
      ]
     },
     "execution_count": 86,
     "metadata": {},
     "output_type": "execute_result"
    }
   ],
   "source": [
    "# get only chips with data\n",
    "dgd = dg[[os.path.isfile(f\"/opt/data/california-worldcover-chips/osm/{i}.parquet\") for i in dg.chip_id]]\n",
    "dgd.shape"
   ]
  },
  {
   "cell_type": "code",
   "execution_count": 87,
   "id": "fac2f2db-2b2f-437b-b413-a870e97d64cc",
   "metadata": {},
   "outputs": [],
   "source": [
    "dgd.to_parquet('/opt/data/california-worldcover-chips-osm.parquet')"
   ]
  },
  {
   "cell_type": "code",
   "execution_count": 770,
   "id": "a54f1547-37a9-45f8-a940-7babce03f9d2",
   "metadata": {},
   "outputs": [
    {
     "name": "stdout",
     "output_type": "stream",
     "text": [
      "395\n"
     ]
    },
    {
     "data": {
      "text/plain": [
       "(395, 7)"
      ]
     },
     "execution_count": 770,
     "metadata": {},
     "output_type": "execute_result"
    }
   ],
   "source": [
    "reload(osm)\n",
    "while (len(frames)<10):\n",
    "    for _, dg_sample in dgd.sample(1).iterrows():\n",
    "        print (\".\", end=\"\", flush=True)\n",
    "        chip_id = dg_sample.chip_id\n",
    "        z = gpd.read_parquet(f\"/opt/data/california-worldcover-chips/osm/{chip_id}.parquet\")\n",
    "        z['tags'] = [eval(i) if isinstance(i, str) else i for i in z.tags]\n",
    "        z['tags'] = [osm.clean_tags(t) for t in z.tags]\n",
    "        z = z[[len(t)>0 for t in z['tags']]]\n",
    "        if len(z)==0:\n",
    "            print (f\"skipping {chip_id}\", end=\"\")\n",
    "            continue\n",
    "\n",
    "        \n",
    "        frames.append(z)\n",
    "print (len(frames))\n",
    "frames.shape"
   ]
  },
  {
   "cell_type": "code",
   "execution_count": 771,
   "id": "0a614334-b9a0-486b-a424-e7f0f644b877",
   "metadata": {},
   "outputs": [
    {
     "data": {
      "text/html": [
       "<div>\n",
       "<style scoped>\n",
       "    .dataframe tbody tr th:only-of-type {\n",
       "        vertical-align: middle;\n",
       "    }\n",
       "\n",
       "    .dataframe tbody tr th {\n",
       "        vertical-align: top;\n",
       "    }\n",
       "\n",
       "    .dataframe thead th {\n",
       "        text-align: right;\n",
       "    }\n",
       "</style>\n",
       "<table border=\"1\" class=\"dataframe\">\n",
       "  <thead>\n",
       "    <tr style=\"text-align: right;\">\n",
       "      <th></th>\n",
       "      <th>0</th>\n",
       "    </tr>\n",
       "  </thead>\n",
       "  <tbody>\n",
       "    <tr>\n",
       "      <th>amenity=parking</th>\n",
       "      <td>2.0</td>\n",
       "    </tr>\n",
       "    <tr>\n",
       "      <th>amenity=university</th>\n",
       "      <td>1.0</td>\n",
       "    </tr>\n",
       "    <tr>\n",
       "      <th>bridge=yes</th>\n",
       "      <td>1.0</td>\n",
       "    </tr>\n",
       "    <tr>\n",
       "      <th>building=commercial</th>\n",
       "      <td>1.0</td>\n",
       "    </tr>\n",
       "    <tr>\n",
       "      <th>building=house</th>\n",
       "      <td>2.0</td>\n",
       "    </tr>\n",
       "    <tr>\n",
       "      <th>building=university</th>\n",
       "      <td>8.0</td>\n",
       "    </tr>\n",
       "    <tr>\n",
       "      <th>building=yes</th>\n",
       "      <td>11.0</td>\n",
       "    </tr>\n",
       "    <tr>\n",
       "      <th>crop=grape</th>\n",
       "      <td>13.0</td>\n",
       "    </tr>\n",
       "    <tr>\n",
       "      <th>highway=motorway</th>\n",
       "      <td>2.0</td>\n",
       "    </tr>\n",
       "    <tr>\n",
       "      <th>highway=path</th>\n",
       "      <td>1.0</td>\n",
       "    </tr>\n",
       "    <tr>\n",
       "      <th>highway=residential</th>\n",
       "      <td>28.0</td>\n",
       "    </tr>\n",
       "    <tr>\n",
       "      <th>highway=secondary</th>\n",
       "      <td>1.0</td>\n",
       "    </tr>\n",
       "    <tr>\n",
       "      <th>highway=service</th>\n",
       "      <td>99.0</td>\n",
       "    </tr>\n",
       "    <tr>\n",
       "      <th>highway=track</th>\n",
       "      <td>65.0</td>\n",
       "    </tr>\n",
       "    <tr>\n",
       "      <th>highway=unclassified</th>\n",
       "      <td>3.0</td>\n",
       "    </tr>\n",
       "    <tr>\n",
       "      <th>landuse=farm</th>\n",
       "      <td>1.0</td>\n",
       "    </tr>\n",
       "    <tr>\n",
       "      <th>landuse=farmland</th>\n",
       "      <td>9.0</td>\n",
       "    </tr>\n",
       "    <tr>\n",
       "      <th>landuse=farmyard</th>\n",
       "      <td>1.0</td>\n",
       "    </tr>\n",
       "    <tr>\n",
       "      <th>landuse=orchard</th>\n",
       "      <td>6.0</td>\n",
       "    </tr>\n",
       "    <tr>\n",
       "      <th>landuse=quarry</th>\n",
       "      <td>2.0</td>\n",
       "    </tr>\n",
       "    <tr>\n",
       "      <th>landuse=residential</th>\n",
       "      <td>1.0</td>\n",
       "    </tr>\n",
       "    <tr>\n",
       "      <th>landuse=vineyard</th>\n",
       "      <td>13.0</td>\n",
       "    </tr>\n",
       "    <tr>\n",
       "      <th>leisure=swimming_pool</th>\n",
       "      <td>1.0</td>\n",
       "    </tr>\n",
       "    <tr>\n",
       "      <th>natural=mountain_range</th>\n",
       "      <td>1.0</td>\n",
       "    </tr>\n",
       "    <tr>\n",
       "      <th>natural=scrub</th>\n",
       "      <td>2.0</td>\n",
       "    </tr>\n",
       "    <tr>\n",
       "      <th>natural=valley</th>\n",
       "      <td>2.0</td>\n",
       "    </tr>\n",
       "    <tr>\n",
       "      <th>natural=water</th>\n",
       "      <td>4.0</td>\n",
       "    </tr>\n",
       "    <tr>\n",
       "      <th>power=line</th>\n",
       "      <td>3.0</td>\n",
       "    </tr>\n",
       "    <tr>\n",
       "      <th>railway=abandoned</th>\n",
       "      <td>4.0</td>\n",
       "    </tr>\n",
       "    <tr>\n",
       "      <th>railway=rail</th>\n",
       "      <td>6.0</td>\n",
       "    </tr>\n",
       "    <tr>\n",
       "      <th>service=driveway</th>\n",
       "      <td>19.0</td>\n",
       "    </tr>\n",
       "    <tr>\n",
       "      <th>smoothness=bad</th>\n",
       "      <td>15.0</td>\n",
       "    </tr>\n",
       "    <tr>\n",
       "      <th>smoothness=very_bad</th>\n",
       "      <td>10.0</td>\n",
       "    </tr>\n",
       "    <tr>\n",
       "      <th>surface=asphalt</th>\n",
       "      <td>6.0</td>\n",
       "    </tr>\n",
       "    <tr>\n",
       "      <th>surface=dirt</th>\n",
       "      <td>14.0</td>\n",
       "    </tr>\n",
       "    <tr>\n",
       "      <th>surface=unpaved</th>\n",
       "      <td>28.0</td>\n",
       "    </tr>\n",
       "    <tr>\n",
       "      <th>telescope:type=radio</th>\n",
       "      <td>14.0</td>\n",
       "    </tr>\n",
       "    <tr>\n",
       "      <th>tunnel=culvert</th>\n",
       "      <td>1.0</td>\n",
       "    </tr>\n",
       "    <tr>\n",
       "      <th>usage=science</th>\n",
       "      <td>6.0</td>\n",
       "    </tr>\n",
       "    <tr>\n",
       "      <th>water=pond</th>\n",
       "      <td>1.0</td>\n",
       "    </tr>\n",
       "    <tr>\n",
       "      <th>waterway=canal</th>\n",
       "      <td>3.0</td>\n",
       "    </tr>\n",
       "    <tr>\n",
       "      <th>waterway=ditch</th>\n",
       "      <td>2.0</td>\n",
       "    </tr>\n",
       "    <tr>\n",
       "      <th>waterway=river</th>\n",
       "      <td>2.0</td>\n",
       "    </tr>\n",
       "    <tr>\n",
       "      <th>waterway=stream</th>\n",
       "      <td>51.0</td>\n",
       "    </tr>\n",
       "  </tbody>\n",
       "</table>\n",
       "</div>"
      ],
      "text/plain": [
       "                           0\n",
       "amenity=parking          2.0\n",
       "amenity=university       1.0\n",
       "bridge=yes               1.0\n",
       "building=commercial      1.0\n",
       "building=house           2.0\n",
       "building=university      8.0\n",
       "building=yes            11.0\n",
       "crop=grape              13.0\n",
       "highway=motorway         2.0\n",
       "highway=path             1.0\n",
       "highway=residential     28.0\n",
       "highway=secondary        1.0\n",
       "highway=service         99.0\n",
       "highway=track           65.0\n",
       "highway=unclassified     3.0\n",
       "landuse=farm             1.0\n",
       "landuse=farmland         9.0\n",
       "landuse=farmyard         1.0\n",
       "landuse=orchard          6.0\n",
       "landuse=quarry           2.0\n",
       "landuse=residential      1.0\n",
       "landuse=vineyard        13.0\n",
       "leisure=swimming_pool    1.0\n",
       "natural=mountain_range   1.0\n",
       "natural=scrub            2.0\n",
       "natural=valley           2.0\n",
       "natural=water            4.0\n",
       "power=line               3.0\n",
       "railway=abandoned        4.0\n",
       "railway=rail             6.0\n",
       "service=driveway        19.0\n",
       "smoothness=bad          15.0\n",
       "smoothness=very_bad     10.0\n",
       "surface=asphalt          6.0\n",
       "surface=dirt            14.0\n",
       "surface=unpaved         28.0\n",
       "telescope:type=radio    14.0\n",
       "tunnel=culvert           1.0\n",
       "usage=science            6.0\n",
       "water=pond               1.0\n",
       "waterway=canal           3.0\n",
       "waterway=ditch           2.0\n",
       "waterway=river           2.0\n",
       "waterway=stream         51.0"
      ]
     },
     "execution_count": 771,
     "metadata": {},
     "output_type": "execute_result"
    }
   ],
   "source": [
    "k = [pd.Series([f\"{k}={v}\" for k,v in t.items()]).value_counts() for t in frames[frames['kind']=='way'].tags]\n",
    "k = pd.DataFrame(k).fillna(0).sum().sort_index()\n",
    "k = pd.DataFrame(k)\n",
    "k"
   ]
  },
  {
   "cell_type": "code",
   "execution_count": 772,
   "id": "7818d831-9d22-4f09-a243-0bfa5d80ba63",
   "metadata": {},
   "outputs": [
    {
     "data": {
      "text/plain": [
       "['amenity=parking',\n",
       " 'amenity=university',\n",
       " 'bridge=yes',\n",
       " 'building=commercial',\n",
       " 'building=house',\n",
       " 'building=university',\n",
       " 'building=yes',\n",
       " 'crop=grape',\n",
       " 'highway=motorway',\n",
       " 'highway=path',\n",
       " 'highway=residential',\n",
       " 'highway=secondary',\n",
       " 'highway=service',\n",
       " 'highway=track',\n",
       " 'highway=unclassified',\n",
       " 'landuse=farm',\n",
       " 'landuse=farmland',\n",
       " 'landuse=farmyard',\n",
       " 'landuse=orchard',\n",
       " 'landuse=quarry',\n",
       " 'landuse=residential',\n",
       " 'landuse=vineyard',\n",
       " 'leisure=swimming_pool',\n",
       " 'natural=mountain_range',\n",
       " 'natural=scrub',\n",
       " 'natural=valley',\n",
       " 'natural=water',\n",
       " 'power=line',\n",
       " 'railway=abandoned',\n",
       " 'railway=rail',\n",
       " 'service=driveway',\n",
       " 'smoothness=bad',\n",
       " 'smoothness=very_bad',\n",
       " 'surface=asphalt',\n",
       " 'surface=dirt',\n",
       " 'surface=unpaved',\n",
       " 'telescope:type=radio',\n",
       " 'tunnel=culvert',\n",
       " 'usage=science',\n",
       " 'water=pond',\n",
       " 'waterway=canal',\n",
       " 'waterway=ditch',\n",
       " 'waterway=river',\n",
       " 'waterway=stream']"
      ]
     },
     "execution_count": 772,
     "metadata": {},
     "output_type": "execute_result"
    }
   ],
   "source": [
    "list(k.index)"
   ]
  },
  {
   "cell_type": "code",
   "execution_count": 773,
   "id": "800baa2a-a9be-4fe1-924d-652359f4a5b2",
   "metadata": {},
   "outputs": [
    {
     "data": {
      "image/png": "[encoded data removed]",
      "text/plain": [
       "<Figure size 3000x300 with 1 Axes>"
      ]
     },
     "metadata": {},
     "output_type": "display_data"
    }
   ],
   "source": [
    "k.plot(kind='bar', figsize=(30,3))\n",
    "import matplotlib.pyplot as plt\n",
    "plt.grid();"
   ]
  },
  {
   "cell_type": "code",
   "execution_count": null,
   "id": "3f76bede-5a2a-4608-8ec3-24c602636b0b",
   "metadata": {},
   "outputs": [],
   "source": []
  },
  {
   "cell_type": "code",
   "execution_count": null,
   "id": "68999468-959c-41be-93e1-4febb05a4be6",
   "metadata": {},
   "outputs": [],
   "source": []
  },
  {
   "cell_type": "code",
   "execution_count": null,
   "id": "81654d66-06e8-4cd2-9c47-8e1ea76e976f",
   "metadata": {},
   "outputs": [],
   "source": [
    "frames.explore()"
   ]
  },
  {
   "cell_type": "code",
   "execution_count": null,
   "id": "f6064887-5e42-4c35-bc44-622a3f5440f2",
   "metadata": {},
   "outputs": [],
   "source": [
    "frames.explore(tiles='https://services.arcgisonline.com/ArcGIS/rest/services/World_Imagery/MapServer/tile/{z}/{y}/{x}', \n",
    "               attr='esri')#,height = 500)\n"
   ]
  },
  {
   "cell_type": "code",
   "execution_count": 213,
   "id": "1581aad2-4b1c-4d7a-9a3b-46355e89adb5",
   "metadata": {},
   "outputs": [
    {
     "data": {
      "text/plain": [
       "natural=volcano           2.0\n",
       "volcano:status=dormant    2.0\n",
       "volcano:type=scoria       2.0\n",
       "highway=track             2.0\n",
       "railway=abandoned         1.0\n",
       "dtype: float64"
      ]
     },
     "execution_count": 213,
     "metadata": {},
     "output_type": "execute_result"
    }
   ],
   "source": [
    "k = [pd.Series([f\"{k}={v}\" for k,v in t.items()]).value_counts() for t in z.tags]\n",
    "k = pd.DataFrame(k).fillna(0).sum()\n",
    "k"
   ]
  },
  {
   "cell_type": "code",
   "execution_count": null,
   "id": "d9c7a48e-8260-4ed1-ba7a-22cd2e355db2",
   "metadata": {},
   "outputs": [],
   "source": []
  },
  {
   "cell_type": "code",
   "execution_count": null,
   "id": "2543f583-4b52-4c5a-bf83-1a0c8289a7bb",
   "metadata": {},
   "outputs": [],
   "source": []
  },
  {
   "cell_type": "code",
   "execution_count": null,
   "id": "85da2fe6-fe05-4aa9-944b-09d53e4aff20",
   "metadata": {},
   "outputs": [],
   "source": []
  },
  {
   "cell_type": "code",
   "execution_count": null,
   "id": "b67aae35-f1d6-418d-8641-7e5da0d5de54",
   "metadata": {},
   "outputs": [],
   "source": []
  },
  {
   "cell_type": "code",
   "execution_count": null,
   "id": "6d55b947-7f77-4455-84cb-1376b910d8c2",
   "metadata": {},
   "outputs": [],
   "source": [
    "z.explore()"
   ]
  },
  {
   "cell_type": "code",
   "execution_count": 110,
   "id": "395cd57a-5dc5-4197-bc48-8f308034f4b1",
   "metadata": {},
   "outputs": [
    {
     "data": {
      "text/plain": [
       "highway=residential                     219.0\n",
       "waterway=ditch                           19.0\n",
       "waterway=stream                          23.0\n",
       "intermittent=yes                         20.0\n",
       "natural=water                             3.0\n",
       "                                        ...  \n",
       "description=vacant or disturbed land      1.0\n",
       "surface=fine_gravel                       1.0\n",
       "building=school                           6.0\n",
       "crop=grape                                3.0\n",
       "landuse=vineyard                          3.0\n",
       "Length: 302, dtype: float64"
      ]
     },
     "execution_count": 110,
     "metadata": {},
     "output_type": "execute_result"
    }
   ],
   "source": [
    "pd.DataFrame(k).fillna(0).sum()"
   ]
  },
  {
   "cell_type": "code",
   "execution_count": null,
   "id": "51a03484-a9d8-4179-9899-10cd7858a27f",
   "metadata": {},
   "outputs": [],
   "source": []
  }
 ],
 "metadata": {
  "kernelspec": {
   "display_name": "earth-text-env",
   "language": "python",
   "name": "earth-text-env"
  },
  "language_info": {
   "codemirror_mode": {
    "name": "ipython",
    "version": 3
   },
   "file_extension": ".py",
   "mimetype": "text/x-python",
   "name": "python",
   "nbconvert_exporter": "python",
   "pygments_lexer": "ipython3",
   "version": "3.12.2"
  }
 },
 "nbformat": 4,
 "nbformat_minor": 5
}
