{
 "cells": [
  {
   "cell_type": "code",
   "execution_count": 21,
   "id": "d861a45b-e6ef-4e71-9757-b30f8f4f5706",
   "metadata": {},
   "outputs": [
    {
     "data": {
      "text/plain": [
       "<module 'osm.osm' from '/home/ubuntu/earth-text/notebooks/osm/../../src/earthtext/osm/osm.py'>"
      ]
     },
     "execution_count": 21,
     "metadata": {},
     "output_type": "execute_result"
    }
   ],
   "source": [
    "import sys\n",
    "sys.path.append(\"../../src/earthtext\")\n",
    "\n",
    "from osm import osm\n",
    "import os\n",
    "from progressbar import progressbar as pbar\n",
    "import shapely as sh \n",
    "from pyproj import CRS\n",
    "import numpy as np\n",
    "epsg4326 = CRS.from_epsg(4326)\n",
    "import geopandas as gpd\n",
    "import pandas as pd\n",
    "from importlib import reload\n",
    "from rlxutils import Command\n",
    "from time import time\n",
    "import folium\n",
    "reload(osm)"
   ]
  },
  {
   "cell_type": "markdown",
   "id": "f5f1246a-4e52-4e51-bd3a-bc20815b7eb0",
   "metadata": {},
   "source": [
    "## parts"
   ]
  },
  {
   "cell_type": "code",
   "execution_count": 3,
   "id": "fecd4b8e-d3ce-416c-a278-2bb19181f5ef",
   "metadata": {},
   "outputs": [],
   "source": [
    "part_ids = [i.split(\".\")[0] for i in os.listdir(\"/opt/data/osm/california-parts/\") if i.endswith(\".geojson\")]"
   ]
  },
  {
   "cell_type": "code",
   "execution_count": 4,
   "id": "76eb4139-50a7-4c6f-aabf-b21aea0abc7b",
   "metadata": {},
   "outputs": [],
   "source": [
    "orig = []\n",
    "for part_id in part_ids:\n",
    "    with open(f\"/opt/data/osm/california-parts/{part_id}.geojson\") as f:\n",
    "        geom = sh.from_geojson(f.read())\n",
    "        orig.append([part_id, geom])\n",
    "\n",
    "orig = gpd.GeoDataFrame(orig, columns=['part_id', 'geometry'], crs = epsg4326)"
   ]
  },
  {
   "cell_type": "markdown",
   "id": "4dba893c-e841-48cf-b706-765c5ebfa024",
   "metadata": {},
   "source": [
    "## chips"
   ]
  },
  {
   "cell_type": "code",
   "execution_count": 5,
   "id": "45c6a9cc-867c-43c4-b818-fac6d4a1de7c",
   "metadata": {},
   "outputs": [],
   "source": [
    "dg = gpd.read_file(\"/opt/data/california-worldcover-chips.fgb\")\n",
    "dg['chip_id'] = [osm.get_region_hash(i) for i in dg.geometry.values]"
   ]
  },
  {
   "cell_type": "code",
   "execution_count": 6,
   "id": "983bb122-c0ce-417b-ba06-cddc35f0cb33",
   "metadata": {},
   "outputs": [
    {
     "data": {
      "text/html": [
       "<div>\n",
       "<style scoped>\n",
       "    .dataframe tbody tr th:only-of-type {\n",
       "        vertical-align: middle;\n",
       "    }\n",
       "\n",
       "    .dataframe tbody tr th {\n",
       "        vertical-align: top;\n",
       "    }\n",
       "\n",
       "    .dataframe thead th {\n",
       "        text-align: right;\n",
       "    }\n",
       "</style>\n",
       "<table border=\"1\" class=\"dataframe\">\n",
       "  <thead>\n",
       "    <tr style=\"text-align: right;\">\n",
       "      <th></th>\n",
       "      <th>col</th>\n",
       "      <th>row</th>\n",
       "      <th>geometry</th>\n",
       "      <th>chip_id</th>\n",
       "    </tr>\n",
       "  </thead>\n",
       "  <tbody>\n",
       "    <tr>\n",
       "      <th>0</th>\n",
       "      <td>131584</td>\n",
       "      <td>119552</td>\n",
       "      <td>POLYGON ((-114.01333 32.01600, -114.01333 32.0...</td>\n",
       "      <td>272274b1ba17e</td>\n",
       "    </tr>\n",
       "    <tr>\n",
       "      <th>1</th>\n",
       "      <td>131584</td>\n",
       "      <td>119296</td>\n",
       "      <td>POLYGON ((-114.01333 32.03733, -114.01333 32.0...</td>\n",
       "      <td>257760bda8ca7</td>\n",
       "    </tr>\n",
       "    <tr>\n",
       "      <th>2</th>\n",
       "      <td>131328</td>\n",
       "      <td>119296</td>\n",
       "      <td>POLYGON ((-114.03467 32.03733, -114.03467 32.0...</td>\n",
       "      <td>0630b39477419</td>\n",
       "    </tr>\n",
       "    <tr>\n",
       "      <th>3</th>\n",
       "      <td>131328</td>\n",
       "      <td>119552</td>\n",
       "      <td>POLYGON ((-114.03467 32.01600, -114.03467 32.0...</td>\n",
       "      <td>166f6e23d38eb</td>\n",
       "    </tr>\n",
       "    <tr>\n",
       "      <th>4</th>\n",
       "      <td>131072</td>\n",
       "      <td>119552</td>\n",
       "      <td>POLYGON ((-114.05600 32.01600, -114.05600 32.0...</td>\n",
       "      <td>0cb98e9e9788e</td>\n",
       "    </tr>\n",
       "  </tbody>\n",
       "</table>\n",
       "</div>"
      ],
      "text/plain": [
       "      col     row                                           geometry  \\\n",
       "0  131584  119552  POLYGON ((-114.01333 32.01600, -114.01333 32.0...   \n",
       "1  131584  119296  POLYGON ((-114.01333 32.03733, -114.01333 32.0...   \n",
       "2  131328  119296  POLYGON ((-114.03467 32.03733, -114.03467 32.0...   \n",
       "3  131328  119552  POLYGON ((-114.03467 32.01600, -114.03467 32.0...   \n",
       "4  131072  119552  POLYGON ((-114.05600 32.01600, -114.05600 32.0...   \n",
       "\n",
       "         chip_id  \n",
       "0  272274b1ba17e  \n",
       "1  257760bda8ca7  \n",
       "2  0630b39477419  \n",
       "3  166f6e23d38eb  \n",
       "4  0cb98e9e9788e  "
      ]
     },
     "execution_count": 6,
     "metadata": {},
     "output_type": "execute_result"
    }
   ],
   "source": [
    "dg.head()"
   ]
  },
  {
   "cell_type": "markdown",
   "id": "95176c28-6210-45a7-8107-33efb191f544",
   "metadata": {},
   "source": [
    "# check where are the chips with no osm data"
   ]
  },
  {
   "cell_type": "code",
   "execution_count": 92,
   "id": "78b1e291-4431-440c-a578-41e73acfda76",
   "metadata": {},
   "outputs": [
    {
     "data": {
      "text/plain": [
       "(18557, 4)"
      ]
     },
     "execution_count": 92,
     "metadata": {},
     "output_type": "execute_result"
    }
   ],
   "source": [
    "dg_sample = dg[[not os.path.isfile(f\"/opt/data/california-worldcover-chips/osm/{i}.parquet\") for i in dg.chip_id]]\n",
    "dg_sample.shape"
   ]
  },
  {
   "cell_type": "code",
   "execution_count": null,
   "id": "7c277d22-4bdb-483a-ae5b-db7fb50d36ca",
   "metadata": {},
   "outputs": [],
   "source": [
    "dg_sample.explore()"
   ]
  },
  {
   "cell_type": "code",
   "execution_count": null,
   "id": "a9e7d008-f78e-4741-a91c-47dccc5f0bfe",
   "metadata": {},
   "outputs": [],
   "source": []
  },
  {
   "cell_type": "code",
   "execution_count": 7,
   "id": "68f26934-874b-4ecb-831f-b05962b47418",
   "metadata": {},
   "outputs": [
    {
     "data": {
      "text/plain": [
       "(93363, 4)"
      ]
     },
     "execution_count": 7,
     "metadata": {},
     "output_type": "execute_result"
    }
   ],
   "source": [
    "# get only chips with data\n",
    "dgd = dg[[os.path.isfile(f\"/opt/data/california-worldcover-chips/osm/{i}.parquet\") for i in dg.chip_id]]\n",
    "dgd.shape"
   ]
  },
  {
   "cell_type": "code",
   "execution_count": 8,
   "id": "9d15894a-d16d-45da-b38b-b916c365f2df",
   "metadata": {},
   "outputs": [
    {
     "name": "stderr",
     "output_type": "stream",
     "text": [
      "/ |    #                                             | 27 Elapsed Time: 0:00:00"
     ]
    }
   ],
   "source": [
    "dintersects_orig = []\n",
    "orig_parts = []\n",
    "for _,di in pbar(dgd.sample(10000).iterrows(), max_val = len(dgd)):\n",
    "    #n_intersects = sum([oi.intersects(di.geometry) for oi in orig.geometry])\n",
    "    intersects = orig[[oi.intersects(di.geometry) for oi in orig.geometry]]\n",
    "    orig_parts.append(intersects)\n",
    "    n_intersects = len(intersects)\n",
    "    if n_intersects>1:\n",
    "        dintersects_orig.append([di.chip_id, n_intersects])\n",
    "    if n_intersects>2:\n",
    "        break\n"
   ]
  },
  {
   "cell_type": "code",
   "execution_count": 10,
   "id": "70eefe24-cea0-4357-8f87-8505986c9c92",
   "metadata": {},
   "outputs": [],
   "source": [
    "chip_ids = [i[0] for i in dintersects_orig if i[1]>1]"
   ]
  },
  {
   "cell_type": "code",
   "execution_count": 11,
   "id": "44052787-b90c-47df-b901-372c22961682",
   "metadata": {},
   "outputs": [],
   "source": [
    "dgdi = dgd[dgd.chip_id.isin(chip_ids)]"
   ]
  },
  {
   "cell_type": "code",
   "execution_count": 18,
   "id": "a54f1547-37a9-45f8-a940-7babce03f9d2",
   "metadata": {},
   "outputs": [
    {
     "name": "stderr",
     "output_type": "stream",
     "text": [
      "\u001b[38;2;255;33;0m  5%\u001b[39m \u001b[38;2;255;33;0m(2 of 40)\u001b[39m |#                        | Elapsed Time: 0:00:00 ETA:   0:00:01"
     ]
    },
    {
     "name": "stdout",
     "output_type": "stream",
     "text": [
      "skipping 157a389436150\n"
     ]
    },
    {
     "name": "stderr",
     "output_type": "stream",
     "text": [
      "\u001b[38;2;0;255;0m100%\u001b[39m \u001b[38;2;0;255;0m(40 of 40)\u001b[39m |########################| Elapsed Time: 0:00:03 Time:  0:00:030000\n"
     ]
    },
    {
     "name": "stdout",
     "output_type": "stream",
     "text": [
      "skipping 0ca60aa0cfac9\n",
      "skipping 2e0aaa15f32bd\n"
     ]
    }
   ],
   "source": [
    "frames = []\n",
    "#for _, dg_sample in pbar(dgdi.iterrows(), max_val=len(dgdi)):\n",
    "for _ in pbar(range(40)):\n",
    "    _dg_sample = dgd.sample(1)\n",
    "    dg_sample = _dg_sample.iloc[0]\n",
    "    chip_id = dg_sample.chip_id\n",
    "    z = gpd.read_parquet(f\"/opt/data/california-worldcover-chips/osm/{chip_id}.parquet\")\n",
    "    if len(z)==0:\n",
    "        print (f\"skipping {chip_id}\")\n",
    "        continue\n",
    "    z['tags'] = [osm.tags2str({k:v for k,v in t.items() if v is not None}) for t in z.tags]\n",
    "    z['chip_id'] = chip_id\n",
    "    \n",
    "    g = dg_sample.geometry\n",
    "    zi = z[[i.intersects(g) for i in z.geometry]]\n",
    "    zi['geometry'] = [i.intersection(g) for i in zi.geometry]\n",
    "    frames.append(zi)\n",
    "    #frames.append(_dg_sample)\n",
    "\n",
    "frames = pd.concat(frames)"
   ]
  },
  {
   "cell_type": "code",
   "execution_count": null,
   "id": "f2f5f534-c99d-4a1c-87e9-0aba5d6508fe",
   "metadata": {},
   "outputs": [],
   "source": [
    "frames.explore(height=500)"
   ]
  },
  {
   "cell_type": "code",
   "execution_count": null,
   "id": "f6064887-5e42-4c35-bc44-622a3f5440f2",
   "metadata": {},
   "outputs": [],
   "source": [
    "frames.explore(tiles='https://services.arcgisonline.com/ArcGIS/rest/services/World_Imagery/MapServer/tile/{z}/{y}/{x}', \n",
    "               attr='esri',height = 500)\n"
   ]
  },
  {
   "cell_type": "code",
   "execution_count": null,
   "id": "d84f48fa-8055-4b96-8216-f899aaf81489",
   "metadata": {},
   "outputs": [],
   "source": []
  },
  {
   "cell_type": "code",
   "execution_count": null,
   "id": "dd9f9082-64b4-471e-ab07-7c938a17eaea",
   "metadata": {},
   "outputs": [],
   "source": []
  }
 ],
 "metadata": {
  "kernelspec": {
   "display_name": "earth-text-env",
   "language": "python",
   "name": "earth-text-env"
  },
  "language_info": {
   "codemirror_mode": {
    "name": "ipython",
    "version": 3
   },
   "file_extension": ".py",
   "mimetype": "text/x-python",
   "name": "python",
   "nbconvert_exporter": "python",
   "pygments_lexer": "ipython3",
   "version": "3.12.2"
  }
 },
 "nbformat": 4,
 "nbformat_minor": 5
}
